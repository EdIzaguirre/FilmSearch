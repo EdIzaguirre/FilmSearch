{
 "cells": [
  {
   "cell_type": "markdown",
   "metadata": {},
   "source": [
    "# Imports"
   ]
  },
  {
   "cell_type": "code",
   "execution_count": 9,
   "metadata": {},
   "outputs": [
    {
     "data": {
      "text/plain": [
       "True"
      ]
     },
     "execution_count": 9,
     "metadata": {},
     "output_type": "execute_result"
    }
   ],
   "source": [
    "from langchain.chains.api import tmdb_docs\n",
    "import os\n",
    "from langchain_openai import OpenAI, ChatOpenAI\n",
    "from langchain.chains import APIChain\n",
    "\n",
    "from dotenv import load_dotenv\n",
    "load_dotenv()"
   ]
  },
  {
   "cell_type": "code",
   "execution_count": 2,
   "metadata": {},
   "outputs": [
    {
     "name": "stdout",
     "output_type": "stream",
     "text": [
      "API documentation:\n",
      "Endpoint: https://api.themoviedb.org/3\n",
      "GET /search/movie\n",
      "\n",
      "This API is for searching movies.\n",
      "\n",
      "Query parameters table:\n",
      "language | string | Pass a ISO 639-1 value to display translated data for the fields that support it. minLength: 2, pattern: ([a-z]{2})-([A-Z]{2}), default: en-US | optional\n",
      "query | string | Pass a text query to search. This value should be URI encoded. minLength: 1 | required\n",
      "page | integer | Specify which page to query. minimum: 1, maximum: 1000, default: 1 | optional\n",
      "include_adult | boolean | Choose whether to include adult (pornography) content in the results. default | optional\n",
      "region | string | Specify a ISO 3166-1 code to filter release dates. Must be uppercase. pattern: ^[A-Z]{2}$ | optional\n",
      "year | integer  | optional\n",
      "primary_release_year | integer | optional\n",
      "\n",
      "Response schema (JSON object):\n",
      "page | integer | optional\n",
      "total_results | integer | optional\n",
      "total_pages | integer | optional\n",
      "results | array[object] (Movie List Result Object)\n",
      "\n",
      "Each object in the \"results\" key has the following schema:\n",
      "poster_path | string or null | optional\n",
      "adult | boolean | optional\n",
      "overview | string | optional\n",
      "release_date | string | optional\n",
      "genre_ids | array[integer] | optional\n",
      "id | integer | optional\n",
      "original_title | string | optional\n",
      "original_language | string | optional\n",
      "title | string | optional\n",
      "backdrop_path | string or null | optional\n",
      "popularity | number | optional\n",
      "vote_count | integer | optional\n",
      "video | boolean | optional\n",
      "vote_average | number | optional\n"
     ]
    }
   ],
   "source": [
    "print(tmdb_docs.TMDB_DOCS)"
   ]
  },
  {
   "cell_type": "code",
   "execution_count": 15,
   "metadata": {},
   "outputs": [
    {
     "name": "stdout",
     "output_type": "stream",
     "text": [
      "\n",
      "\n",
      "\u001b[1m> Entering new APIChain chain...\u001b[0m\n",
      "\u001b[32;1m\u001b[1;3mhttps://api.themoviedb.org/3/search/movie?query=Aquaman\u001b[0m\n",
      "\u001b[33;1m\u001b[1;3m{\"page\":1,\"results\":[{\"adult\":false,\"backdrop_path\":\"/9QusGjxcYvfPD1THg6oW3RLeNn7.jpg\",\"genre_ids\":[28,12,14],\"id\":297802,\"original_language\":\"en\",\"original_title\":\"Aquaman\",\"overview\":\"Half-human, half-Atlantean Arthur Curry is taken on the journey of his lifetime to discover if he is worth of being a king.\",\"popularity\":89.649,\"poster_path\":\"/zdw7Wf97vsQ0YnGomxDqfcEdUjX.jpg\",\"release_date\":\"2018-12-07\",\"title\":\"Aquaman\",\"video\":false,\"vote_average\":6.901,\"vote_count\":13529},{\"adult\":false,\"backdrop_path\":\"/h2haYVD02rY46dQpukTvs2VAU2J.jpg\",\"genre_ids\":[28,12,10770],\"id\":65584,\"original_language\":\"en\",\"original_title\":\"Aquaman\",\"overview\":\"A young twenty-something diver living in the Florida Keys discovers he has the power to breathe underwater.\",\"popularity\":16.579,\"poster_path\":\"/ctw6WgBl9JutJjyxr9LVVEm77h0.jpg\",\"release_date\":\"2006-07-24\",\"title\":\"Aquaman\",\"video\":false,\"vote_average\":5.952,\"vote_count\":31},{\"adult\":false,\"backdrop_path\":null,\"genre_ids\":[18],\"id\":1059540,\"original_language\":\"en\",\"original_title\":\"Aquaman\",\"overview\":\"A young man recounts his boyhood days and the girl that he loved.\",\"popularity\":1.514,\"poster_path\":null,\"release_date\":\"\",\"title\":\"Aquaman\",\"video\":false,\"vote_average\":0.0,\"vote_count\":0},{\"adult\":false,\"backdrop_path\":\"/bckxSN9ueOgm0gJpVJmPQrecWul.jpg\",\"genre_ids\":[28,12,14],\"id\":572802,\"original_language\":\"en\",\"original_title\":\"Aquaman and the Lost Kingdom\",\"overview\":\"Black Manta seeks revenge on Aquaman for his father's death. Wielding the Black Trident's power, he becomes a formidable foe. To defend Atlantis, Aquaman forges an alliance with his imprisoned brother. They must protect the kingdom.\",\"popularity\":422.933,\"poster_path\":\"/7lTnXOy0iNtBAdRP3TZvaKJ77F6.jpg\",\"release_date\":\"2023-12-20\",\"title\":\"Aquaman and the Lost Kingdom\",\"video\":false,\"vote_average\":6.83,\"vote_count\":2013},{\"adult\":false,\"backdrop_path\":null,\"genre_ids\":[99],\"id\":645488,\"original_language\":\"en\",\"original_title\":\"Aquaman: Heroines of Atlantis\",\"overview\":\"Amber Heard and Nicole Kidman discuss their characters Mera and Atlanna.\",\"popularity\":47.848,\"poster_path\":\"/pa7m8nqDrEi7hAGB5vTnCkGLPC2.jpg\",\"release_date\":\"2019-03-26\",\"title\":\"Aquaman: Heroines of Atlantis\",\"video\":false,\"vote_average\":6.047,\"vote_count\":43},{\"adult\":false,\"backdrop_path\":\"/qoBKQC28B1F6dKCPAMqBGQwJdM7.jpg\",\"genre_ids\":[16,10751,28,35],\"id\":513736,\"original_language\":\"en\",\"original_title\":\"LEGO DC Super Heroes - Aquaman: Rage Of Atlantis\",\"overview\":\"Aquaman must battle foes in the air, on land and in the depths of the Seven Seas, along with some help from The Justice League, to save the day.\",\"popularity\":12.865,\"poster_path\":\"/vVTZLKNIkI7HyPeoFbPE3edAWaa.jpg\",\"release_date\":\"2018-12-21\",\"title\":\"LEGO DC Super Heroes - Aquaman: Rage Of Atlantis\",\"video\":false,\"vote_average\":6.505,\"vote_count\":93},{\"adult\":false,\"backdrop_path\":\"/x0Bqe6ByTs1w5PAnGxux4nSgdVS.jpg\",\"genre_ids\":[16],\"id\":66820,\"original_language\":\"en\",\"original_title\":\"Aquamania\",\"overview\":\"Mr. X buys a boat and inadvertantly enters the water skiing race. With Junior driving, with no experience, he's a bit out of his league.\",\"popularity\":3.844,\"poster_path\":\"/cw6twmjM9eqtTCiSNpDOfmpuKyA.jpg\",\"release_date\":\"1961-12-20\",\"title\":\"Aquamania\",\"video\":false,\"vote_average\":6.531,\"vote_count\":32},{\"adult\":false,\"backdrop_path\":\"/c06k2TLSqCvXr9cFd05aYrsGlwc.jpg\",\"genre_ids\":[14,878],\"id\":572504,\"original_language\":\"en\",\"original_title\":\"Aquaman: The Cast of the Angler\",\"overview\":\"The Angler claims he will use a toxin which will kill sea life unless a ransom is paid. Aquaman races to stop him.\",\"popularity\":1.199,\"poster_path\":\"/7tRYEJLQrAXFZTF0DEoGmNN3Ifi.jpg\",\"release_date\":\"1984-01-01\",\"title\":\"Aquaman: The Cast of the Angler\",\"video\":false,\"vote_average\":6.0,\"vote_count\":1},{\"adult\":false,\"backdrop_path\":null,\"genre_ids\":[99],\"id\":645487,\"original_language\":\"en\",\"original_title\":\"Going Deep Into the World of 'Aquaman'\",\"overview\":\"Documentary about creating a watery setting, sets and locations, costumes and production design, and general aspects of the film. A run-through of the production process from start to finish including the initial development, building the sets, costume design, CGI, and more.\",\"popularity\":10.072,\"poster_path\":\"/vF16KofQbdFcIJ4TdxMbCOIujg0.jpg\",\"release_date\":\"2019-03-26\",\"title\":\"Going Deep Into the World of 'Aquaman'\",\"video\":false,\"vote_average\":5.0,\"vote_count\":1},{\"adult\":false,\"backdrop_path\":null,\"genre_ids\":[],\"id\":1236078,\"original_language\":\"hu\",\"original_title\":\"Aquaman és az Elveszett Királyság\",\"overview\":\"\",\"popularity\":1.027,\"poster_path\":null,\"release_date\":\"\",\"title\":\"Aquaman és az Elveszett Királyság\",\"video\":false,\"vote_average\":0.0,\"vote_count\":0}],\"total_pages\":1,\"total_results\":10}\u001b[0m\n",
      "\n",
      "\u001b[1m> Finished chain.\u001b[0m\n"
     ]
    },
    {
     "data": {
      "text/plain": [
       "{'question': \"Search for 'Aquaman'\",\n",
       " 'output': 'The search for \\'Aquaman\\' returned a total of 10 results. The results include various movies related to Aquaman, such as the 2018 movie \"Aquaman\" about Arthur Curry\\'s journey to discover if he is worthy of being a king, the 2006 movie \"Aquaman\" about a young diver with underwater breathing powers, and the upcoming movie \"Aquaman and the Lost Kingdom\" where Aquaman must defend Atlantis against Black Manta. Other related content includes documentaries and animated movies featuring Aquaman.'}"
      ]
     },
     "execution_count": 15,
     "metadata": {},
     "output_type": "execute_result"
    }
   ],
   "source": [
    "# os.environ[\"TMDB_BEARER_TOKEN\"] = \"\"\n",
    "TMBD_BEARER_TOKEN = os.environ['TMDB_BEARER_TOKEN']\n",
    "\n",
    "llm = ChatOpenAI(model='gpt-3.5-turbo-0125', temperature=0)\n",
    " \n",
    "headers = {\"Authorization\": f\"Bearer {TMBD_BEARER_TOKEN}\"}\n",
    "chain = APIChain.from_llm_and_api_docs(\n",
    "    llm,\n",
    "    tmdb_docs.TMDB_DOCS,\n",
    "    headers=headers,\n",
    "    verbose=True,\n",
    "    limit_to_domains=[\"https://api.themoviedb.org/\"],\n",
    ")\n",
    "chain.invoke(\"Search for 'Aquaman'\")"
   ]
  },
  {
   "cell_type": "code",
   "execution_count": null,
   "metadata": {},
   "outputs": [],
   "source": []
  }
 ],
 "metadata": {
  "kernelspec": {
   "display_name": "FilmBot",
   "language": "python",
   "name": "python3"
  },
  "language_info": {
   "codemirror_mode": {
    "name": "ipython",
    "version": 3
   },
   "file_extension": ".py",
   "mimetype": "text/x-python",
   "name": "python",
   "nbconvert_exporter": "python",
   "pygments_lexer": "ipython3",
   "version": "3.12.2"
  }
 },
 "nbformat": 4,
 "nbformat_minor": 2
}
