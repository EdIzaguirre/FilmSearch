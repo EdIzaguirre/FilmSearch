{
 "cells": [
  {
   "cell_type": "markdown",
   "metadata": {},
   "source": [
    "# Imports"
   ]
  },
  {
   "cell_type": "code",
   "execution_count": 17,
   "metadata": {},
   "outputs": [
    {
     "data": {
      "text/plain": [
       "True"
      ]
     },
     "execution_count": 17,
     "metadata": {},
     "output_type": "execute_result"
    }
   ],
   "source": [
    "from langchain_community.document_loaders.csv_loader import CSVLoader\n",
    "from langchain_text_splitters import RecursiveCharacterTextSplitter\n",
    "from langchain_pinecone import PineconeVectorStore\n",
    "from langchain_openai import OpenAIEmbeddings\n",
    "from langchain_openai import ChatOpenAI\n",
    "from langchain.prompts import PromptTemplate\n",
    "from langchain_core.runnables import RunnablePassthrough\n",
    "from langchain_core.output_parsers import StrOutputParser\n",
    "from langchain_community.document_loaders import DirectoryLoader\n",
    "from langchain.indexes import SQLRecordManager, index\n",
    "from pinecone import Pinecone, PodSpec\n",
    "import os\n",
    "\n",
    "from dotenv import load_dotenv\n",
    "load_dotenv()"
   ]
  },
  {
   "cell_type": "markdown",
   "metadata": {},
   "source": [
    "# Loading Data"
   ]
  },
  {
   "cell_type": "code",
   "execution_count": 4,
   "metadata": {},
   "outputs": [
    {
     "name": "stderr",
     "output_type": "stream",
     "text": [
      "100%|██████████| 2/2 [00:00<00:00, 38.09it/s]"
     ]
    },
    {
     "name": "stdout",
     "output_type": "stream",
     "text": [
      "Title: Black Adam\n",
      "Runtime: 125 minutes\n",
      "Language: en\n",
      "Overview: Nearly 5,000 years after he was bestowed with the almighty powers of the Egyptian gods—and imprisoned just as quickly—Black Adam is freed from his earthly tomb, ready to unleash his unique form of justice on the modern world.\n",
      "Release Date: 2022-10-19\n",
      "Genre: Action, Adventure, Science Fiction\n",
      "Keyword: lightning, superhero, anti hero, based on comic, demon, superhero team, duringcreditsstinger, dc extended universe (dceu)\n",
      "Recommendation: Black Panther: Wakanda Forever, Avatar: The Way of Water, The Woman King, M3GAN, Troll, Thor: Love and Thunder, Glass Onion: A Knives Out Mystery, Terrifier 2, Smile, Avatar, Top Gun: Maverick, The Guardians of the Galaxy Holiday Special, Guillermo del Toro's Pinocchio, Puss in Boots: The Last Wish, Bullet Train, Violent Night, Spider-Man: No Way Home, Ant-Man and the Wasp: Quantumania, Shazam! Fury of the Gods, Jeepers Creepers: Reborn, Fall\n",
      "Cast: Raj Kala, Donny Carrington, James Cusati-Moyer, Viola Davis, Natasha Ellie, Quintessa Swindell, Derek Russo, Benjamin Patterson, E. Lloyd Napier, Marwan Kenzari, Odelya Halevi, Regina Ting Chen, Jalon Christian, Joseph Gatt, Boone Platt, Aldis Hodge, Sharon Gee, Jermaine Rivers, Kiara Rashawn, Henry Cavill, Tang Nguyen, Alex Parkinson, Bodhi Sabongui, Dwayne Johnson, Mike Senior, Chaim Jeraffi, Philip Fornah, Sanna Erica, Dennis Dawson, A. Manuel Miranda, Cameron Moir, Henry Winkler, Noah Centineo, Pierce Brosnan, Christopher Matthew Cook, Patrick Sabongui, Maurice T. Johnson, Kamen Casey, Sekou Laidlow, Yssa Mei Panganiban, Mo Amer, Ben Jenkin, Jennifer Holland, Daniel Danca, Meghna Nagarajan, Natalie Burn, Angel Rosario Jr., Tre Ryan, Sarah Shahi, Stephan Jones, Vince Canlas, Djimon Hounsou, Onye Eme-Akwari, Tonea Stewart, Uli Latukefu\n",
      "Crew: David Blanco Castillero, Alyson Dee Moore, Joanie Ming, Shane Christopher Wicklund, Fredrick Lyn, Aaron Cornwall, Mohamed Ghouse, Paolo Forni, Chris DiPaola, Blade Ladish, Tanoai Reed, Ray Lai, Melissa Kennedy, Patrice Poissant, Maddalena Perfetti, Jen Knight, Krisztian Majdik, Shannon Cameron, Perry Goyen, Ujwal W Dhankute, Kil Won Yu, Nathan Gardner, Madison Landis, Pete Anthony, Amanda Sprunger, Ben Bigiel, Joseph Ramiro, Pamela Souza, Yan Weitlauff, Midian Crosby, Sarah Mays, Daniel Labossiere, James Gaczkowski, Duncan Shirah, Kevin Houlihan, Edoardo Compagnucci, Jack Chiu, Martin Cicmanec, Stephen A. Gall, Joy Nguyen, Margo Smith, Brett Fahle, Diego Zura Puntaroni, Ryan J. Pezdirc, Micah Loken, Jaume Collet-Serra, Larry Dias, Hiromu Yoshida, Martin Gorbea Sanchez, Gildardo Tobon, Sohrab Noshirvani, Tony Marioni, Kelcey Fry, Zach Kilpatrick, J. Bryan Holloway, Zack Annesty, Adam Schlagman, Peter Dudley, Kelly Bellini, Albert Whitemore, Robert Chapin, Scott La Rue, Darla Wigley, Emad Khalili, Tony D'Aurio, Corrina Roshea Bobb, Adam Sztykiel, Ron Schab, Matthew W. Mungle, Dany Garcia, Eric Sibley, Bria Kinter, Kevin Riepl, David Vyle Levy, Shawn Broes, Hiram Garcia, Valentina Biffi, Fabrizio Fioretti, Romain Besnard, Nick Chambers, Jefrin Antony, Victor James Martinez, Yuri Bartoli, Stella Vaccaro, Jason Sheriff, Mark D. Spain, Bill McCoy, Deokmun Jeong, Robert McKinnon, Truptesh Naik, Kaylee Swisher, Gaia Bussolati, Lawrence Sher, Rajneesh Bahukhandi, Jean-Louis Darville, Suzanna Boykin, Javier Lopez-Duprey, Roxanne Gross, Maryna Goretti, Luigi Baggio, Chris Morley, Daniela Medeiros, Barbara McDermott, Joel Harlow, Robert Ratner, Jamison Rabbe, Rhianna Shaheen, Andrea Lorusso, Robin Lamontagne, Robert Pik, Debby Ruby-Winsberg, Greg ten Bosch, Emil Simeonov, Scott T. Coppock, Marie-Eve Lecours, Davide Battiston, Brian Avery Galligan, Roman Weisgerber, Carlos Oceguera, Daniele DeMaio, Jev Belyaev, Andrea Ceccarelli, Darrin Mann, J.D. Schwalm, Lachlan Tolley, Jennifer Hodges, Francesca Restelli, Bill R. Dean, Riccardo Zoccarato, Richard Bennett, Nilesh Chhadimali, Justin Strong, Vincent Ren Haur Hsu, Margaret Hungerford, Spencer Dinney, Samuel Blouin, Khiew Jit Chun, Francesco Grisi, Kurt Swanson, John Can Simsek, Patty Connolly, Can Yesilyurt, Jacob Curtis Miller, Michael L. Sale, Mike Meaker, Carley Armstrong, Kay Hoddy, Heather Benson, Shamus Baker, Zachary Goodson, Reetu Aggarwal, Kym McCann, Mykhailo Slavov, Matt Huish, Alexandra Casey, Scott Sheldon, Michael Shawn McCracken, Josh Millman, Arielle DePace, Kate Loftis, Max Hicks, Derek Spears, Chad Meire, Nicholas Winkelmann, Steven Melton, Matthias Villemont, Erin Rose Kelly, Ronald J. Webb, Bill Parker, Alex Nice, Aaron Eaton, Allen Lee Williams III, Victor Van De Velde, Yash S. Pathak, Deborah Rutherford, Miguel Victorio, Joshua Tong, Heiðrún Tinna Haraldsdóttir, Pier Lefebvre, Ando Johnson, Tim Walston, Monika van Schellenbeck, David Werntz, Matt Vowles, James Milligan, Natasha Romanow, Diego Perez, Sarah Delucchi, John Rosploch, Silvia Fusetti, Hanjoo Jeong, Vinay Sudhindran, Eloise Cameron-Smith, Rohan Bansie, Kristen Kadel, Charlie Dicus, Paul Story, Virginia Berg, Rich Delia, Ramiro Galan, Davee Ramos-San Diego, Euna Kho, Amanda Cornell, Jose F. Garcia Pineda, Nico Duce, Day Ramphal, Andrew Hofman, Stephanie Gadsden, Charles Labbé, Daniel Perez, Jennifer Conroy, Tonilee Marrone, David An, Ryan Dempsey, Guillem Rovira, John Lee, Walter Schneider, Frank Casaceli, Joe Shuster, Pedram Goshtasbpour, Richard F. Mays, Glen Hombrebueno, Lai Lok Chau, Christopher Battaglia, Stacy Horn, Constanza Ortega, Pol Villà Trilla, Suzanne MacLennan, Darryl Garcia Jr., Aaron Sowd, Austin Beaulier, William J. Shaw, Sam Balzer, Encho Nedevski, Esmeralda Fernandez, Jeff Bruneel, Robert Schajer, Nicole Auringer, Guillaume Grimberghs, Scott Herbertson, Dwayne Johnson, Arda Uysal, Kirsty Whalley, Jacob Metcalf, John Lindstein, Jalal Jemison, Erin Ochi, David Hemphill, Rob Garlow, John Abraham Chempil, Nick Satriano, Gabrielle Garam You, Ramachari Murali, Bradford Bell, Bart Mueller, Harry Cohen, Ryan Murphy, Salvatore Salamone, Randy Ruan, Arijit Chatterjee, Gary DeLeone, Matthew Dion, Robert J. Hall, Danny Reeves, Donna Martin, Wonchan Song, Khizer Diwan, Mathieu Vezina, Kevin Gilbert, Josy Capkun, Mari Lappalainen, David Chow, Vera Dementchouk, Jeff Seelye, Lyubomir Kirkov, Kevin Cerchiai, Jill Bogdanowicz, Bryan O. Watkins, Ryan E. Murphy, Spencer R. Williams, Aditya Ponguri, Federico Sibella, Knox White, Manthan Bhayani, Tristan Brown, Ben Campbell, Kerem Ogan, Ross Nakamura, Greg Teegarden, Cederic Estevao, Allen Coulter, James Seymour Brett, Lorne Balfe, Nikos Kalaitzidis, Erica Arvold, Tarn Greenlaw, John Kitching, Chris Diamantides, Vivek Karmarkar, Roland Dobson, Lindsay Tessier, Justin O'Neal Miller, Dea Cantu, Tosh Elliott, Rob Meyers, Leay Cangelosi, John Sheridan, Alex Klotz, Christina Myal, Ryan S. Westphal, Deepika Mistri, Paul Fedor, Freddie Poole, Karina Nunes, Tom Ozanich, Shreyas Gujrati, Mike Stassi, Natalie Narin Yoo, Jonas Kirk, Bruce Tanis, Donghoon Han, Emma Pelliciari, William Wright Anderson, Walter Hamada, Erik Lehmann, Gerardo Schiavone, Jazmyn Tanski, Jean-Michel Cristofaro, Anna Rane, David Masson, Peter G. Adams, Lisa Smedley, Sébastien Jacob, Youcef Bessaa, Monika Peulic, Kevin Brosseau, Antonio Mossucca, Khitish Shekhar Karua, Emily Freund, Vikas Ganer, Jason Oliver, Gak Gyu Choi, Tom Meyer, Paul Ozzimo, Francesco Vassora, Rohan Bediskar, Christian Scheurer, Chris Radcliffe, Nicha Kumkeaw, Jeremy Hampton, Merten Tremer, Erik Bergrin, Stewart Probert, Yan Morin-Dubuisson, Kimberly Huston, Lersak Bunupuradah, Whit Norris, Jeffrey Henderson, Jesse Turnbull, Patrick Bacon, Jim Meyer, Hugo R.A. Morris, Akansha Bhagat, Peter Mercell, Karen M. Murphy, Sande Alessi, Aaron Barlow, Amy Wetzler, Jacob Wan, Joel Venti, Tim Croshaw, Jonathan Burdeshaw, Daniel Enrique De Leon, Doug Spilatro, Hailie Yang, Patricia Nedd, Robert Brenner, Gabe Hilfer, Kristina Maevskaya, Joni Jacobson, Elisabetta Rocca, Cheyenne A. Bell, Kin Yiu, Bonnie Kanner, Greg Rementer, Alexander T.H. Browne, Nick Forman, Patcha Binginapalli, Claire Callway, Caitlin Parker, Alex Berson, Chase Commins, Brett C. Smith, William B. Lim, Adrienne Wilson, Shayne Hartigan, Amir Wahid Eleswy, Anthony Vincent Papillo, Adam Tankell, Shermaine Toh, Gaëtan Borneuf, Joe Schiff, Laura Holeman, Michael Porterfield, Martin Charles, Silvia Mahapatra, Beat Frutiger, Zachary Kinney, Ralph Reinle, Liciani Vargas, Skylar Gorrell, Josh Sheppard, Emma Sparer, Adam Endrodi, Duy Pham, Dale Pretorius, Nick Irving Allen, Ian Blewitt, Devin Ward, Bjørn Rabben, Shevina Valentina, Jesse Forsey, D. Chris Smith, Maxime Parent-Michaud, Al Watson, Chris Pan, James Pollard, Marco Bordignon, Jerry Siegel, Dan Riker, Matt Cordero, Federico Bonato, Colton Kirkegaard, Vinay Krishan Rohilla, Cliff Welsh, Thomas Nittmann, Terri Douglas, John Hoskins, Erick Ocampo, Lindsay MacGowan, Tarun Behal, Bill Westenhofer, Matthew Dravitzki, Richard Brener, Tim Parsons, Haile Werntz, Gentry Davidson, Ben Warner, Brett Ellis, Sanjeev Kandulna, Carolina Wong, Valentin Cottenye, Don Rutherford, Lesly Cazares, Kat Rodriguez, Eric McLeod, Roland Torda, Ryan Heck, Carrie Carnevale, Susan Strubel, Jo Ann Cordero Belen, Taylor M. Potts, Matthew Wade Stokes, Joe Bucaro III, Erik Omar, Anthony Delacruz, Unsun Song, Shari Ratliff, Susan Lee, William Groebe, Joshua Robertson, Evraam Soliman, Geoff Johns, Anne Costa, Brandon Hines, Gabriela Pruszkowska, Peter Cobbin, Cassie Russek, Yann Moalic, Ankit Vajpayee, Jared Krichevsky, Jason Suhrke, Olivier Blanchet, Harry Brokensha, Irenia Vail, Ron Marelli, Ryan Robert Howard, Michael Keller, Stuart Michael Thomas, Toby Emmerich, Jack Nolan, Manuel Plank-Jorge, Justin Trudeau, Philip Banks, Alexandra Gallo, Robert Bock, Joseph Grundfast, Mazena Puksto, Francesco Pepe, Dan Wilken, Gary Archer, Stian Dahlslett, Amani Durrani, Kulbhushan Kale, Adruitha Lee, Sam Winkler, Stephanie A. Hernandez, Imre Toke, Rob Hamby, Andrea Onorato, Jim Steel, Christina Bruce, Kevin Estey, Matthew McDonald, Gary Jamroz-Palma, Deborah La Mia Denaver, Eric A. Lewy, Monique Hyman, Tiffany McKitrick, Daniel Soltis, Yuyoung Lim, Jarin Rossiter, Dave Neustadter, Karl Rogovin, Aldo Martinez Calzadilla, Constantin von Zitzewitz, Lisieux Calandro, Marlon Victor Bondoc, Björn Rehbein, Darin Read, Jack Kirby, Dino Doane, Beau Flynn, Riki LeCotey, Matthew Bullock, Mark Keever, Kristina Krasteva, Lisha Hocking, Emily Hoi Ying Fung, Siddharth Malviya, Warren Manser, Abby Potts, Frank Piercy, Sean Byrne, Robert Aguirre, Etienne Devillée, Gerald D'Onofrio, Alessandra Restivo, Yasemin Hepguler, Ann Scibelli, Aaron Baudin, Darby Faccinto, Sean Cushing, Tomas Kalhous, Lia Malamo, Luis Martino, Myles Asseter, Rodrigue El Hajj, Rory Haines, Kirill Kalitukha, Angel Carrasco, Velmurugan Rajamani, Luca Nemolato, Thomas Sing Wai Lo, Henri Trinh, Gabriele Motta, Tosin Akinwoye, Prashant Raj, Kerry Herta, Fabricio de Vasconcellos Baessa Antonio, Oscar Michell, Megan Schmidt, Para Malden, Mike Hsu, Erdem Ogel, Mitch Osias, C.C. Beck, Rachel Aguirre, David Moreau, Rogiero Fernández\n",
      "Stream: Netflix, Max, Max Amazon Channel, Netflix basic with Ads\n",
      "Buy: Apple TV, Amazon Video, Google Play Movies, YouTube, Vudu, Microsoft Store, AMC on Demand\n",
      "Rent: Apple TV, Amazon Video, Google Play Movies, YouTube, Vudu, Microsoft Store, Spectrum On Demand\n"
     ]
    },
    {
     "name": "stderr",
     "output_type": "stream",
     "text": [
      "\n"
     ]
    }
   ],
   "source": [
    "loader = DirectoryLoader(\n",
    "    path=\"./data\", \n",
    "    glob=\"*.csv\", \n",
    "    loader_cls=CSVLoader,\n",
    "    show_progress=True)\n",
    "\n",
    "docs = loader.load()\n",
    "\n",
    "print(docs[20].page_content)"
   ]
  },
  {
   "cell_type": "markdown",
   "metadata": {},
   "source": [
    "# Splitting Data"
   ]
  },
  {
   "cell_type": "code",
   "execution_count": 5,
   "metadata": {},
   "outputs": [],
   "source": [
    "text_splitter = RecursiveCharacterTextSplitter(\n",
    "    chunk_size=1000, chunk_overlap=200)\n",
    "splits = text_splitter.split_documents(docs)"
   ]
  },
  {
   "cell_type": "code",
   "execution_count": 6,
   "metadata": {},
   "outputs": [
    {
     "name": "stdout",
     "output_type": "stream",
     "text": [
      "Cast: Prakash Raj, Rajit Kapoor, Mehroos Mir, Mohd Talib, John Abraham, Nimish Desai, Ratna Pathak Shah, Kiran Kumar, Jacqueline Fernandez, Elham Ehsas, Babrak Akbari, Ranjit Punia, Jaimini Pathak, Habib Al Aidroos, Rakul Preet Singh, Serena Walia, Shahnawaz Bhatt\n",
      "Crew: Rohit Chaturvedi, Lakshya Raj Anand, P. S. Vinod, Vishal Kapoor, Shreya Jain, Vijay Ganguly, Mohd Amin Khatib, Jubin Nautiyal, Nakul Chugh, Vaibhav Vishant, Sumit Batheja, Girish Nakod, Ken Metzker, Bishwadeep Dipak Chatterjee, Devanshu Asthana, Yogendra Mogre, Surbhi Yadav, Chavi Sirohi, Shashwat Sachdev, Aarif Sheikh, Mohd Talib, John Abraham, Kuldeep Yadav, Soumik Mukherjee, Kumaar, Minnakshi Das, Akshay Jayantilal Gada, Amritpal Singh, Dhaval Jayantilal Gada, Franz Spilhaus, Jayantilal Gada, Garima Mathur, Will Humphris, Vishal Mishra, Daniel Hansen, Ajay Kapoor\n",
      "Stream: \n",
      "Buy: \n",
      "Rent:\n"
     ]
    }
   ],
   "source": [
    "print(splits[9].page_content)"
   ]
  },
  {
   "cell_type": "markdown",
   "metadata": {},
   "source": [
    "# Creating Embeddings and Uploading to Pinecone"
   ]
  },
  {
   "cell_type": "code",
   "execution_count": 7,
   "metadata": {},
   "outputs": [
    {
     "name": "stdout",
     "output_type": "stream",
     "text": [
      "{'dimension': 1536,\n",
      " 'index_fullness': 0.00911,\n",
      " 'namespaces': {'': {'vector_count': 911}},\n",
      " 'total_vector_count': 911}\n"
     ]
    }
   ],
   "source": [
    "index_name = \"film-bot-index\"\n",
    "\n",
    "# Create empty index\n",
    "PINECONE_KEY, PINECONE_INDEX_NAME = os.getenv(\n",
    "    'PINECONE_API_KEY'), os.getenv('PINECONE_INDEX_NAME')\n",
    "\n",
    "pc = Pinecone(api_key=PINECONE_KEY)\n",
    "\n",
    "# Uncomment if index is not created already\n",
    "# pc.create_index(\n",
    "#     name=\"film-bot-index\",\n",
    "#     dimension=1536,\n",
    "#     metric=\"cosine\",\n",
    "#     spec=PodSpec(\n",
    "#         environment=\"gcp-starter\"\n",
    "#     )\n",
    "# )\n",
    "\n",
    "# Target index and check status\n",
    "pc_index = pc.Index(index_name)\n",
    "print(pc_index.describe_index_stats())\n",
    "\n",
    "embeddings = OpenAIEmbeddings(model='text-embedding-ada-002')\n",
    "\n",
    "vectorstore = PineconeVectorStore(\n",
    "    pc_index, embeddings\n",
    ")\n",
    "\n",
    "# Create record manager\n",
    "namespace = f\"pinecone/{index_name}\"\n",
    "record_manager = SQLRecordManager(\n",
    "    namespace, db_url=\"sqlite:///record_manager_cache.sql\"\n",
    ")\n",
    "\n",
    "record_manager.create_schema()"
   ]
  },
  {
   "cell_type": "code",
   "execution_count": 8,
   "metadata": {},
   "outputs": [
    {
     "data": {
      "text/plain": [
       "{'num_added': 911, 'num_updated': 0, 'num_skipped': 0, 'num_deleted': 0}"
      ]
     },
     "execution_count": 8,
     "metadata": {},
     "output_type": "execute_result"
    }
   ],
   "source": [
    "def _clear():\n",
    "    \"\"\"\n",
    "    Hacky helper method to clear content.\n",
    "    \"\"\"\n",
    "    index([], record_manager, vectorstore,\n",
    "          cleanup=\"full\", source_id_key=\"source\")\n",
    "\n",
    "# Uncomment this line if you want to clear the Pinecone vectorstore\n",
    "_clear()\n",
    "\n",
    "index(splits, record_manager, vectorstore,\n",
    "      cleanup=\"full\", source_id_key=\"source\")"
   ]
  },
  {
   "cell_type": "code",
   "execution_count": 9,
   "metadata": {},
   "outputs": [
    {
     "name": "stdout",
     "output_type": "stream",
     "text": [
      "Keyword: hero, superhero, space travel, based on comic, sequel, teenage girl, aftercreditsstinger, duringcreditsstinger, marvel cinematic universe (mcu), space adventure\n",
      "Recommendation: The Hunger Games: The Ballad of Songbirds & Snakes, Wonka, Aquaman and the Lost Kingdom, The Killer, Napoleon, Five Nights at Freddy's, The Creator, Wish, Oppenheimer, Killers of the Flower Moon, Migration, Leave the World Behind, A Haunting in Venice, Captain Marvel, Barbie, Rebel Moon - Part One: A Child of Fire, The Equalizer 3, Saltburn, Lift, Elemental, Role Play\n"
     ]
    }
   ],
   "source": [
    "query = \"Movies based on novels or books.\"\n",
    "docs = vectorstore.similarity_search(query)\n",
    "print(docs[0].page_content)"
   ]
  },
  {
   "cell_type": "markdown",
   "metadata": {},
   "source": [
    "# Creating a Retriever"
   ]
  },
  {
   "cell_type": "code",
   "execution_count": 10,
   "metadata": {},
   "outputs": [],
   "source": [
    "retriever = vectorstore.as_retriever(\n",
    "    search_type=\"similarity\", search_kwargs={\"k\": 6})"
   ]
  },
  {
   "cell_type": "code",
   "execution_count": 11,
   "metadata": {},
   "outputs": [],
   "source": [
    "retrieved_docs = retriever.invoke(\n",
    "    \"What are some films with about a person who becomes a tyrannical president of Panem?\")"
   ]
  },
  {
   "cell_type": "code",
   "execution_count": 12,
   "metadata": {},
   "outputs": [
    {
     "data": {
      "text/plain": [
       "6"
      ]
     },
     "execution_count": 12,
     "metadata": {},
     "output_type": "execute_result"
    }
   ],
   "source": [
    "len(retrieved_docs)"
   ]
  },
  {
   "cell_type": "code",
   "execution_count": 13,
   "metadata": {},
   "outputs": [
    {
     "name": "stdout",
     "output_type": "stream",
     "text": [
      "Title: The Hunger Games: The Ballad of Songbirds & Snakes\n",
      "Runtime: 157 minutes\n",
      "Language: en\n",
      "Overview: 64 years before he becomes the tyrannical president of Panem, Coriolanus Snow sees a chance for a change in fortunes when he mentors Lucy Gray Baird, the female tribute from District 12.\n",
      "Release Date: 2023-11-15\n",
      "Genre: Drama, Science Fiction, Action\n",
      "Keyword: daughter, based on novel or book, arena, fight, mentor, dystopia, riot, exploration, president, prequel, survival, murder, snow, creature, battle, fight to the death, young adult, origin story, based on young adult novel, death game, teenager\n",
      "Recommendation: Aquaman and the Lost Kingdom, Napoleon, The Marvels, Wonka, The Hunger Games, Rebel Moon - Part One: A Child of Fire, The Family Plan, Oppenheimer, Thanksgiving, Killers of the Flower Moon, Five Nights at Freddy's, Saltburn, The Creator, There's Still Tomorrow, Silent Night, Barbie, Leave the World Behind, Wish, The Hunger Games: Mockingjay - Part 1, Family Switch, Leo\n"
     ]
    }
   ],
   "source": [
    "print(retrieved_docs[0].page_content)"
   ]
  },
  {
   "cell_type": "markdown",
   "metadata": {},
   "source": [
    "# Creating an LLM with Retriever"
   ]
  },
  {
   "cell_type": "code",
   "execution_count": 36,
   "metadata": {},
   "outputs": [],
   "source": [
    "from langchain_community.chat_models.huggingface import ChatHuggingFace\n",
    "from langchain_community.llms import HuggingFaceHub\n",
    "from huggingface_hub.hf_api import HfFolder \n",
    "\n",
    "HfFolder.save_token(os.getenv('HUGGINGFACEHUB_API_TOKEN'))\n",
    "\n",
    "REPO_ID = \"HuggingFaceH4/zephyr-7b-beta\"\n",
    "\n",
    "llm = HuggingFaceHub(\n",
    "    repo_id=REPO_ID,\n",
    "    task=\"text-generation\",\n",
    "    model_kwargs={\n",
    "        \"max_new_tokens\": 512,\n",
    "        \"top_k\": 30,\n",
    "        \"temperature\": 0.1,\n",
    "        \"repetition_penalty\": 1.03,\n",
    "    },\n",
    ")\n",
    "\n",
    "# chat_model = ChatHuggingFace(llm=llm)\n",
    "chat_model = ChatOpenAI(model_name=\"gpt-3.5-turbo-0125\", temperature=0.5)\n",
    "\n",
    "prompt_template = PromptTemplate.from_template(\n",
    "    \"\"\"\n",
    "    You are an expert on films. Your goal is to recommend films to users based on their\n",
    "    question and the retrieved context. If you don't know have a recommendation, just say that you don't have one. \n",
    "    Format your film recommendations in a bullet point list. Always include the title of the film you are recommending,\n",
    "    and always provide a justification for why you are recommending a particular film. You should recommend no more than\n",
    "    five films. If the user asks for film recommendations based on runtime, provide the runtime length in minutes in your\n",
    "    response. Only recommend films that are given to you in the context, do not recommend any other films.\n",
    "    \n",
    "    The documents that are provided will have the following format:\n",
    "\n",
    "    ### FORMAT ###\n",
    "    Title: [Title of film]\n",
    "    Runtime: [Runtime of film] minutes\n",
    "    Language: [Language of film in ISO 639-1 language code]\n",
    "    Overview: [Overview of film]\n",
    "    Release Date: [Release data of film in format YYYY-MM-DD]\n",
    "    Genre: [Genre of film, a comma separated list]\n",
    "    Keyword: [Keywords describing the film, a comma separated list]\n",
    "    Recommendation: [Recommendations for other films based on the current film, a comma separated list]\n",
    "    Cast: [Cast of film, a comma separated list]\n",
    "    Crew: [Crew of film, a comma separated list]\n",
    "    Stream: [Streaming provider to watch film, a comma separated list]\n",
    "    Buy: [Provider to buy film, a comma separated list]\n",
    "    Rent: [Provider to rent film, a comma separated list]\n",
    "    ### FORMAT ###\n",
    "\n",
    "    Question: {question} \n",
    "\n",
    "    Context: {context} \n",
    "\n",
    "    Answer:\n",
    "\n",
    "    \"\"\"\n",
    ")\n",
    "\n",
    "def format_docs(docs):\n",
    "    return \"\\n\\n\".join(doc.page_content for doc in docs)\n",
    "\n",
    "rag_chain = (\n",
    "    {\"context\": retriever | format_docs, \"question\": RunnablePassthrough()}\n",
    "    | prompt_template\n",
    "    | chat_model\n",
    "    | StrOutputParser()\n",
    ")"
   ]
  },
  {
   "cell_type": "code",
   "execution_count": 37,
   "metadata": {},
   "outputs": [
    {
     "name": "stdout",
     "output_type": "stream",
     "text": [
      "- Blue Beetle: This film is recommended because it shares the genre of adventure with Barbie and also features a protagonist with special abilities.\n",
      "- Spider-Man: Across the Spider-Verse: This film is recommended because it shares the genre of adventure with Barbie and also features a superhero protagonist.\n",
      "- Talk to Me: This film is recommended because it shares the genre of comedy with Barbie and also explores themes of communication and relationships.\n",
      "- Gran Turismo: This film is recommended because it shares the genre of comedy with Barbie and also features a story centered around cars and racing.\n",
      "- Indiana Jones and the Dial of Destiny: This film is recommended because it shares the genre of adventure with Barbie and also features a thrilling and action-packed story."
     ]
    }
   ],
   "source": [
    "for chunk in rag_chain.stream(\"Recommend some films similar to Barbie.\"):\n",
    "    print(chunk, end=\"\", flush=True)"
   ]
  },
  {
   "cell_type": "markdown",
   "metadata": {},
   "source": [
    "# Creating an Agent with Wiki + RAG"
   ]
  },
  {
   "cell_type": "code",
   "execution_count": 93,
   "metadata": {},
   "outputs": [],
   "source": [
    "from typing import Optional\n",
    "from langchain_core.callbacks import CallbackManagerForToolRun\n",
    "from langchain.agents import AgentExecutor\n",
    "from langchain.tools import WikipediaQueryRun\n",
    "from langchain_community.utilities import WikipediaAPIWrapper\n",
    "from langchain.tools.retriever import create_retriever_tool\n",
    "from langchain.agents import create_openai_functions_agent\n",
    "from langchain_core.prompts import ChatPromptTemplate\n",
    "from langchain.prompts import HumanMessagePromptTemplate, MessagesPlaceholder\n",
    "from langchain_core.tools import BaseTool\n",
    "\n",
    "# Create tool from retriever\n",
    "retriever_tool = create_retriever_tool(\n",
    "    retriever,\n",
    "    \"movie_data\",\n",
    "    \"\"\"\n",
    "    Search for basic information regarding films. Information \n",
    "    includes: title, release date, original language, genre, \n",
    "    recommendations, keywords describing the film, the cast,\n",
    "    crew, and where to stream, rent, or buy the film. If you\n",
    "    need any of this information, use this tool!\n",
    "    \"\"\"\n",
    ")\n",
    "\n",
    "class CustomWikipediaQueryRun(BaseTool):\n",
    "    \"\"\"Tool that searches the Wikipedia API.\"\"\"\n",
    "\n",
    "    name: str = \"wikipedia\"\n",
    "    description: str = (\n",
    "        \"\"\"\n",
    "        A wrapper around Wikipedia. \n",
    "        Useful for when you need to answer general questions about \n",
    "        people, places, companies, facts, historical events, or other subjects. \n",
    "        Input should be a search query.\n",
    "        \"\"\"\n",
    "\n",
    "    )\n",
    "    api_wrapper: WikipediaAPIWrapper\n",
    "\n",
    "    def _run(\n",
    "        self,\n",
    "        query: str,\n",
    "        run_manager: Optional[CallbackManagerForToolRun] = None,\n",
    "    ) -> str:\n",
    "        \"\"\"Use the Wikipedia tool.\"\"\"\n",
    "        return self.api_wrapper.run(query)\n",
    "    \n",
    "\n",
    "# Create wikipedia tool\n",
    "wikipedia_tool = CustomWikipediaQueryRun(api_wrapper=WikipediaAPIWrapper())\n",
    "tools = [retriever_tool, wikipedia_tool]\n",
    "\n",
    "prompt_template = ChatPromptTemplate.from_messages(\n",
    "    [\n",
    "        (\n",
    "            'system',\n",
    "            \"\"\"\n",
    "            You are an expert on films. Your goal is to recommend films to users based on their question and the retrieved context. \n",
    "            If you don't know have a recommendation, just say that you don't have one. Format your film recommendations in a bullet \n",
    "            point list. Always include the title of the film you are recommending, and always provide a justification for why you are \n",
    "            recommending a particular film. Your justification should be at least four sentences per film. You should recommend no more \n",
    "            than five films. If the user asks for film recommendations based on runtime, provide the runtime length in minutes in your response. \n",
    "            \"\"\"\n",
    "            ),\n",
    "        MessagesPlaceholder(variable_name='chat_history', optional=True),\n",
    "        HumanMessagePromptTemplate(prompt=PromptTemplate(\n",
    "            input_variables=['input'], template='{input}')),\n",
    "        MessagesPlaceholder(variable_name=\"agent_scratchpad\"),\n",
    "    ]\n",
    ")\n",
    "\n",
    "agent = create_openai_functions_agent(chat_model, tools, prompt_template)\n",
    "\n",
    "agent_executor = AgentExecutor(agent=agent, tools=tools, verbose=True)"
   ]
  },
  {
   "cell_type": "code",
   "execution_count": 94,
   "metadata": {},
   "outputs": [
    {
     "name": "stdout",
     "output_type": "stream",
     "text": [
      "\n",
      "\n",
      "\u001b[1m> Entering new AgentExecutor chain...\u001b[0m\n",
      "\u001b[32;1m\u001b[1;3m\n",
      "Invoking: `movie_data` with `{'query': 'Creed III'}`\n",
      "\n",
      "\n",
      "\u001b[0m\u001b[36;1m\u001b[1;3mTitle: Creed III\n",
      "Runtime: 116 minutes\n",
      "Language: en\n",
      "Overview: After dominating the boxing world, Adonis Creed has thrived in his career and family life. When a childhood friend and former boxing prodigy, Damian Anderson, resurfaces after serving a long sentence in prison, he is eager to prove that he deserves his shot in the ring. The face-off between former friends is more than just a fight. To settle the score, Adonis must put his future on the line to battle Damian — a fighter with nothing to lose.\n",
      "Release Date: 2023-03-01\n",
      "Genre: Drama, Action\n",
      "Keyword: husband wife relationship, philadelphia, pennsylvania, sports, deaf, sequel, orphan, former best friend, ex-con, childhood friends, juvenile detention center, boxing, prodigy\n",
      "\n",
      "Recommendation: Avatar, Glass Onion: A Knives Out Mystery, Puss in Boots: The Last Wish, Black Panther: Wakanda Forever, Ant-Man and the Wasp: Quantumania, Black Adam, Spider-Man: No Way Home, Creed III, John Wick: Chapter 4, Diabolik - Ginko Attacks, Shazam! Fury of the Gods, Attack on Titan, M3GAN, The Super Mario Bros. Movie, The Menu, Bandit, Winnie the Pooh: Blood and Honey, Guardians of the Galaxy Vol. 3, Violent Night, Babylon, Pirates Down the Street II: The Ninjas from Across\n",
      "\n",
      "Release Date: 2022-08-06\n",
      "Genre: Animation, Adventure, Action, Fantasy, Music\n",
      "Keyword: pirate, fighting, super power, aftercreditsstinger, anime\n",
      "Recommendation: Avatar: The Way of Water, Black Panther: Wakanda Forever, Gabriel's Redemption: Part I, Resident Evil: Death Island, Gran Turismo, Transformers: Rise of the Beasts, My Fault, Black Adam, Shazam! Fury of the Gods, One Piece: Stampede, Kingdom III: The Flame of Destiny, Mission: Impossible - Dead Reckoning Part One, Top Gun: Maverick, Puss in Boots: The Last Wish, The Super Mario Bros. Movie, Everything Everywhere All at Once, Naruto Shippuden the Movie, Nope, Red, Retribution, A Frozen Rooster\n",
      "\n",
      "Release Date: 2023-05-17\n",
      "Genre: Action, Crime, Thriller\n",
      "Keyword: sequel, revenge, betrayal, racing, family, cliffhanger, cars\n",
      "Recommendation: John Wick: Chapter 4, Extraction 2, The Super Mario Bros. Movie, Guardians of the Galaxy Vol. 3, Spider-Man: Across the Spider-Verse, Transformers: Rise of the Beasts, Barbie, The Flash, The Little Mermaid, Evil Dead Rise, My Fault, Knights of the Zodiac, Meg 2: The Trench, The Equalizer 3, Mission: Impossible - Dead Reckoning Part One, Fast & Furious Presents: Hobbs & Shaw, Avatar: The Way of Water, Elemental, Guy Ritchie's The Covenant, Oppenheimer, Ant-Man and the Wasp: Quantumania\n",
      "\n",
      "Release Date: 2022-04-20\n",
      "Genre: Action, Comedy, Crime\n",
      "Keyword: cia, undercover, screenplay, birthday party, drug lord, struggling actor, father daughter relationship, actor playing themself\n",
      "Recommendation: Everything Everywhere All at Once, Top Gun: Maverick, Morbius, Doctor Strange in the Multiverse of Madness, The Lost City, Barbie, The Northman, Bullet Train, Jurassic World Dominion, Fantastic Beasts: The Secrets of Dumbledore, Black Adam, Uncharted, The Whale, Dune, Turning Red, John Wick: Chapter 4, The Black Phone, Spiderhead, The Adam Project, The Banshees of Inisherin, Hustle\n",
      "\n",
      "Title: Infiltration\n",
      "Runtime: 110 minutes\n",
      "Language: ru\n",
      "Overview: Ivan sets off on a dangerous mission into Syria to save his ex-commander Grey after his capture by ISIS. With the help of U.S. military patrols, he succeeds in freeing Grey and attempts to escape the country while being hunted by terrorists.\n",
      "Release Date: 2022-06-02\n",
      "Genre: War, Drama\n",
      "Keyword: \n",
      "Recommendation: Spider-Man: No Way Home, The Ninth Gate, Prey, The Professor, Black Site, The Blaze, Warriors of Heaven and Earth, Girls Got Game, Poor Sasha, Parasite, Psycho, Interstellar, Joker, WALL·E, Who Framed Roger Rabbit, Oppenheimer, Perfect Strangers, Pulp Fiction, Once Upon a Time… in Hollywood, Dune, The Fly\u001b[0m\u001b[32;1m\u001b[1;3mThe runtime for the film \"Creed III\" is 116 minutes.\n",
      "\n",
      "Here are some film recommendations for you:\n",
      "\n",
      "1. Avatar: This film is a visually stunning epic that takes you on a journey to the alien world of Pandora. It combines breathtaking visuals with a compelling story about the clash between humans and the native inhabitants of the planet. The film's groundbreaking use of 3D technology immerses you in the world like never before.\n",
      "\n",
      "2. Black Panther: Wakanda Forever: This highly anticipated sequel to the original \"Black Panther\" film continues the story of the Black Panther and the nation of Wakanda. It explores themes of identity, power, and responsibility, while also delivering thrilling action sequences and a richly realized world. The film celebrates African culture and showcases a diverse cast of talented actors.\n",
      "\n",
      "3. John Wick: Chapter 4: If you're a fan of intense action films, then the \"John Wick\" series is a must-watch. The fourth installment promises to deliver more pulse-pounding action as John Wick finds himself in a new set of dangerous situations. The series is known for its stylish fight choreography and its charismatic lead actor, Keanu Reeves.\n",
      "\n",
      "4. Spider-Man: No Way Home: The latest installment in the Spider-Man franchise promises to be a game-changer. It brings together multiple versions of Spider-Man from different universes, creating an exciting and unpredictable storyline. The film is packed with thrilling action sequences, heartfelt moments, and surprises that will keep you on the edge of your seat.\n",
      "\n",
      "5. Dune: Based on the classic science fiction novel, \"Dune\" is a visually stunning and thought-provoking film. It transports you to a distant future where powerful factions battle for control of a desert planet. The film explores themes of power, religion, and ecology, and features a talented ensemble cast.\n",
      "\n",
      "I hope you find these recommendations enjoyable!\u001b[0m\n",
      "\n",
      "\u001b[1m> Finished chain.\u001b[0m\n"
     ]
    },
    {
     "data": {
      "text/plain": [
       "{'input': 'Can you tell me runtime for the film Creed III?',\n",
       " 'output': 'The runtime for the film \"Creed III\" is 116 minutes.\\n\\nHere are some film recommendations for you:\\n\\n1. Avatar: This film is a visually stunning epic that takes you on a journey to the alien world of Pandora. It combines breathtaking visuals with a compelling story about the clash between humans and the native inhabitants of the planet. The film\\'s groundbreaking use of 3D technology immerses you in the world like never before.\\n\\n2. Black Panther: Wakanda Forever: This highly anticipated sequel to the original \"Black Panther\" film continues the story of the Black Panther and the nation of Wakanda. It explores themes of identity, power, and responsibility, while also delivering thrilling action sequences and a richly realized world. The film celebrates African culture and showcases a diverse cast of talented actors.\\n\\n3. John Wick: Chapter 4: If you\\'re a fan of intense action films, then the \"John Wick\" series is a must-watch. The fourth installment promises to deliver more pulse-pounding action as John Wick finds himself in a new set of dangerous situations. The series is known for its stylish fight choreography and its charismatic lead actor, Keanu Reeves.\\n\\n4. Spider-Man: No Way Home: The latest installment in the Spider-Man franchise promises to be a game-changer. It brings together multiple versions of Spider-Man from different universes, creating an exciting and unpredictable storyline. The film is packed with thrilling action sequences, heartfelt moments, and surprises that will keep you on the edge of your seat.\\n\\n5. Dune: Based on the classic science fiction novel, \"Dune\" is a visually stunning and thought-provoking film. It transports you to a distant future where powerful factions battle for control of a desert planet. The film explores themes of power, religion, and ecology, and features a talented ensemble cast.\\n\\nI hope you find these recommendations enjoyable!'}"
      ]
     },
     "execution_count": 94,
     "metadata": {},
     "output_type": "execute_result"
    }
   ],
   "source": [
    "agent_executor.invoke(\n",
    "    {\"input\": \"Can you tell me runtime for the film Creed III?\"})"
   ]
  },
  {
   "cell_type": "markdown",
   "metadata": {},
   "source": [
    "# Using DataFrame Agent"
   ]
  },
  {
   "cell_type": "code",
   "execution_count": 87,
   "metadata": {},
   "outputs": [
    {
     "data": {
      "text/html": [
       "<div>\n",
       "<style scoped>\n",
       "    .dataframe tbody tr th:only-of-type {\n",
       "        vertical-align: middle;\n",
       "    }\n",
       "\n",
       "    .dataframe tbody tr th {\n",
       "        vertical-align: top;\n",
       "    }\n",
       "\n",
       "    .dataframe thead th {\n",
       "        text-align: right;\n",
       "    }\n",
       "</style>\n",
       "<table border=\"1\" class=\"dataframe\">\n",
       "  <thead>\n",
       "    <tr style=\"text-align: right;\">\n",
       "      <th></th>\n",
       "      <th>Title</th>\n",
       "      <th>Runtime</th>\n",
       "      <th>Language</th>\n",
       "      <th>Overview</th>\n",
       "      <th>Release Date</th>\n",
       "      <th>Genre</th>\n",
       "      <th>Keyword</th>\n",
       "      <th>Recommendation</th>\n",
       "      <th>Cast</th>\n",
       "      <th>Crew</th>\n",
       "      <th>Stream</th>\n",
       "      <th>Buy</th>\n",
       "      <th>Rent</th>\n",
       "    </tr>\n",
       "  </thead>\n",
       "  <tbody>\n",
       "    <tr>\n",
       "      <th>0</th>\n",
       "      <td>The Voyagers</td>\n",
       "      <td>108 minutes</td>\n",
       "      <td>it</td>\n",
       "      <td>Time jump to 1939 with teenager Max and his fr...</td>\n",
       "      <td>2022-11-21</td>\n",
       "      <td>Fantasy, Adventure, TV Movie</td>\n",
       "      <td>time travel, zeitreise</td>\n",
       "      <td>Talk to Me, Jurassic World, Il mammone, Enemy ...</td>\n",
       "      <td>Federico Tocci, Gianmarco Saurino, Andrea Gaia...</td>\n",
       "      <td>Gabriele Scarfone, Marco Bassano, Gianni Vezzo...</td>\n",
       "      <td>NaN</td>\n",
       "      <td>NaN</td>\n",
       "      <td>NaN</td>\n",
       "    </tr>\n",
       "    <tr>\n",
       "      <th>1</th>\n",
       "      <td>The OctoGames</td>\n",
       "      <td>88 minutes</td>\n",
       "      <td>en</td>\n",
       "      <td>Eight contestants compete in eight deadly, cla...</td>\n",
       "      <td>2022-10-07</td>\n",
       "      <td>Thriller, Action, Horror</td>\n",
       "      <td>遊戲, 挑戰極限, 組團打怪</td>\n",
       "      <td>Patriots Time, Oppenheimer, The Boy and the He...</td>\n",
       "      <td>Luv Patel, Adam Pietripaoli, Fallon Gyurko, Al...</td>\n",
       "      <td>Galen Christy, Aaron Mirtes, Dylan A. Young, B...</td>\n",
       "      <td>NaN</td>\n",
       "      <td>Amazon Video, Google Play Movies, YouTube, Vud...</td>\n",
       "      <td>Amazon Video, Google Play Movies, YouTube, Vud...</td>\n",
       "    </tr>\n",
       "    <tr>\n",
       "      <th>2</th>\n",
       "      <td>Agent Game</td>\n",
       "      <td>90 minutes</td>\n",
       "      <td>en</td>\n",
       "      <td>Harris, a CIA interrogator at an Agency black ...</td>\n",
       "      <td>2022-04-08</td>\n",
       "      <td>Action, Thriller</td>\n",
       "      <td>investigation, murder, betrayal, conspiracy, g...</td>\n",
       "      <td>All the Old Knives, Avatar: The Way of Water, ...</td>\n",
       "      <td>Annie Ilonzeh, Dermot Mulroney, Matt Riedy, Bl...</td>\n",
       "      <td>Shanan Becker, Zachary King, William Bruce Joh...</td>\n",
       "      <td>Showtime Apple TV Channel</td>\n",
       "      <td>Apple TV, Amazon Video, Google Play Movies, Yo...</td>\n",
       "      <td>Apple TV, Amazon Video, Google Play Movies, Yo...</td>\n",
       "    </tr>\n",
       "    <tr>\n",
       "      <th>3</th>\n",
       "      <td>Attack</td>\n",
       "      <td>123 minutes</td>\n",
       "      <td>hi</td>\n",
       "      <td>With the Parliament under siege, India’s first...</td>\n",
       "      <td>2022-04-01</td>\n",
       "      <td>Action, Science Fiction, Thriller</td>\n",
       "      <td>parliament, super soldier, soldier, indian army</td>\n",
       "      <td>Napoleon, Lift, Sixty Minutes, The Marvels, Wi...</td>\n",
       "      <td>Prakash Raj, Rajit Kapoor, Mehroos Mir, Mohd T...</td>\n",
       "      <td>Rohit Chaturvedi, Lakshya Raj Anand, P. S. Vin...</td>\n",
       "      <td>NaN</td>\n",
       "      <td>NaN</td>\n",
       "      <td>NaN</td>\n",
       "    </tr>\n",
       "    <tr>\n",
       "      <th>4</th>\n",
       "      <td>Avatar: The Way of Water</td>\n",
       "      <td>192 minutes</td>\n",
       "      <td>en</td>\n",
       "      <td>Set more than a decade after the events of the...</td>\n",
       "      <td>2022-12-14</td>\n",
       "      <td>Science Fiction, Adventure, Action</td>\n",
       "      <td>dying and death, loss of loved one, alien life...</td>\n",
       "      <td>Avatar, Glass Onion: A Knives Out Mystery, Pus...</td>\n",
       "      <td>Britain Dalton, Duane Evans Jr., Cliff Curtis,...</td>\n",
       "      <td>Mark Dobson, Aashrita Kamath, Evan Webber, Len...</td>\n",
       "      <td>Disney Plus, Max, Max Amazon Channel</td>\n",
       "      <td>Apple TV, Amazon Video, Google Play Movies, Yo...</td>\n",
       "      <td>Apple TV, Amazon Video, Google Play Movies, Yo...</td>\n",
       "    </tr>\n",
       "    <tr>\n",
       "      <th>...</th>\n",
       "      <td>...</td>\n",
       "      <td>...</td>\n",
       "      <td>...</td>\n",
       "      <td>...</td>\n",
       "      <td>...</td>\n",
       "      <td>...</td>\n",
       "      <td>...</td>\n",
       "      <td>...</td>\n",
       "      <td>...</td>\n",
       "      <td>...</td>\n",
       "      <td>...</td>\n",
       "      <td>...</td>\n",
       "      <td>...</td>\n",
       "    </tr>\n",
       "    <tr>\n",
       "      <th>95</th>\n",
       "      <td>Ruby Gillman, Teenage Kraken</td>\n",
       "      <td>91 minutes</td>\n",
       "      <td>en</td>\n",
       "      <td>Ruby Gillman, a sweet and awkward high school ...</td>\n",
       "      <td>2023-06-28</td>\n",
       "      <td>Animation, Family, Fantasy, Comedy</td>\n",
       "      <td>high school, ocean, boat, transformation, fish...</td>\n",
       "      <td>The Flash, Barbie, Elemental, Transformers: Ri...</td>\n",
       "      <td>Jane Fonda, Tiffany Wu, Nicole Byer, Atticus S...</td>\n",
       "      <td>Bill Diaz, Tyler Phillips, Corey Kraft, Joseph...</td>\n",
       "      <td>Netflix, Netflix basic with Ads</td>\n",
       "      <td>Apple TV, Amazon Video, Google Play Movies, Yo...</td>\n",
       "      <td>Apple TV, Amazon Video, Google Play Movies, Yo...</td>\n",
       "    </tr>\n",
       "    <tr>\n",
       "      <th>96</th>\n",
       "      <td>The Wandering Earth II</td>\n",
       "      <td>173 minutes</td>\n",
       "      <td>zh</td>\n",
       "      <td>Humans built huge engines on the surface of th...</td>\n",
       "      <td>2023-01-22</td>\n",
       "      <td>Science Fiction, Action, Drama</td>\n",
       "      <td>space travel, space station, earth in peril, g...</td>\n",
       "      <td>The Wandering Earth, Fast X, Ant-Man and the W...</td>\n",
       "      <td>Li Peidong, Andy Friend, Liu Jiayun, Kawawa Ka...</td>\n",
       "      <td>Josh Reyes, Meng Jun, Xiangjin Yin, Albert Yeu...</td>\n",
       "      <td>Hoopla</td>\n",
       "      <td>Apple TV, Amazon Video, Google Play Movies, Yo...</td>\n",
       "      <td>Apple TV, Amazon Video, Google Play Movies, Yo...</td>\n",
       "    </tr>\n",
       "    <tr>\n",
       "      <th>97</th>\n",
       "      <td>Creed III</td>\n",
       "      <td>116 minutes</td>\n",
       "      <td>en</td>\n",
       "      <td>After dominating the boxing world, Adonis Cree...</td>\n",
       "      <td>2023-03-01</td>\n",
       "      <td>Drama, Action</td>\n",
       "      <td>husband wife relationship, philadelphia, penns...</td>\n",
       "      <td>A Man Called Otto, Avatar: The Way of Water, S...</td>\n",
       "      <td>Lamont Lankford, Todd Grisham, Jimmy Lennon Jr...</td>\n",
       "      <td>Karoline S. Menezes, Gregory Goodall, Sincere ...</td>\n",
       "      <td>Amazon Prime Video, fuboTV, MGM Plus Amazon Ch...</td>\n",
       "      <td>Apple TV, Amazon Video, Google Play Movies, Yo...</td>\n",
       "      <td>Apple TV, Amazon Video, Google Play Movies, Yo...</td>\n",
       "    </tr>\n",
       "    <tr>\n",
       "      <th>98</th>\n",
       "      <td>Dungeons &amp; Dragons: Honor Among Thieves</td>\n",
       "      <td>134 minutes</td>\n",
       "      <td>en</td>\n",
       "      <td>A charming thief and a band of unlikely advent...</td>\n",
       "      <td>2023-03-23</td>\n",
       "      <td>Adventure, Fantasy, Comedy</td>\n",
       "      <td>platonic love, gang of thieves, dragon, role p...</td>\n",
       "      <td>The Super Mario Bros. Movie, Guardians of the ...</td>\n",
       "      <td>Justice Smith, Fionnlagh Allan, Georgia Lander...</td>\n",
       "      <td>Khalid Almeerani, Dawn Victoria Dudley, Armido...</td>\n",
       "      <td>Amazon Prime Video, fuboTV, MGM Plus Amazon Ch...</td>\n",
       "      <td>Apple TV, Amazon Video, Google Play Movies, Yo...</td>\n",
       "      <td>Apple TV, Amazon Video, Google Play Movies, Yo...</td>\n",
       "    </tr>\n",
       "    <tr>\n",
       "      <th>99</th>\n",
       "      <td>Shazam! Fury of the Gods</td>\n",
       "      <td>130 minutes</td>\n",
       "      <td>en</td>\n",
       "      <td>Billy Batson and his foster siblings, who tran...</td>\n",
       "      <td>2023-03-15</td>\n",
       "      <td>Comedy, Action, Fantasy</td>\n",
       "      <td>superhero, end of the world, super power, afte...</td>\n",
       "      <td>Avatar: The Way of Water, Ant-Man and the Wasp...</td>\n",
       "      <td>Hillary Harley, Bonnie Discepolo, Jessica Font...</td>\n",
       "      <td>Alyson Dee Moore, Reetu Aggarwal, Matt Cavanau...</td>\n",
       "      <td>Netflix, Max, Max Amazon Channel, Netflix basi...</td>\n",
       "      <td>Apple TV, Amazon Video, Google Play Movies, Yo...</td>\n",
       "      <td>Apple TV, Amazon Video, Google Play Movies, Yo...</td>\n",
       "    </tr>\n",
       "  </tbody>\n",
       "</table>\n",
       "<p>200 rows × 13 columns</p>\n",
       "</div>"
      ],
      "text/plain": [
       "                                      Title      Runtime Language  \\\n",
       "0                              The Voyagers  108 minutes       it   \n",
       "1                             The OctoGames   88 minutes       en   \n",
       "2                                Agent Game   90 minutes       en   \n",
       "3                                    Attack  123 minutes       hi   \n",
       "4                  Avatar: The Way of Water  192 minutes       en   \n",
       "..                                      ...          ...      ...   \n",
       "95             Ruby Gillman, Teenage Kraken   91 minutes       en   \n",
       "96                   The Wandering Earth II  173 minutes       zh   \n",
       "97                                Creed III  116 minutes       en   \n",
       "98  Dungeons & Dragons: Honor Among Thieves  134 minutes       en   \n",
       "99                 Shazam! Fury of the Gods  130 minutes       en   \n",
       "\n",
       "                                             Overview Release Date  \\\n",
       "0   Time jump to 1939 with teenager Max and his fr...   2022-11-21   \n",
       "1   Eight contestants compete in eight deadly, cla...   2022-10-07   \n",
       "2   Harris, a CIA interrogator at an Agency black ...   2022-04-08   \n",
       "3   With the Parliament under siege, India’s first...   2022-04-01   \n",
       "4   Set more than a decade after the events of the...   2022-12-14   \n",
       "..                                                ...          ...   \n",
       "95  Ruby Gillman, a sweet and awkward high school ...   2023-06-28   \n",
       "96  Humans built huge engines on the surface of th...   2023-01-22   \n",
       "97  After dominating the boxing world, Adonis Cree...   2023-03-01   \n",
       "98  A charming thief and a band of unlikely advent...   2023-03-23   \n",
       "99  Billy Batson and his foster siblings, who tran...   2023-03-15   \n",
       "\n",
       "                                 Genre  \\\n",
       "0         Fantasy, Adventure, TV Movie   \n",
       "1             Thriller, Action, Horror   \n",
       "2                     Action, Thriller   \n",
       "3    Action, Science Fiction, Thriller   \n",
       "4   Science Fiction, Adventure, Action   \n",
       "..                                 ...   \n",
       "95  Animation, Family, Fantasy, Comedy   \n",
       "96      Science Fiction, Action, Drama   \n",
       "97                       Drama, Action   \n",
       "98          Adventure, Fantasy, Comedy   \n",
       "99             Comedy, Action, Fantasy   \n",
       "\n",
       "                                              Keyword  \\\n",
       "0                              time travel, zeitreise   \n",
       "1                                      遊戲, 挑戰極限, 組團打怪   \n",
       "2   investigation, murder, betrayal, conspiracy, g...   \n",
       "3     parliament, super soldier, soldier, indian army   \n",
       "4   dying and death, loss of loved one, alien life...   \n",
       "..                                                ...   \n",
       "95  high school, ocean, boat, transformation, fish...   \n",
       "96  space travel, space station, earth in peril, g...   \n",
       "97  husband wife relationship, philadelphia, penns...   \n",
       "98  platonic love, gang of thieves, dragon, role p...   \n",
       "99  superhero, end of the world, super power, afte...   \n",
       "\n",
       "                                       Recommendation  \\\n",
       "0   Talk to Me, Jurassic World, Il mammone, Enemy ...   \n",
       "1   Patriots Time, Oppenheimer, The Boy and the He...   \n",
       "2   All the Old Knives, Avatar: The Way of Water, ...   \n",
       "3   Napoleon, Lift, Sixty Minutes, The Marvels, Wi...   \n",
       "4   Avatar, Glass Onion: A Knives Out Mystery, Pus...   \n",
       "..                                                ...   \n",
       "95  The Flash, Barbie, Elemental, Transformers: Ri...   \n",
       "96  The Wandering Earth, Fast X, Ant-Man and the W...   \n",
       "97  A Man Called Otto, Avatar: The Way of Water, S...   \n",
       "98  The Super Mario Bros. Movie, Guardians of the ...   \n",
       "99  Avatar: The Way of Water, Ant-Man and the Wasp...   \n",
       "\n",
       "                                                 Cast  \\\n",
       "0   Federico Tocci, Gianmarco Saurino, Andrea Gaia...   \n",
       "1   Luv Patel, Adam Pietripaoli, Fallon Gyurko, Al...   \n",
       "2   Annie Ilonzeh, Dermot Mulroney, Matt Riedy, Bl...   \n",
       "3   Prakash Raj, Rajit Kapoor, Mehroos Mir, Mohd T...   \n",
       "4   Britain Dalton, Duane Evans Jr., Cliff Curtis,...   \n",
       "..                                                ...   \n",
       "95  Jane Fonda, Tiffany Wu, Nicole Byer, Atticus S...   \n",
       "96  Li Peidong, Andy Friend, Liu Jiayun, Kawawa Ka...   \n",
       "97  Lamont Lankford, Todd Grisham, Jimmy Lennon Jr...   \n",
       "98  Justice Smith, Fionnlagh Allan, Georgia Lander...   \n",
       "99  Hillary Harley, Bonnie Discepolo, Jessica Font...   \n",
       "\n",
       "                                                 Crew  \\\n",
       "0   Gabriele Scarfone, Marco Bassano, Gianni Vezzo...   \n",
       "1   Galen Christy, Aaron Mirtes, Dylan A. Young, B...   \n",
       "2   Shanan Becker, Zachary King, William Bruce Joh...   \n",
       "3   Rohit Chaturvedi, Lakshya Raj Anand, P. S. Vin...   \n",
       "4   Mark Dobson, Aashrita Kamath, Evan Webber, Len...   \n",
       "..                                                ...   \n",
       "95  Bill Diaz, Tyler Phillips, Corey Kraft, Joseph...   \n",
       "96  Josh Reyes, Meng Jun, Xiangjin Yin, Albert Yeu...   \n",
       "97  Karoline S. Menezes, Gregory Goodall, Sincere ...   \n",
       "98  Khalid Almeerani, Dawn Victoria Dudley, Armido...   \n",
       "99  Alyson Dee Moore, Reetu Aggarwal, Matt Cavanau...   \n",
       "\n",
       "                                               Stream  \\\n",
       "0                                                 NaN   \n",
       "1                                                 NaN   \n",
       "2                          Showtime Apple TV Channel    \n",
       "3                                                 NaN   \n",
       "4               Disney Plus, Max, Max Amazon Channel    \n",
       "..                                                ...   \n",
       "95                   Netflix, Netflix basic with Ads    \n",
       "96                                            Hoopla    \n",
       "97  Amazon Prime Video, fuboTV, MGM Plus Amazon Ch...   \n",
       "98  Amazon Prime Video, fuboTV, MGM Plus Amazon Ch...   \n",
       "99  Netflix, Max, Max Amazon Channel, Netflix basi...   \n",
       "\n",
       "                                                  Buy  \\\n",
       "0                                                 NaN   \n",
       "1   Amazon Video, Google Play Movies, YouTube, Vud...   \n",
       "2   Apple TV, Amazon Video, Google Play Movies, Yo...   \n",
       "3                                                 NaN   \n",
       "4   Apple TV, Amazon Video, Google Play Movies, Yo...   \n",
       "..                                                ...   \n",
       "95  Apple TV, Amazon Video, Google Play Movies, Yo...   \n",
       "96  Apple TV, Amazon Video, Google Play Movies, Yo...   \n",
       "97  Apple TV, Amazon Video, Google Play Movies, Yo...   \n",
       "98  Apple TV, Amazon Video, Google Play Movies, Yo...   \n",
       "99  Apple TV, Amazon Video, Google Play Movies, Yo...   \n",
       "\n",
       "                                                 Rent  \n",
       "0                                                 NaN  \n",
       "1   Amazon Video, Google Play Movies, YouTube, Vud...  \n",
       "2   Apple TV, Amazon Video, Google Play Movies, Yo...  \n",
       "3                                                 NaN  \n",
       "4   Apple TV, Amazon Video, Google Play Movies, Yo...  \n",
       "..                                                ...  \n",
       "95  Apple TV, Amazon Video, Google Play Movies, Yo...  \n",
       "96  Apple TV, Amazon Video, Google Play Movies, Yo...  \n",
       "97  Apple TV, Amazon Video, Google Play Movies, Yo...  \n",
       "98  Apple TV, Amazon Video, Google Play Movies, Yo...  \n",
       "99  Apple TV, Amazon Video, Google Play Movies, Yo...  \n",
       "\n",
       "[200 rows x 13 columns]"
      ]
     },
     "metadata": {},
     "output_type": "display_data"
    },
    {
     "name": "stdout",
     "output_type": "stream",
     "text": [
      "\n",
      "\n",
      "\u001b[1m> Entering new AgentExecutor chain...\u001b[0m\n",
      "\u001b[32;1m\u001b[1;3m\n",
      "Invoking: `python_repl_ast` with `{'query': \"df[df['Release Date'] == '2022-11-21']['Title'].values[0]\"}`\n",
      "responded: To recommend films with a similar release date to \"Avatar: The Way of Water,\" I will retrieve the release date of \"Avatar: The Way of Water\" and search for films released around the same time. Please wait a moment while I fetch the information.\n",
      "\n",
      "\u001b[0m\u001b[36;1m\u001b[1;3mThe Voyagers\u001b[0m\u001b[32;1m\u001b[1;3m\n",
      "Invoking: `python_repl_ast` with `{'query': \"df[(df['Release Date'] > '2022-11-01') & (df['Release Date'] < '2022-12-01')]['Title'].values.tolist()\"}`\n",
      "\n",
      "\n",
      "\u001b[0m\u001b[36;1m\u001b[1;3m['The Voyagers', 'Sri Asih', 'Black Panther: Wakanda Forever', 'Suzume', 'Glass Onion: A Knives Out Mystery', \"Teddy's Christmas\", 'That Time I Got Reincarnated as a Slime the Movie: Scarlet Bond', 'Disenchanted', \"Teddy's Christmas\", 'Lamborghini: The Man Behind the Legend', 'Enola Holmes 2']\u001b[0m\u001b[32;1m\u001b[1;3mHere are some films that were released around the same time as \"Avatar: The Way of Water\":\n",
      "\n",
      "- The Voyagers: This film follows teenager Max and his friends as they navigate Mussolini's Rome in 1939 and search for Max's missing brother. It combines elements of fantasy, adventure, and time travel, making it a thrilling choice for fans of \"Avatar: The Way of Water.\"\n",
      "\n",
      "- Sri Asih: This film is a horror-thriller set in Indonesia. It tells the story of a young woman who becomes possessed by a vengeful spirit. If you enjoy supernatural elements and suspenseful plots, \"Sri Asih\" might be a good choice.\n",
      "\n",
      "- Black Panther: Wakanda Forever: This highly anticipated sequel to \"Black Panther\" continues the story of T'Challa and the kingdom of Wakanda. It explores themes of heroism, identity, and the power of community. If you enjoyed the world-building and action of \"Avatar: The Way of Water,\" \"Black Panther: Wakanda Forever\" is worth checking out.\n",
      "\n",
      "- Suzume: This Japanese film is a coming-of-age story set in the 1980s. It follows a young girl named Suzume who dreams of becoming a manga artist. With its nostalgic setting and heartfelt storytelling, \"Suzume\" offers a different but engaging cinematic experience.\n",
      "\n",
      "- Glass Onion: A Knives Out Mystery: This film is a sequel to the popular mystery-comedy \"Knives Out.\" It features a new ensemble cast and a new murder mystery to solve. If you enjoyed the clever twists and turns of \"Avatar: The Way of Water,\" \"Glass Onion: A Knives Out Mystery\" might satisfy your appetite for suspenseful storytelling.\n",
      "\n",
      "Please note that release dates may vary depending on your location and availability.\u001b[0m\n",
      "\n",
      "\u001b[1m> Finished chain.\u001b[0m\n"
     ]
    },
    {
     "data": {
      "text/plain": [
       "{'input': 'Recommend films that have a similar relased date to Avatar: The Way of Water?',\n",
       " 'output': 'Here are some films that were released around the same time as \"Avatar: The Way of Water\":\\n\\n- The Voyagers: This film follows teenager Max and his friends as they navigate Mussolini\\'s Rome in 1939 and search for Max\\'s missing brother. It combines elements of fantasy, adventure, and time travel, making it a thrilling choice for fans of \"Avatar: The Way of Water.\"\\n\\n- Sri Asih: This film is a horror-thriller set in Indonesia. It tells the story of a young woman who becomes possessed by a vengeful spirit. If you enjoy supernatural elements and suspenseful plots, \"Sri Asih\" might be a good choice.\\n\\n- Black Panther: Wakanda Forever: This highly anticipated sequel to \"Black Panther\" continues the story of T\\'Challa and the kingdom of Wakanda. It explores themes of heroism, identity, and the power of community. If you enjoyed the world-building and action of \"Avatar: The Way of Water,\" \"Black Panther: Wakanda Forever\" is worth checking out.\\n\\n- Suzume: This Japanese film is a coming-of-age story set in the 1980s. It follows a young girl named Suzume who dreams of becoming a manga artist. With its nostalgic setting and heartfelt storytelling, \"Suzume\" offers a different but engaging cinematic experience.\\n\\n- Glass Onion: A Knives Out Mystery: This film is a sequel to the popular mystery-comedy \"Knives Out.\" It features a new ensemble cast and a new murder mystery to solve. If you enjoyed the clever twists and turns of \"Avatar: The Way of Water,\" \"Glass Onion: A Knives Out Mystery\" might satisfy your appetite for suspenseful storytelling.\\n\\nPlease note that release dates may vary depending on your location and availability.'}"
      ]
     },
     "execution_count": 87,
     "metadata": {},
     "output_type": "execute_result"
    }
   ],
   "source": [
    "from langchain_experimental.agents import create_pandas_dataframe_agent\n",
    "import pandas as pd\n",
    "\n",
    "# Specify the path to your CSV file\n",
    "csv_2022 = './data/2022_movie_collection_data.csv'\n",
    "csv_2023 = './data/2023_movie_collection_data.csv'\n",
    "\n",
    "# Read the CSV file into a DataFrame\n",
    "df_2022 = pd.read_csv(csv_2022)\n",
    "df_2023 = pd.read_csv(csv_2023)\n",
    "\n",
    "df_all = pd.concat([df_2022, df_2023])\n",
    "\n",
    "display(df_all)\n",
    "\n",
    "custom_prefix = \"\"\"\n",
    "You are an expert on films. Your goal is to recommend films to users based on their question and the retrieved context. \n",
    "If you don't know have a recommendation, just say that you don't have one. Format your film recommendations in a bullet \n",
    "point list. Always include the title of the film you are recommending, and always provide a justification for why you are \n",
    "recommending a particular film. Your justification should be at least four sentences per film. You should recommend no more \n",
    "than five films. If the user asks for film recommendations based on runtime, provide the runtime length in minutes in your response. \"\"\"\n",
    "agent = create_pandas_dataframe_agent(\n",
    "    chat_model, \n",
    "    df_all,\n",
    "    agent_type=\"openai-tools\", \n",
    "    verbose=True, \n",
    "    prefix=custom_prefix,\n",
    "    include_df_in_prompt=True, \n",
    "    number_of_head_rows=1)\n",
    "\n",
    "agent.invoke(\n",
    "    {\n",
    "        \"input\": \"Recommend films that have a similar relased date to Avatar: The Way of Water?\"\n",
    "    }\n",
    ")"
   ]
  },
  {
   "cell_type": "markdown",
   "metadata": {},
   "source": [
    "# SQL"
   ]
  },
  {
   "cell_type": "code",
   "execution_count": 88,
   "metadata": {},
   "outputs": [
    {
     "name": "stdout",
     "output_type": "stream",
     "text": [
      "\n",
      "\n",
      "\u001b[1m> Entering new AgentExecutor chain...\u001b[0m\n",
      "\u001b[32;1m\u001b[1;3m\n",
      "Invoking: `python_repl_ast` with `{'query': \"df[df['Release Date'] == '2022-11-21']['Title'].values[0]\"}`\n",
      "responded: To recommend films that have a similar release date to \"Avatar: The Way of Water,\" I will retrieve the release date of \"Avatar: The Way of Water\" and then search for films with a similar release date. Please wait a moment while I fetch the information.\n",
      "\n",
      "\u001b[0m\u001b[36;1m\u001b[1;3mThe Voyagers\u001b[0m\u001b[32;1m\u001b[1;3m\n",
      "Invoking: `python_repl_ast` with `{'query': \"df[df['Release Date'] == '2022-11-21']['Genre'].values[0]\"}`\n",
      "\n",
      "\n",
      "\u001b[0m\u001b[36;1m\u001b[1;3mFantasy, Adventure, TV Movie\u001b[0m\u001b[32;1m\u001b[1;3m\n",
      "Invoking: `python_repl_ast` with `{'query': \"df[df['Release Date'] == '2022-11-21']['Runtime'].values[0]\"}`\n",
      "\n",
      "\n",
      "\u001b[0m\u001b[36;1m\u001b[1;3m108 minutes\u001b[0m\u001b[32;1m\u001b[1;3mBased on the release date of \"Avatar: The Way of Water,\" I recommend the following films that have a similar release date:\n",
      "\n",
      "1. The Voyagers:\n",
      "   - Genre: Fantasy, Adventure, TV Movie\n",
      "   - Runtime: 108 minutes\n",
      "   - Justification: \"The Voyagers\" is a fantasy adventure film that shares a similar genre with \"Avatar: The Way of Water.\" It takes the audience on an exciting journey with teenagers as they navigate a different time period, just like the time jump in \"Avatar: The Way of Water.\" The runtime of 108 minutes makes it a suitable choice for those who enjoy immersive fantasy adventures within a reasonable time frame.\n",
      "\n",
      "Unfortunately, I don't have information on other films with a similar release date to \"Avatar: The Way of Water.\"\u001b[0m\n",
      "\n",
      "\u001b[1m> Finished chain.\u001b[0m\n"
     ]
    },
    {
     "data": {
      "text/plain": [
       "{'input': 'Recommend films that have a similar relased date to Avatar: The Way of Water?',\n",
       " 'output': 'Based on the release date of \"Avatar: The Way of Water,\" I recommend the following films that have a similar release date:\\n\\n1. The Voyagers:\\n   - Genre: Fantasy, Adventure, TV Movie\\n   - Runtime: 108 minutes\\n   - Justification: \"The Voyagers\" is a fantasy adventure film that shares a similar genre with \"Avatar: The Way of Water.\" It takes the audience on an exciting journey with teenagers as they navigate a different time period, just like the time jump in \"Avatar: The Way of Water.\" The runtime of 108 minutes makes it a suitable choice for those who enjoy immersive fantasy adventures within a reasonable time frame.\\n\\nUnfortunately, I don\\'t have information on other films with a similar release date to \"Avatar: The Way of Water.\"'}"
      ]
     },
     "execution_count": 88,
     "metadata": {},
     "output_type": "execute_result"
    }
   ],
   "source": [
    "from langchain_openai import ChatOpenAI\n",
    "from langchain_community.agent_toolkits import create_sql_agent\n",
    "from langchain_community.utilities import SQLDatabase\n",
    "from sqlalchemy import create_engine\n",
    "\n",
    "engine = create_engine(\"sqlite:///movie.db\")\n",
    "df_all.to_sql(\"movie\", engine, index=False)\n",
    "\n",
    "db = SQLDatabase(engine=engine)\n",
    "\n",
    "agent_executor = create_sql_agent(chat_model, db=db, agent_type=\"openai-tools\", verbose=True)\n",
    "\n",
    "agent.invoke(\n",
    "    {\n",
    "        \"input\": \"Recommend films that have a similar relased date to Avatar: The Way of Water?\"\n",
    "    }\n",
    ")"
   ]
  },
  {
   "cell_type": "code",
   "execution_count": null,
   "metadata": {},
   "outputs": [],
   "source": []
  }
 ],
 "metadata": {
  "kernelspec": {
   "display_name": "FilmBot",
   "language": "python",
   "name": "python3"
  },
  "language_info": {
   "codemirror_mode": {
    "name": "ipython",
    "version": 3
   },
   "file_extension": ".py",
   "mimetype": "text/x-python",
   "name": "python",
   "nbconvert_exporter": "python",
   "pygments_lexer": "ipython3",
   "version": "3.12.2"
  }
 },
 "nbformat": 4,
 "nbformat_minor": 2
}
