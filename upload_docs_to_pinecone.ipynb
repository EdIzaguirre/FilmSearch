{
 "cells": [
  {
   "cell_type": "markdown",
   "metadata": {},
   "source": [
    "# Imports"
   ]
  },
  {
   "cell_type": "code",
   "execution_count": 17,
   "metadata": {},
   "outputs": [
    {
     "data": {
      "text/plain": [
       "True"
      ]
     },
     "execution_count": 17,
     "metadata": {},
     "output_type": "execute_result"
    }
   ],
   "source": [
    "from langchain_community.document_loaders.csv_loader import CSVLoader\n",
    "from langchain_text_splitters import RecursiveCharacterTextSplitter\n",
    "from langchain_pinecone import PineconeVectorStore\n",
    "from langchain_openai import OpenAIEmbeddings\n",
    "from langchain_openai import ChatOpenAI\n",
    "from langchain.prompts import PromptTemplate\n",
    "from langchain_core.runnables import RunnablePassthrough\n",
    "from langchain_core.output_parsers import StrOutputParser\n",
    "from langchain_community.document_loaders import DirectoryLoader\n",
    "from langchain.indexes import SQLRecordManager, index\n",
    "from pinecone import Pinecone, PodSpec\n",
    "import os\n",
    "\n",
    "from dotenv import load_dotenv\n",
    "load_dotenv()"
   ]
  },
  {
   "cell_type": "markdown",
   "metadata": {},
   "source": [
    "# Loading Data"
   ]
  },
  {
   "cell_type": "code",
   "execution_count": 4,
   "metadata": {},
   "outputs": [
    {
     "name": "stderr",
     "output_type": "stream",
     "text": [
      "100%|██████████| 2/2 [00:00<00:00, 38.09it/s]"
     ]
    },
    {
     "name": "stdout",
     "output_type": "stream",
     "text": [
      "Title: Black Adam\n",
      "Runtime: 125 minutes\n",
      "Language: en\n",
      "Overview: Nearly 5,000 years after he was bestowed with the almighty powers of the Egyptian gods—and imprisoned just as quickly—Black Adam is freed from his earthly tomb, ready to unleash his unique form of justice on the modern world.\n",
      "Release Date: 2022-10-19\n",
      "Genre: Action, Adventure, Science Fiction\n",
      "Keyword: lightning, superhero, anti hero, based on comic, demon, superhero team, duringcreditsstinger, dc extended universe (dceu)\n",
      "Recommendation: Black Panther: Wakanda Forever, Avatar: The Way of Water, The Woman King, M3GAN, Troll, Thor: Love and Thunder, Glass Onion: A Knives Out Mystery, Terrifier 2, Smile, Avatar, Top Gun: Maverick, The Guardians of the Galaxy Holiday Special, Guillermo del Toro's Pinocchio, Puss in Boots: The Last Wish, Bullet Train, Violent Night, Spider-Man: No Way Home, Ant-Man and the Wasp: Quantumania, Shazam! Fury of the Gods, Jeepers Creepers: Reborn, Fall\n",
      "Cast: Raj Kala, Donny Carrington, James Cusati-Moyer, Viola Davis, Natasha Ellie, Quintessa Swindell, Derek Russo, Benjamin Patterson, E. Lloyd Napier, Marwan Kenzari, Odelya Halevi, Regina Ting Chen, Jalon Christian, Joseph Gatt, Boone Platt, Aldis Hodge, Sharon Gee, Jermaine Rivers, Kiara Rashawn, Henry Cavill, Tang Nguyen, Alex Parkinson, Bodhi Sabongui, Dwayne Johnson, Mike Senior, Chaim Jeraffi, Philip Fornah, Sanna Erica, Dennis Dawson, A. Manuel Miranda, Cameron Moir, Henry Winkler, Noah Centineo, Pierce Brosnan, Christopher Matthew Cook, Patrick Sabongui, Maurice T. Johnson, Kamen Casey, Sekou Laidlow, Yssa Mei Panganiban, Mo Amer, Ben Jenkin, Jennifer Holland, Daniel Danca, Meghna Nagarajan, Natalie Burn, Angel Rosario Jr., Tre Ryan, Sarah Shahi, Stephan Jones, Vince Canlas, Djimon Hounsou, Onye Eme-Akwari, Tonea Stewart, Uli Latukefu\n",
      "Crew: David Blanco Castillero, Alyson Dee Moore, Joanie Ming, Shane Christopher Wicklund, Fredrick Lyn, Aaron Cornwall, Mohamed Ghouse, Paolo Forni, Chris DiPaola, Blade Ladish, Tanoai Reed, Ray Lai, Melissa Kennedy, Patrice Poissant, Maddalena Perfetti, Jen Knight, Krisztian Majdik, Shannon Cameron, Perry Goyen, Ujwal W Dhankute, Kil Won Yu, Nathan Gardner, Madison Landis, Pete Anthony, Amanda Sprunger, Ben Bigiel, Joseph Ramiro, Pamela Souza, Yan Weitlauff, Midian Crosby, Sarah Mays, Daniel Labossiere, James Gaczkowski, Duncan Shirah, Kevin Houlihan, Edoardo Compagnucci, Jack Chiu, Martin Cicmanec, Stephen A. Gall, Joy Nguyen, Margo Smith, Brett Fahle, Diego Zura Puntaroni, Ryan J. Pezdirc, Micah Loken, Jaume Collet-Serra, Larry Dias, Hiromu Yoshida, Martin Gorbea Sanchez, Gildardo Tobon, Sohrab Noshirvani, Tony Marioni, Kelcey Fry, Zach Kilpatrick, J. Bryan Holloway, Zack Annesty, Adam Schlagman, Peter Dudley, Kelly Bellini, Albert Whitemore, Robert Chapin, Scott La Rue, Darla Wigley, Emad Khalili, Tony D'Aurio, Corrina Roshea Bobb, Adam Sztykiel, Ron Schab, Matthew W. Mungle, Dany Garcia, Eric Sibley, Bria Kinter, Kevin Riepl, David Vyle Levy, Shawn Broes, Hiram Garcia, Valentina Biffi, Fabrizio Fioretti, Romain Besnard, Nick Chambers, Jefrin Antony, Victor James Martinez, Yuri Bartoli, Stella Vaccaro, Jason Sheriff, Mark D. Spain, Bill McCoy, Deokmun Jeong, Robert McKinnon, Truptesh Naik, Kaylee Swisher, Gaia Bussolati, Lawrence Sher, Rajneesh Bahukhandi, Jean-Louis Darville, Suzanna Boykin, Javier Lopez-Duprey, Roxanne Gross, Maryna Goretti, Luigi Baggio, Chris Morley, Daniela Medeiros, Barbara McDermott, Joel Harlow, Robert Ratner, Jamison Rabbe, Rhianna Shaheen, Andrea Lorusso, Robin Lamontagne, Robert Pik, Debby Ruby-Winsberg, Greg ten Bosch, Emil Simeonov, Scott T. Coppock, Marie-Eve Lecours, Davide Battiston, Brian Avery Galligan, Roman Weisgerber, Carlos Oceguera, Daniele DeMaio, Jev Belyaev, Andrea Ceccarelli, Darrin Mann, J.D. Schwalm, Lachlan Tolley, Jennifer Hodges, Francesca Restelli, Bill R. Dean, Riccardo Zoccarato, Richard Bennett, Nilesh Chhadimali, Justin Strong, Vincent Ren Haur Hsu, Margaret Hungerford, Spencer Dinney, Samuel Blouin, Khiew Jit Chun, Francesco Grisi, Kurt Swanson, John Can Simsek, Patty Connolly, Can Yesilyurt, Jacob Curtis Miller, Michael L. Sale, Mike Meaker, Carley Armstrong, Kay Hoddy, Heather Benson, Shamus Baker, Zachary Goodson, Reetu Aggarwal, Kym McCann, Mykhailo Slavov, Matt Huish, Alexandra Casey, Scott Sheldon, Michael Shawn McCracken, Josh Millman, Arielle DePace, Kate Loftis, Max Hicks, Derek Spears, Chad Meire, Nicholas Winkelmann, Steven Melton, Matthias Villemont, Erin Rose Kelly, Ronald J. Webb, Bill Parker, Alex Nice, Aaron Eaton, Allen Lee Williams III, Victor Van De Velde, Yash S. Pathak, Deborah Rutherford, Miguel Victorio, Joshua Tong, Heiðrún Tinna Haraldsdóttir, Pier Lefebvre, Ando Johnson, Tim Walston, Monika van Schellenbeck, David Werntz, Matt Vowles, James Milligan, Natasha Romanow, Diego Perez, Sarah Delucchi, John Rosploch, Silvia Fusetti, Hanjoo Jeong, Vinay Sudhindran, Eloise Cameron-Smith, Rohan Bansie, Kristen Kadel, Charlie Dicus, Paul Story, Virginia Berg, Rich Delia, Ramiro Galan, Davee Ramos-San Diego, Euna Kho, Amanda Cornell, Jose F. Garcia Pineda, Nico Duce, Day Ramphal, Andrew Hofman, Stephanie Gadsden, Charles Labbé, Daniel Perez, Jennifer Conroy, Tonilee Marrone, David An, Ryan Dempsey, Guillem Rovira, John Lee, Walter Schneider, Frank Casaceli, Joe Shuster, Pedram Goshtasbpour, Richard F. Mays, Glen Hombrebueno, Lai Lok Chau, Christopher Battaglia, Stacy Horn, Constanza Ortega, Pol Villà Trilla, Suzanne MacLennan, Darryl Garcia Jr., Aaron Sowd, Austin Beaulier, William J. Shaw, Sam Balzer, Encho Nedevski, Esmeralda Fernandez, Jeff Bruneel, Robert Schajer, Nicole Auringer, Guillaume Grimberghs, Scott Herbertson, Dwayne Johnson, Arda Uysal, Kirsty Whalley, Jacob Metcalf, John Lindstein, Jalal Jemison, Erin Ochi, David Hemphill, Rob Garlow, John Abraham Chempil, Nick Satriano, Gabrielle Garam You, Ramachari Murali, Bradford Bell, Bart Mueller, Harry Cohen, Ryan Murphy, Salvatore Salamone, Randy Ruan, Arijit Chatterjee, Gary DeLeone, Matthew Dion, Robert J. Hall, Danny Reeves, Donna Martin, Wonchan Song, Khizer Diwan, Mathieu Vezina, Kevin Gilbert, Josy Capkun, Mari Lappalainen, David Chow, Vera Dementchouk, Jeff Seelye, Lyubomir Kirkov, Kevin Cerchiai, Jill Bogdanowicz, Bryan O. Watkins, Ryan E. Murphy, Spencer R. Williams, Aditya Ponguri, Federico Sibella, Knox White, Manthan Bhayani, Tristan Brown, Ben Campbell, Kerem Ogan, Ross Nakamura, Greg Teegarden, Cederic Estevao, Allen Coulter, James Seymour Brett, Lorne Balfe, Nikos Kalaitzidis, Erica Arvold, Tarn Greenlaw, John Kitching, Chris Diamantides, Vivek Karmarkar, Roland Dobson, Lindsay Tessier, Justin O'Neal Miller, Dea Cantu, Tosh Elliott, Rob Meyers, Leay Cangelosi, John Sheridan, Alex Klotz, Christina Myal, Ryan S. Westphal, Deepika Mistri, Paul Fedor, Freddie Poole, Karina Nunes, Tom Ozanich, Shreyas Gujrati, Mike Stassi, Natalie Narin Yoo, Jonas Kirk, Bruce Tanis, Donghoon Han, Emma Pelliciari, William Wright Anderson, Walter Hamada, Erik Lehmann, Gerardo Schiavone, Jazmyn Tanski, Jean-Michel Cristofaro, Anna Rane, David Masson, Peter G. Adams, Lisa Smedley, Sébastien Jacob, Youcef Bessaa, Monika Peulic, Kevin Brosseau, Antonio Mossucca, Khitish Shekhar Karua, Emily Freund, Vikas Ganer, Jason Oliver, Gak Gyu Choi, Tom Meyer, Paul Ozzimo, Francesco Vassora, Rohan Bediskar, Christian Scheurer, Chris Radcliffe, Nicha Kumkeaw, Jeremy Hampton, Merten Tremer, Erik Bergrin, Stewart Probert, Yan Morin-Dubuisson, Kimberly Huston, Lersak Bunupuradah, Whit Norris, Jeffrey Henderson, Jesse Turnbull, Patrick Bacon, Jim Meyer, Hugo R.A. Morris, Akansha Bhagat, Peter Mercell, Karen M. Murphy, Sande Alessi, Aaron Barlow, Amy Wetzler, Jacob Wan, Joel Venti, Tim Croshaw, Jonathan Burdeshaw, Daniel Enrique De Leon, Doug Spilatro, Hailie Yang, Patricia Nedd, Robert Brenner, Gabe Hilfer, Kristina Maevskaya, Joni Jacobson, Elisabetta Rocca, Cheyenne A. Bell, Kin Yiu, Bonnie Kanner, Greg Rementer, Alexander T.H. Browne, Nick Forman, Patcha Binginapalli, Claire Callway, Caitlin Parker, Alex Berson, Chase Commins, Brett C. Smith, William B. Lim, Adrienne Wilson, Shayne Hartigan, Amir Wahid Eleswy, Anthony Vincent Papillo, Adam Tankell, Shermaine Toh, Gaëtan Borneuf, Joe Schiff, Laura Holeman, Michael Porterfield, Martin Charles, Silvia Mahapatra, Beat Frutiger, Zachary Kinney, Ralph Reinle, Liciani Vargas, Skylar Gorrell, Josh Sheppard, Emma Sparer, Adam Endrodi, Duy Pham, Dale Pretorius, Nick Irving Allen, Ian Blewitt, Devin Ward, Bjørn Rabben, Shevina Valentina, Jesse Forsey, D. Chris Smith, Maxime Parent-Michaud, Al Watson, Chris Pan, James Pollard, Marco Bordignon, Jerry Siegel, Dan Riker, Matt Cordero, Federico Bonato, Colton Kirkegaard, Vinay Krishan Rohilla, Cliff Welsh, Thomas Nittmann, Terri Douglas, John Hoskins, Erick Ocampo, Lindsay MacGowan, Tarun Behal, Bill Westenhofer, Matthew Dravitzki, Richard Brener, Tim Parsons, Haile Werntz, Gentry Davidson, Ben Warner, Brett Ellis, Sanjeev Kandulna, Carolina Wong, Valentin Cottenye, Don Rutherford, Lesly Cazares, Kat Rodriguez, Eric McLeod, Roland Torda, Ryan Heck, Carrie Carnevale, Susan Strubel, Jo Ann Cordero Belen, Taylor M. Potts, Matthew Wade Stokes, Joe Bucaro III, Erik Omar, Anthony Delacruz, Unsun Song, Shari Ratliff, Susan Lee, William Groebe, Joshua Robertson, Evraam Soliman, Geoff Johns, Anne Costa, Brandon Hines, Gabriela Pruszkowska, Peter Cobbin, Cassie Russek, Yann Moalic, Ankit Vajpayee, Jared Krichevsky, Jason Suhrke, Olivier Blanchet, Harry Brokensha, Irenia Vail, Ron Marelli, Ryan Robert Howard, Michael Keller, Stuart Michael Thomas, Toby Emmerich, Jack Nolan, Manuel Plank-Jorge, Justin Trudeau, Philip Banks, Alexandra Gallo, Robert Bock, Joseph Grundfast, Mazena Puksto, Francesco Pepe, Dan Wilken, Gary Archer, Stian Dahlslett, Amani Durrani, Kulbhushan Kale, Adruitha Lee, Sam Winkler, Stephanie A. Hernandez, Imre Toke, Rob Hamby, Andrea Onorato, Jim Steel, Christina Bruce, Kevin Estey, Matthew McDonald, Gary Jamroz-Palma, Deborah La Mia Denaver, Eric A. Lewy, Monique Hyman, Tiffany McKitrick, Daniel Soltis, Yuyoung Lim, Jarin Rossiter, Dave Neustadter, Karl Rogovin, Aldo Martinez Calzadilla, Constantin von Zitzewitz, Lisieux Calandro, Marlon Victor Bondoc, Björn Rehbein, Darin Read, Jack Kirby, Dino Doane, Beau Flynn, Riki LeCotey, Matthew Bullock, Mark Keever, Kristina Krasteva, Lisha Hocking, Emily Hoi Ying Fung, Siddharth Malviya, Warren Manser, Abby Potts, Frank Piercy, Sean Byrne, Robert Aguirre, Etienne Devillée, Gerald D'Onofrio, Alessandra Restivo, Yasemin Hepguler, Ann Scibelli, Aaron Baudin, Darby Faccinto, Sean Cushing, Tomas Kalhous, Lia Malamo, Luis Martino, Myles Asseter, Rodrigue El Hajj, Rory Haines, Kirill Kalitukha, Angel Carrasco, Velmurugan Rajamani, Luca Nemolato, Thomas Sing Wai Lo, Henri Trinh, Gabriele Motta, Tosin Akinwoye, Prashant Raj, Kerry Herta, Fabricio de Vasconcellos Baessa Antonio, Oscar Michell, Megan Schmidt, Para Malden, Mike Hsu, Erdem Ogel, Mitch Osias, C.C. Beck, Rachel Aguirre, David Moreau, Rogiero Fernández\n",
      "Stream: Netflix, Max, Max Amazon Channel, Netflix basic with Ads\n",
      "Buy: Apple TV, Amazon Video, Google Play Movies, YouTube, Vudu, Microsoft Store, AMC on Demand\n",
      "Rent: Apple TV, Amazon Video, Google Play Movies, YouTube, Vudu, Microsoft Store, Spectrum On Demand\n"
     ]
    },
    {
     "name": "stderr",
     "output_type": "stream",
     "text": [
      "\n"
     ]
    }
   ],
   "source": [
    "loader = DirectoryLoader(\n",
    "    path=\"./data\", \n",
    "    glob=\"*.csv\", \n",
    "    loader_cls=CSVLoader,\n",
    "    show_progress=True)\n",
    "\n",
    "docs = loader.load()\n",
    "\n",
    "print(docs[20].page_content)"
   ]
  },
  {
   "cell_type": "markdown",
   "metadata": {},
   "source": [
    "# Splitting Data"
   ]
  },
  {
   "cell_type": "code",
   "execution_count": 5,
   "metadata": {},
   "outputs": [],
   "source": [
    "text_splitter = RecursiveCharacterTextSplitter(\n",
    "    chunk_size=1000, chunk_overlap=200)\n",
    "splits = text_splitter.split_documents(docs)"
   ]
  },
  {
   "cell_type": "code",
   "execution_count": 6,
   "metadata": {},
   "outputs": [
    {
     "name": "stdout",
     "output_type": "stream",
     "text": [
      "Cast: Prakash Raj, Rajit Kapoor, Mehroos Mir, Mohd Talib, John Abraham, Nimish Desai, Ratna Pathak Shah, Kiran Kumar, Jacqueline Fernandez, Elham Ehsas, Babrak Akbari, Ranjit Punia, Jaimini Pathak, Habib Al Aidroos, Rakul Preet Singh, Serena Walia, Shahnawaz Bhatt\n",
      "Crew: Rohit Chaturvedi, Lakshya Raj Anand, P. S. Vinod, Vishal Kapoor, Shreya Jain, Vijay Ganguly, Mohd Amin Khatib, Jubin Nautiyal, Nakul Chugh, Vaibhav Vishant, Sumit Batheja, Girish Nakod, Ken Metzker, Bishwadeep Dipak Chatterjee, Devanshu Asthana, Yogendra Mogre, Surbhi Yadav, Chavi Sirohi, Shashwat Sachdev, Aarif Sheikh, Mohd Talib, John Abraham, Kuldeep Yadav, Soumik Mukherjee, Kumaar, Minnakshi Das, Akshay Jayantilal Gada, Amritpal Singh, Dhaval Jayantilal Gada, Franz Spilhaus, Jayantilal Gada, Garima Mathur, Will Humphris, Vishal Mishra, Daniel Hansen, Ajay Kapoor\n",
      "Stream: \n",
      "Buy: \n",
      "Rent:\n"
     ]
    }
   ],
   "source": [
    "print(splits[9].page_content)"
   ]
  },
  {
   "cell_type": "markdown",
   "metadata": {},
   "source": [
    "# Creating Embeddings and Uploading to Pinecone"
   ]
  },
  {
   "cell_type": "code",
   "execution_count": 7,
   "metadata": {},
   "outputs": [
    {
     "name": "stdout",
     "output_type": "stream",
     "text": [
      "{'dimension': 1536,\n",
      " 'index_fullness': 0.00911,\n",
      " 'namespaces': {'': {'vector_count': 911}},\n",
      " 'total_vector_count': 911}\n"
     ]
    }
   ],
   "source": [
    "index_name = \"film-bot-index\"\n",
    "\n",
    "# Create empty index\n",
    "PINECONE_KEY, PINECONE_INDEX_NAME = os.getenv(\n",
    "    'PINECONE_API_KEY'), os.getenv('PINECONE_INDEX_NAME')\n",
    "\n",
    "pc = Pinecone(api_key=PINECONE_KEY)\n",
    "\n",
    "# Uncomment if index is not created already\n",
    "# pc.create_index(\n",
    "#     name=\"film-bot-index\",\n",
    "#     dimension=1536,\n",
    "#     metric=\"cosine\",\n",
    "#     spec=PodSpec(\n",
    "#         environment=\"gcp-starter\"\n",
    "#     )\n",
    "# )\n",
    "\n",
    "# Target index and check status\n",
    "pc_index = pc.Index(index_name)\n",
    "print(pc_index.describe_index_stats())\n",
    "\n",
    "embeddings = OpenAIEmbeddings(model='text-embedding-ada-002')\n",
    "\n",
    "vectorstore = PineconeVectorStore(\n",
    "    pc_index, embeddings\n",
    ")\n",
    "\n",
    "# Create record manager\n",
    "namespace = f\"pinecone/{index_name}\"\n",
    "record_manager = SQLRecordManager(\n",
    "    namespace, db_url=\"sqlite:///record_manager_cache.sql\"\n",
    ")\n",
    "\n",
    "record_manager.create_schema()"
   ]
  },
  {
   "cell_type": "code",
   "execution_count": 8,
   "metadata": {},
   "outputs": [
    {
     "data": {
      "text/plain": [
       "{'num_added': 911, 'num_updated': 0, 'num_skipped': 0, 'num_deleted': 0}"
      ]
     },
     "execution_count": 8,
     "metadata": {},
     "output_type": "execute_result"
    }
   ],
   "source": [
    "def _clear():\n",
    "    \"\"\"\n",
    "    Hacky helper method to clear content.\n",
    "    \"\"\"\n",
    "    index([], record_manager, vectorstore,\n",
    "          cleanup=\"full\", source_id_key=\"source\")\n",
    "\n",
    "# Uncomment this line if you want to clear the Pinecone vectorstore\n",
    "_clear()\n",
    "\n",
    "index(splits, record_manager, vectorstore,\n",
    "      cleanup=\"full\", source_id_key=\"source\")"
   ]
  },
  {
   "cell_type": "code",
   "execution_count": 9,
   "metadata": {},
   "outputs": [
    {
     "name": "stdout",
     "output_type": "stream",
     "text": [
      "Keyword: hero, superhero, space travel, based on comic, sequel, teenage girl, aftercreditsstinger, duringcreditsstinger, marvel cinematic universe (mcu), space adventure\n",
      "Recommendation: The Hunger Games: The Ballad of Songbirds & Snakes, Wonka, Aquaman and the Lost Kingdom, The Killer, Napoleon, Five Nights at Freddy's, The Creator, Wish, Oppenheimer, Killers of the Flower Moon, Migration, Leave the World Behind, A Haunting in Venice, Captain Marvel, Barbie, Rebel Moon - Part One: A Child of Fire, The Equalizer 3, Saltburn, Lift, Elemental, Role Play\n"
     ]
    }
   ],
   "source": [
    "query = \"Movies based on novels or books.\"\n",
    "docs = vectorstore.similarity_search(query)\n",
    "print(docs[0].page_content)"
   ]
  },
  {
   "cell_type": "markdown",
   "metadata": {},
   "source": [
    "# Creating a Retriever"
   ]
  },
  {
   "cell_type": "code",
   "execution_count": 10,
   "metadata": {},
   "outputs": [],
   "source": [
    "retriever = vectorstore.as_retriever(\n",
    "    search_type=\"similarity\", search_kwargs={\"k\": 6})"
   ]
  },
  {
   "cell_type": "code",
   "execution_count": 11,
   "metadata": {},
   "outputs": [],
   "source": [
    "retrieved_docs = retriever.invoke(\n",
    "    \"What are some films with about a person who becomes a tyrannical president of Panem?\")"
   ]
  },
  {
   "cell_type": "code",
   "execution_count": 12,
   "metadata": {},
   "outputs": [
    {
     "data": {
      "text/plain": [
       "6"
      ]
     },
     "execution_count": 12,
     "metadata": {},
     "output_type": "execute_result"
    }
   ],
   "source": [
    "len(retrieved_docs)"
   ]
  },
  {
   "cell_type": "code",
   "execution_count": 13,
   "metadata": {},
   "outputs": [
    {
     "name": "stdout",
     "output_type": "stream",
     "text": [
      "Title: The Hunger Games: The Ballad of Songbirds & Snakes\n",
      "Runtime: 157 minutes\n",
      "Language: en\n",
      "Overview: 64 years before he becomes the tyrannical president of Panem, Coriolanus Snow sees a chance for a change in fortunes when he mentors Lucy Gray Baird, the female tribute from District 12.\n",
      "Release Date: 2023-11-15\n",
      "Genre: Drama, Science Fiction, Action\n",
      "Keyword: daughter, based on novel or book, arena, fight, mentor, dystopia, riot, exploration, president, prequel, survival, murder, snow, creature, battle, fight to the death, young adult, origin story, based on young adult novel, death game, teenager\n",
      "Recommendation: Aquaman and the Lost Kingdom, Napoleon, The Marvels, Wonka, The Hunger Games, Rebel Moon - Part One: A Child of Fire, The Family Plan, Oppenheimer, Thanksgiving, Killers of the Flower Moon, Five Nights at Freddy's, Saltburn, The Creator, There's Still Tomorrow, Silent Night, Barbie, Leave the World Behind, Wish, The Hunger Games: Mockingjay - Part 1, Family Switch, Leo\n"
     ]
    }
   ],
   "source": [
    "print(retrieved_docs[0].page_content)"
   ]
  },
  {
   "cell_type": "markdown",
   "metadata": {},
   "source": [
    "# Creating an LLM with Retriever"
   ]
  },
  {
   "cell_type": "code",
   "execution_count": 36,
   "metadata": {},
   "outputs": [],
   "source": [
    "from langchain_community.chat_models.huggingface import ChatHuggingFace\n",
    "from langchain_community.llms import HuggingFaceHub\n",
    "from huggingface_hub.hf_api import HfFolder \n",
    "\n",
    "HfFolder.save_token(os.getenv('HUGGINGFACEHUB_API_TOKEN'))\n",
    "\n",
    "REPO_ID = \"HuggingFaceH4/zephyr-7b-beta\"\n",
    "\n",
    "llm = HuggingFaceHub(\n",
    "    repo_id=REPO_ID,\n",
    "    task=\"text-generation\",\n",
    "    model_kwargs={\n",
    "        \"max_new_tokens\": 512,\n",
    "        \"top_k\": 30,\n",
    "        \"temperature\": 0.1,\n",
    "        \"repetition_penalty\": 1.03,\n",
    "    },\n",
    ")\n",
    "\n",
    "# chat_model = ChatHuggingFace(llm=llm)\n",
    "chat_model = ChatOpenAI(model_name=\"gpt-3.5-turbo-0125\", temperature=0.5)\n",
    "\n",
    "prompt_template = PromptTemplate.from_template(\n",
    "    \"\"\"\n",
    "    You are an expert on films. Your goal is to recommend films to users based on their\n",
    "    question and the retrieved context. If you don't know have a recommendation, just say that you don't have one. \n",
    "    Format your film recommendations in a bullet point list. Always include the title of the film you are recommending,\n",
    "    and always provide a justification for why you are recommending a particular film. You should recommend no more than\n",
    "    five films. If the user asks for film recommendations based on runtime, provide the runtime length in minutes in your\n",
    "    response. Only recommend films that are given to you in the context, do not recommend any other films.\n",
    "    \n",
    "    The documents that are provided will have the following format:\n",
    "\n",
    "    ### FORMAT ###\n",
    "    Title: [Title of film]\n",
    "    Runtime: [Runtime of film] minutes\n",
    "    Language: [Language of film in ISO 639-1 language code]\n",
    "    Overview: [Overview of film]\n",
    "    Release Date: [Release data of film in format YYYY-MM-DD]\n",
    "    Genre: [Genre of film, a comma separated list]\n",
    "    Keyword: [Keywords describing the film, a comma separated list]\n",
    "    Recommendation: [Recommendations for other films based on the current film, a comma separated list]\n",
    "    Cast: [Cast of film, a comma separated list]\n",
    "    Crew: [Crew of film, a comma separated list]\n",
    "    Stream: [Streaming provider to watch film, a comma separated list]\n",
    "    Buy: [Provider to buy film, a comma separated list]\n",
    "    Rent: [Provider to rent film, a comma separated list]\n",
    "    ### FORMAT ###\n",
    "\n",
    "    Question: {question} \n",
    "\n",
    "    Context: {context} \n",
    "\n",
    "    Answer:\n",
    "\n",
    "    \"\"\"\n",
    ")\n",
    "\n",
    "def format_docs(docs):\n",
    "    return \"\\n\\n\".join(doc.page_content for doc in docs)\n",
    "\n",
    "rag_chain = (\n",
    "    {\"context\": retriever | format_docs, \"question\": RunnablePassthrough()}\n",
    "    | prompt_template\n",
    "    | chat_model\n",
    "    | StrOutputParser()\n",
    ")"
   ]
  },
  {
   "cell_type": "code",
   "execution_count": 37,
   "metadata": {},
   "outputs": [
    {
     "name": "stdout",
     "output_type": "stream",
     "text": [
      "- Blue Beetle: This film is recommended because it shares the genre of adventure with Barbie and also features a protagonist with special abilities.\n",
      "- Spider-Man: Across the Spider-Verse: This film is recommended because it shares the genre of adventure with Barbie and also features a superhero protagonist.\n",
      "- Talk to Me: This film is recommended because it shares the genre of comedy with Barbie and also explores themes of communication and relationships.\n",
      "- Gran Turismo: This film is recommended because it shares the genre of comedy with Barbie and also features a story centered around cars and racing.\n",
      "- Indiana Jones and the Dial of Destiny: This film is recommended because it shares the genre of adventure with Barbie and also features a thrilling and action-packed story."
     ]
    }
   ],
   "source": [
    "for chunk in rag_chain.stream(\"Recommend some films similar to Barbie.\"):\n",
    "    print(chunk, end=\"\", flush=True)"
   ]
  },
  {
   "cell_type": "markdown",
   "metadata": {},
   "source": [
    "# Creating an Agent with Wiki + RAG"
   ]
  },
  {
   "cell_type": "code",
   "execution_count": 53,
   "metadata": {},
   "outputs": [],
   "source": [
    "from langchain.agents import AgentExecutor\n",
    "from langchain.tools import WikipediaQueryRun\n",
    "from langchain.tools.retriever import create_retriever_tool\n",
    "from langchain_community.utilities import WikipediaAPIWrapper\n",
    "from langchain.agents import create_openai_functions_agent\n",
    "from langchain_core.prompts import ChatPromptTemplate, SystemMessagePromptTemplate\n",
    "from langchain.prompts import HumanMessagePromptTemplate, MessagesPlaceholder\n",
    "from langchain_core.messages import SystemMessage\n",
    "\n",
    "retriever_tool = create_retriever_tool(\n",
    "    retriever,\n",
    "    \"movie_data\",\n",
    "    \"\"\"\n",
    "    Search for basic information regarding films. Information \n",
    "    includes: title, release date, original language, genre, \n",
    "    recommendations, keywords describing the film, the cast,\n",
    "    crew, and where to stream, rent, or buy the film. If you\n",
    "    need any of this information, use this tool!\n",
    "    \"\"\"\n",
    ")\n",
    "\n",
    "wikipedia_tool = WikipediaQueryRun(api_wrapper=WikipediaAPIWrapper())\n",
    "tools = [retriever_tool, wikipedia_tool]\n",
    "\n",
    "prompt_template = ChatPromptTemplate.from_messages(\n",
    "    [\n",
    "        (\n",
    "            'system',\n",
    "            \"\"\"\n",
    "            You are an expert on films. Your goal is to recommend films to users based on their question and the retrieved context. \n",
    "            If you don't know have a recommendation, just say that you don't have one. Format your film recommendations in a bullet \n",
    "            point list. Always include the title of the film you are recommending, and always provide a justification for why you are \n",
    "            recommending a particular film. Your justification should be at least four sentences per film. You should recommend no more \n",
    "            than five films. If the user asks for film recommendations based on runtime, provide the runtime length in minutes in your response. \n",
    "            \"\"\"\n",
    "            ),\n",
    "        MessagesPlaceholder(variable_name='chat_history', optional=True),\n",
    "        HumanMessagePromptTemplate(prompt=PromptTemplate(\n",
    "            input_variables=['input'], template='{input}')),\n",
    "        MessagesPlaceholder(variable_name=\"agent_scratchpad\"),\n",
    "    ]\n",
    ")\n",
    "\n",
    "# [SystemMessagePromptTemplate(prompt=PromptTemplate(input_variables=[], template='You are a helpful assistant')),\n",
    "#  MessagesPlaceholder(variable_name='chat_history', optional=True),\n",
    "#  HumanMessagePromptTemplate(prompt=PromptTemplate(input_variables=['input'], template='{input}')),\n",
    "#  MessagesPlaceholder(variable_name='agent_scratchpad')]\n",
    "\n",
    "agent = create_openai_functions_agent(chat_model, tools, prompt_template)\n",
    "\n",
    "agent_executor = AgentExecutor(agent=agent, tools=tools, verbose=True)"
   ]
  },
  {
   "cell_type": "code",
   "execution_count": 54,
   "metadata": {},
   "outputs": [
    {
     "name": "stdout",
     "output_type": "stream",
     "text": [
      "\n",
      "\n",
      "\u001b[1m> Entering new AgentExecutor chain...\u001b[0m\n",
      "\u001b[32;1m\u001b[1;3m\n",
      "Invoking: `movie_data` with `{'query': 'Barbie'}`\n",
      "\n",
      "\n",
      "\u001b[0m\u001b[36;1m\u001b[1;3mTitle: Barbie\n",
      "Runtime: 114 minutes\n",
      "Language: en\n",
      "Overview: Barbie and Ken are having the time of their lives in the colorful and seemingly perfect world of Barbie Land. However, when they get a chance to go to the real world, they soon discover the joys and perils of living among humans.\n",
      "Release Date: 2023-07-19\n",
      "Genre: Comedy, Adventure\n",
      "Keyword: feminism, satire, patriarchy, based on toy, female protagonist, doll, fantasy world, motherhood, existentialism, woman director, mother daughter relationship, gender discrimination, barbie, secret world\n",
      "\n",
      "Recommendation: Barbie, The Creator, Mission: Impossible - Dead Reckoning Part One, Guardians of the Galaxy Vol. 3, Five Nights at Freddy's, Killers of the Flower Moon, The Flash, A Haunting in Venice, Interstellar, Spider-Man: Across the Spider-Verse, The Super Mario Bros. Movie, Elemental, Asteroid City, Indiana Jones and the Dial of Destiny, Napoleon, Talk to Me, Gran Turismo, Blue Beetle, Sound of Freedom, Meg 2: The Trench, John Wick: Chapter 4\n",
      "\n",
      "Title: The Adventures\n",
      "Runtime: 143 minutes\n",
      "Language: th\n",
      "Overview: Joy, a secretary at a large multinational company, has an online shopping problem, likes to read adventure novels and watch travel and adventure shows. She daydreams about living a life of adventure.\n",
      "Release Date: 2023-12-22\n",
      "Genre: Romance, Comedy, Adventure\n",
      "Keyword: \n",
      "Recommendation: Invasion of Astro-Monster, Qwerty, Hatchet III, way, Barbie in the Pink Shoes, Qwerty, Barbie Presents: Thumbelina, Barbie in A Mermaid Tale 2, Qwerty, Aquaman, Nightmare Cinema, Deadpool, Gone Mom: The Disappearance of Jennifer Dulos, Batman Unlimited: Mechs vs. Mutants, HELLO, Hello, Avatar Spirits, Hello, Barbie: Big City, Big Dreams, Magnum Opus, Barbie in Rock 'N Royals\n",
      "Cast: Sunny Suwanmethanon, Matcha Mosimann, Somchai Kemglad, Peerada Kointarangkul, Jarnnawut Jarnyaharn, Li Zhenyu, Yunhe Li, Pongsatorn Jongwilas\n",
      "Crew: Ittisak Eusunthornwattana\n",
      "Stream: Amazon Prime Video\n",
      "Buy: \n",
      "Rent:\n",
      "\n",
      "Release Date: 2023-05-18\n",
      "Genre: Adventure, Family, Fantasy, Romance\n",
      "Keyword: mermaid, musical, based on fairy tale, live action remake\n",
      "Recommendation: Barbie, Spider-Man: Across the Spider-Verse, Guardians of the Galaxy Vol. 3, Elemental, The Flash, Fast X, Transformers: Rise of the Beasts, The Super Mario Bros. Movie, John Wick: Chapter 4, The Little Mermaid, Avatar: The Way of Water, No Hard Feelings, Oppenheimer, Ant-Man and the Wasp: Quantumania, Meg 2: The Trench, My Fault, Indiana Jones and the Dial of Destiny, Miraculous: Ladybug & Cat Noir, The Movie, Dungeons & Dragons: Honor Among Thieves, Ruby Gillman, Teenage Kraken, Spider-Man: Into the Spider-Verse\n",
      "\n",
      "Recommendation: Barbie, Blue Beetle, Spider-Man: Across the Spider-Verse, Talk to Me, Gran Turismo, Indiana Jones and the Dial of Destiny, John Wick: Chapter 4, The Last Voyage of the Demeter, Meg 2: The Trench, Oppenheimer, The Flash, A Haunting in Venice, The Nun II, The Little Mermaid, Mission: Impossible - Dead Reckoning Part One, Elemental, The Super Mario Bros. Movie, Heart of Stone, The Creator, Asteroid City, The Equalizer 3\n",
      "Cast: Nicolas Cantu, Micah Abbey, Danny Mastrogiorgio, Alex Hirsch, Dempsey Pappion, Post Malone, Jeff Rowe, Shamon Brown Jr., Andia Winslow, Brady Noon, Raechel Wong, Seth Rogen, John Cena, David Faustino, Bobby Wagner, Giancarlo Esposito, Jimmy Donaldson, Maya Rudolph, Hannibal Buress, John Capodice, Myra Owyang, Rose Byrne, Lukas Williams, Illya Quinteros, Mike Rianda, Michael Badalucco, Jackie Chan, Paul Rudd, Natasia Demetriou, Noel Gibson, Greg Levitan, Ayo Edebiri, Derek Wilson, Kyler Spears, Natalie Canizares, Ice Cube, Kevin Eastman\n",
      "\n",
      "Release Date: 2022-12-05\n",
      "Genre: Family, Adventure, Fantasy\n",
      "Keyword: \n",
      "Recommendation: My Policeman, Avatar: The Way of Water, Barbie, The Whale, Encanto, Black Widow, Parasite, Soul, Oppenheimer, Inception, Spider-Man: No Way Home, Luca, The Suicide Squad, Creed III, Avengers: Endgame, Gran Turismo, Mission: Impossible - Dead Reckoning Part One, Spider-Man: Across the Spider-Verse, Raya and the Last Dragon, Elemental, The Batman\u001b[0m\u001b[32;1m\u001b[1;3mHere are some films similar to Barbie:\n",
      "\n",
      "1. The Adventures:\n",
      "   - Runtime: 143 minutes\n",
      "   - Genre: Romance, Comedy, Adventure\n",
      "   - Overview: Joy, a secretary at a large multinational company, daydreams about living a life of adventure.\n",
      "   - Recommendation: This film shares the adventure theme with Barbie and also combines romance and comedy. It follows the story of a woman who yearns for excitement and embarks on a journey to live a life of adventure. If you enjoyed the adventurous elements in Barbie, you might enjoy The Adventures.\n",
      "\n",
      "2. The Little Mermaid:\n",
      "   - Runtime: Not available\n",
      "   - Genre: Adventure, Family, Fantasy, Romance\n",
      "   - Overview: This live-action remake of the classic fairy tale follows the story of a young mermaid who dreams of becoming human and falls in love with a prince.\n",
      "   - Recommendation: If you enjoyed the fantasy and romance elements in Barbie, you might enjoy The Little Mermaid. It features a similar theme of a young woman embarking on a journey to follow her dreams and find love.\n",
      "\n",
      "3. Blue Beetle:\n",
      "   - Runtime: Not available\n",
      "   - Genre: Action, Adventure, Fantasy\n",
      "   - Overview: This film follows the story of a young boy who discovers a mysterious scarab that gives him superpowers and transforms him into the Blue Beetle, a superhero.\n",
      "   - Recommendation: If you enjoyed the adventure and fantasy elements in Barbie, you might enjoy Blue Beetle. It features a young protagonist who discovers newfound powers and becomes a superhero, similar to the empowering themes in Barbie.\n",
      "\n",
      "4. Spider-Man: Across the Spider-Verse:\n",
      "   - Runtime: Not available\n",
      "   - Genre: Animation, Action, Adventure\n",
      "   - Overview: This animated film follows the story of Miles Morales, a young Spider-Man, as he embarks on a multiverse adventure and encounters different versions of Spider-Man.\n",
      "   - Recommendation: If you enjoyed the animated adventure in Barbie, you might enjoy Spider-Man: Across the Spider-Verse. It features a young hero navigating through different dimensions and encountering various versions of Spider-Man, providing a thrilling and visually stunning experience.\n",
      "\n",
      "5. The Creator:\n",
      "   - Runtime: Not available\n",
      "   - Genre: Adventure, Comedy, Drama\n",
      "   - Overview: This film follows the story of a young inventor who creates a machine that can bring his drawings to life, leading to a series of misadventures.\n",
      "   - Recommendation: If you enjoyed the creativity and adventure in Barbie, you might enjoy The Creator. It explores the theme of imagination and invention, and the protagonist's journey of bringing his creations to life adds an element of adventure and humor to the story.\u001b[0m\n",
      "\n",
      "\u001b[1m> Finished chain.\u001b[0m\n"
     ]
    },
    {
     "data": {
      "text/plain": [
       "{'input': 'Recommend some films similar to Barbie.',\n",
       " 'output': \"Here are some films similar to Barbie:\\n\\n1. The Adventures:\\n   - Runtime: 143 minutes\\n   - Genre: Romance, Comedy, Adventure\\n   - Overview: Joy, a secretary at a large multinational company, daydreams about living a life of adventure.\\n   - Recommendation: This film shares the adventure theme with Barbie and also combines romance and comedy. It follows the story of a woman who yearns for excitement and embarks on a journey to live a life of adventure. If you enjoyed the adventurous elements in Barbie, you might enjoy The Adventures.\\n\\n2. The Little Mermaid:\\n   - Runtime: Not available\\n   - Genre: Adventure, Family, Fantasy, Romance\\n   - Overview: This live-action remake of the classic fairy tale follows the story of a young mermaid who dreams of becoming human and falls in love with a prince.\\n   - Recommendation: If you enjoyed the fantasy and romance elements in Barbie, you might enjoy The Little Mermaid. It features a similar theme of a young woman embarking on a journey to follow her dreams and find love.\\n\\n3. Blue Beetle:\\n   - Runtime: Not available\\n   - Genre: Action, Adventure, Fantasy\\n   - Overview: This film follows the story of a young boy who discovers a mysterious scarab that gives him superpowers and transforms him into the Blue Beetle, a superhero.\\n   - Recommendation: If you enjoyed the adventure and fantasy elements in Barbie, you might enjoy Blue Beetle. It features a young protagonist who discovers newfound powers and becomes a superhero, similar to the empowering themes in Barbie.\\n\\n4. Spider-Man: Across the Spider-Verse:\\n   - Runtime: Not available\\n   - Genre: Animation, Action, Adventure\\n   - Overview: This animated film follows the story of Miles Morales, a young Spider-Man, as he embarks on a multiverse adventure and encounters different versions of Spider-Man.\\n   - Recommendation: If you enjoyed the animated adventure in Barbie, you might enjoy Spider-Man: Across the Spider-Verse. It features a young hero navigating through different dimensions and encountering various versions of Spider-Man, providing a thrilling and visually stunning experience.\\n\\n5. The Creator:\\n   - Runtime: Not available\\n   - Genre: Adventure, Comedy, Drama\\n   - Overview: This film follows the story of a young inventor who creates a machine that can bring his drawings to life, leading to a series of misadventures.\\n   - Recommendation: If you enjoyed the creativity and adventure in Barbie, you might enjoy The Creator. It explores the theme of imagination and invention, and the protagonist's journey of bringing his creations to life adds an element of adventure and humor to the story.\"}"
      ]
     },
     "execution_count": 54,
     "metadata": {},
     "output_type": "execute_result"
    }
   ],
   "source": [
    "agent_executor.invoke({\"input\": \"Recommend some films similar to Barbie.\"})"
   ]
  },
  {
   "cell_type": "code",
   "execution_count": null,
   "metadata": {},
   "outputs": [],
   "source": []
  }
 ],
 "metadata": {
  "kernelspec": {
   "display_name": "FilmBot",
   "language": "python",
   "name": "python3"
  },
  "language_info": {
   "codemirror_mode": {
    "name": "ipython",
    "version": 3
   },
   "file_extension": ".py",
   "mimetype": "text/x-python",
   "name": "python",
   "nbconvert_exporter": "python",
   "pygments_lexer": "ipython3",
   "version": "3.12.2"
  }
 },
 "nbformat": 4,
 "nbformat_minor": 2
}
