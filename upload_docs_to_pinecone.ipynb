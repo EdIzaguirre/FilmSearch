{
 "cells": [
  {
   "cell_type": "markdown",
   "metadata": {},
   "source": [
    "# Imports"
   ]
  },
  {
   "cell_type": "code",
   "execution_count": 18,
   "metadata": {},
   "outputs": [
    {
     "data": {
      "text/plain": [
       "True"
      ]
     },
     "execution_count": 18,
     "metadata": {},
     "output_type": "execute_result"
    }
   ],
   "source": [
    "from langchain_community.document_loaders.csv_loader import CSVLoader\n",
    "from langchain_text_splitters import RecursiveCharacterTextSplitter\n",
    "from langchain_pinecone import PineconeVectorStore\n",
    "from langchain_openai import OpenAIEmbeddings\n",
    "from langchain_openai import ChatOpenAI\n",
    "from langchain.prompts import PromptTemplate\n",
    "from langchain_core.runnables import RunnablePassthrough\n",
    "from langchain_core.output_parsers import StrOutputParser\n",
    "from langchain_community.document_loaders import DirectoryLoader\n",
    "from langchain.indexes import SQLRecordManager, index\n",
    "from pinecone import Pinecone, PodSpec\n",
    "import os\n",
    "\n",
    "from dotenv import load_dotenv\n",
    "load_dotenv()"
   ]
  },
  {
   "cell_type": "markdown",
   "metadata": {},
   "source": [
    "# Loading Data"
   ]
  },
  {
   "cell_type": "code",
   "execution_count": 19,
   "metadata": {},
   "outputs": [
    {
     "name": "stderr",
     "output_type": "stream",
     "text": [
      "100%|██████████| 2/2 [00:00<00:00, 10.44it/s]"
     ]
    },
    {
     "name": "stdout",
     "output_type": "stream",
     "text": [
      "The Voyagers: Top Gun: Maverick\n",
      "108: 131\n",
      "it: en\n",
      "Time jump to 1939 with teenager Max and his friends as they try to navigate Mussolini's Rome and find Max's missing brother.: After more than thirty years of service as one of the Navy’s top aviators, and dodging the advancement in rank that would ground him, Pete “Maverick” Mitchell finds himself training a detachment of TOP GUN graduates for a specialized mission the likes of which no living pilot has ever seen.\n",
      "2022-11-21: 2022-05-24\n",
      "Fantasy, Adventure, TV Movie: Action, Drama\n",
      "time travel, zeitreise: fighter pilot, u.s. navy, sequel, nuclear weapons, military\n",
      ": Top Gun: Maverick is a 2022 American action drama film directed by Joseph Kosinski and written by Ehren Kruger, Eric Warren Singer, and Christopher McQuarrie from stories by Peter Craig and Justin Marks. The film is a sequel to the 1986 film Top Gun. Tom Cruise reprises his starring role as the naval aviator Maverick. It is based on the characters of the original film created by\n"
     ]
    },
    {
     "name": "stderr",
     "output_type": "stream",
     "text": [
      "\n"
     ]
    }
   ],
   "source": [
    "loader = DirectoryLoader(\n",
    "    path=\"./data\", \n",
    "    glob=\"*.csv\", \n",
    "    loader_cls=CSVLoader,\n",
    "    show_progress=True)\n",
    "\n",
    "docs = loader.load()\n",
    "\n",
    "print(docs[10].page_content[:1000])"
   ]
  },
  {
   "cell_type": "markdown",
   "metadata": {},
   "source": [
    "# Splitting Data"
   ]
  },
  {
   "cell_type": "code",
   "execution_count": 20,
   "metadata": {},
   "outputs": [],
   "source": [
    "text_splitter = RecursiveCharacterTextSplitter(\n",
    "    chunk_size=1000, chunk_overlap=200)\n",
    "splits = text_splitter.split_documents(docs)"
   ]
  },
  {
   "cell_type": "code",
   "execution_count": 21,
   "metadata": {},
   "outputs": [
    {
     "name": "stdout",
     "output_type": "stream",
     "text": [
      "The Voyagers: The OctoGames\n",
      "108: 88\n",
      "it: en\n",
      "Time jump to 1939 with teenager Max and his friends as they try to navigate Mussolini's Rome and find Max's missing brother.: Eight contestants compete in eight deadly, classic children's games. They seek fame beyond their wildest dreams, competing for the chance to take over the YouTube channel of the famous yet elusive masked content creator known only as \"JaxPro\".\n",
      "2022-11-21: 2022-10-07\n",
      "Fantasy, Adventure, TV Movie: Thriller, Action, Horror\n",
      "time travel, zeitreise: 遊戲, 挑戰極限, 組團打怪\n",
      ":\n"
     ]
    }
   ],
   "source": [
    "print(splits[0].page_content)"
   ]
  },
  {
   "cell_type": "markdown",
   "metadata": {},
   "source": [
    "# Creating Embeddings and Uploading to Pinecone"
   ]
  },
  {
   "cell_type": "code",
   "execution_count": 22,
   "metadata": {},
   "outputs": [
    {
     "name": "stdout",
     "output_type": "stream",
     "text": [
      "{'dimension': 1536,\n",
      " 'index_fullness': 0.00218,\n",
      " 'namespaces': {'': {'vector_count': 218}},\n",
      " 'total_vector_count': 218}\n"
     ]
    }
   ],
   "source": [
    "index_name = \"film-bot-index\"\n",
    "\n",
    "# Create empty index\n",
    "PINECONE_KEY, PINECONE_INDEX_NAME = os.getenv(\n",
    "    'PINECONE_API_KEY'), os.getenv('PINECONE_INDEX_NAME')\n",
    "\n",
    "pc = Pinecone(api_key=PINECONE_KEY)\n",
    "\n",
    "# Uncomment if index is not created already\n",
    "# pc.create_index(\n",
    "#     name=\"film-bot-index\",\n",
    "#     dimension=1536,\n",
    "#     metric=\"cosine\",\n",
    "#     spec=PodSpec(\n",
    "#         environment=\"gcp-starter\"\n",
    "#     )\n",
    "# )\n",
    "\n",
    "# Target index and check status\n",
    "pc_index = pc.Index(index_name)\n",
    "print(pc_index.describe_index_stats())\n",
    "\n",
    "embeddings = OpenAIEmbeddings(model='text-embedding-ada-002')\n",
    "\n",
    "vectorstore = PineconeVectorStore(\n",
    "    pc_index, embeddings\n",
    ")\n",
    "\n",
    "# Create record manager\n",
    "namespace = f\"pinecone/{index_name}\"\n",
    "record_manager = SQLRecordManager(\n",
    "    namespace, db_url=\"sqlite:///record_manager_cache.sql\"\n",
    ")\n",
    "\n",
    "record_manager.create_schema()"
   ]
  },
  {
   "cell_type": "code",
   "execution_count": 23,
   "metadata": {},
   "outputs": [
    {
     "data": {
      "text/plain": [
       "{'num_added': 5316, 'num_updated': 0, 'num_skipped': 0, 'num_deleted': 0}"
      ]
     },
     "execution_count": 23,
     "metadata": {},
     "output_type": "execute_result"
    }
   ],
   "source": [
    "def _clear():\n",
    "    \"\"\"\n",
    "    Hacky helper method to clear content.\n",
    "    \"\"\"\n",
    "    index([], record_manager, vectorstore,\n",
    "          cleanup=\"full\", source_id_key=\"source\")\n",
    "\n",
    "# Uncomment this line if you want to clear the Pinecone vectorstore\n",
    "# _clear()\n",
    "\n",
    "index(splits, record_manager, vectorstore,\n",
    "      cleanup=\"full\", source_id_key=\"source\")"
   ]
  },
  {
   "cell_type": "code",
   "execution_count": 24,
   "metadata": {},
   "outputs": [
    {
     "name": "stdout",
     "output_type": "stream",
     "text": [
      "Films\n",
      "Batman (1966 film), based on the 1966 television series\n",
      "Batman (1989 film)\n",
      "Batman (serial), a 1943 film serial\n",
      "The Batman (film), a 2022 film\n",
      "\n",
      "Television\n",
      "Batman (TV series), 1966–1968 television series\n",
      "The Adventures of Batman, a 1968–1969 animated series (aka: The Batman/Superman Hour and Batman with Robin the Boy Wonder)\n",
      "Batman: The Animated Series, a 1992–1995 animated series\n",
      "The Batman (TV series), a 2000s animated series\n",
      "Batman: The Brave and the Bold, a 2008–2011 animated series\n"
     ]
    }
   ],
   "source": [
    "query = \"Movies based on novels or books.\"\n",
    "docs = vectorstore.similarity_search(query)\n",
    "print(docs[0].page_content)"
   ]
  },
  {
   "cell_type": "markdown",
   "metadata": {},
   "source": [
    "# Creating a Retriever"
   ]
  },
  {
   "cell_type": "code",
   "execution_count": 25,
   "metadata": {},
   "outputs": [],
   "source": [
    "retriever = vectorstore.as_retriever(\n",
    "    search_type=\"similarity\", search_kwargs={\"k\": 6})"
   ]
  },
  {
   "cell_type": "code",
   "execution_count": 26,
   "metadata": {},
   "outputs": [],
   "source": [
    "retrieved_docs = retriever.invoke(\n",
    "    \"What are some films with about a person who becomes a tyrannical president of Panem?\")"
   ]
  },
  {
   "cell_type": "code",
   "execution_count": 27,
   "metadata": {},
   "outputs": [
    {
     "data": {
      "text/plain": [
       "6"
      ]
     },
     "execution_count": 27,
     "metadata": {},
     "output_type": "execute_result"
    }
   ],
   "source": [
    "len(retrieved_docs)"
   ]
  },
  {
   "cell_type": "code",
   "execution_count": 28,
   "metadata": {},
   "outputs": [
    {
     "name": "stdout",
     "output_type": "stream",
     "text": [
      "Plot\n",
      "In dystopian, war-ravaged Panem, Snow family patriarch, General Crassus Snow, dies in the First Rebellion between the Capitol and thirteen Districts. Years later, Crassus' son, Coriolanus, is one of twenty-four Academy students selected to mentor a 10th Annual Hunger Games tribute. Coriolanus hopes for the Plinth Prize scholarship to restore his family's prosperity. Games creator and Academy dean, Casca Highbottom, advises the mentors to focus on entertainment rather than tributes winning. Coriolanus' wealthy friend and fellow mentor, Sejanus Plinth, resents the Games' cruelty.\n"
     ]
    }
   ],
   "source": [
    "print(retrieved_docs[0].page_content)"
   ]
  },
  {
   "cell_type": "markdown",
   "metadata": {},
   "source": [
    "# Creating an LLM with Retriever"
   ]
  },
  {
   "cell_type": "code",
   "execution_count": 29,
   "metadata": {},
   "outputs": [],
   "source": [
    "llm = ChatOpenAI(model_name=\"gpt-4-0613\", temperature=0)\n",
    "\n",
    "prompt_template = PromptTemplate.from_template(\n",
    "    \"\"\"\n",
    "    You are an assistant for question-answering tasks. Use the following pieces \n",
    "    of retrieved context to answer the question. If you don't know the answer, \n",
    "    just say that you don't know. Use four to five sentences maximum and keep \n",
    "    the answer concise.\n",
    "\n",
    "    Question: {question} \n",
    "\n",
    "    Context: {context} \n",
    "\n",
    "    Answer:\n",
    "\n",
    "    \"\"\"\n",
    ")\n",
    "\n",
    "def format_docs(docs):\n",
    "    return \"\\n\\n\".join(doc.page_content for doc in docs)\n",
    "\n",
    "rag_chain = (\n",
    "    {\"context\": retriever | format_docs, \"question\": RunnablePassthrough()}\n",
    "    | prompt_template\n",
    "    | llm\n",
    "    | StrOutputParser()\n",
    ")"
   ]
  },
  {
   "cell_type": "code",
   "execution_count": 40,
   "metadata": {},
   "outputs": [
    {
     "name": "stdout",
     "output_type": "stream",
     "text": [
      "I'm sorry, I don't have specific information on films that deal with womanhood based on the provided context."
     ]
    }
   ],
   "source": [
    "for chunk in rag_chain.stream(\"Can you recommend films that deal with womanhood?\"):\n",
    "    print(chunk, end=\"\", flush=True)"
   ]
  },
  {
   "cell_type": "code",
   "execution_count": null,
   "metadata": {},
   "outputs": [],
   "source": []
  }
 ],
 "metadata": {
  "kernelspec": {
   "display_name": "FilmBot",
   "language": "python",
   "name": "python3"
  },
  "language_info": {
   "codemirror_mode": {
    "name": "ipython",
    "version": 3
   },
   "file_extension": ".py",
   "mimetype": "text/x-python",
   "name": "python",
   "nbconvert_exporter": "python",
   "pygments_lexer": "ipython3",
   "version": "3.12.2"
  }
 },
 "nbformat": 4,
 "nbformat_minor": 2
}
