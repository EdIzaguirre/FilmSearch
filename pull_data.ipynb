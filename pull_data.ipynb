{
 "cells": [
  {
   "cell_type": "markdown",
   "metadata": {},
   "source": [
    "# Imports"
   ]
  },
  {
   "cell_type": "code",
   "execution_count": 1,
   "metadata": {},
   "outputs": [
    {
     "data": {
      "text/plain": [
       "True"
      ]
     },
     "execution_count": 1,
     "metadata": {},
     "output_type": "execute_result"
    }
   ],
   "source": [
    "import csv\n",
    "import os\n",
    "from utils import get_id_list, get_data, write_file\n",
    "\n",
    "from dotenv import load_dotenv\n",
    "load_dotenv()"
   ]
  },
  {
   "cell_type": "markdown",
   "metadata": {},
   "source": [
    "# Grabbing All Movie IDs"
   ]
  },
  {
   "cell_type": "code",
   "execution_count": 2,
   "metadata": {},
   "outputs": [],
   "source": [
    "TMBD_API_KEY = os.getenv('TMBD_API_KEY')\n",
    "YEARS = list(range(2019, 2023))\n",
    "CSV_HEADER = ['Title', 'Runtime (minutes)', 'Language', 'Overview',\n",
    "              'Release Date', 'Genre', 'Keywords',\n",
    "              'Actors', 'Directors', 'Stream', 'Buy', 'Rent', \n",
    "              'Production Companies', 'Website']"
   ]
  },
  {
   "cell_type": "markdown",
   "metadata": {},
   "source": [
    "# Writing all IDs to CSV file"
   ]
  },
  {
   "cell_type": "code",
   "execution_count": 3,
   "metadata": {},
   "outputs": [
    {
     "name": "stdout",
     "output_type": "stream",
     "text": [
      "['492188', '290859', '456740', '499338', '450465', '423204', '512200', '519465', '517093', '481084', '571891', '454640', '568160', '592350', '535167', '565373', '533642', '484641', '530915', '474350', '453405', '438650', '491854', '329996', '554596', '320288', '501170', '480414', '506574', '429617', '420818', '537061', '549945', '512895', '181812', '575222', '645488', '399361', '330457', '530385', '546554', '331482', '299537', '301528', '570269', '338967', '517764', '458305', '567609', '473033', '522938', '479455', '700348', '431693', '398978', '384018', '581387', '515001', '475557', '420809', '531309', '572154', '487297', '509967', '820232', '638507', '527641', '461130', '512196', '420817', '411728', '496243', '399579', '514439', '540901', '166428', '518596', '581528', '619264', '447404', '287947', '373571', '575299', '610892', '521029', '595172', '532067', '506517', '466272', '412117', '299534', '586347', '522924', '554600', '559969', '537915', '486589', '458156', '522518', '359724']\n",
      "['660521', '604822', '575088', '613504', '652837', '685014', '755401', '583083', '570670', '582014', '707610', '528085', '755812', '447362', '529203', '671583', '454626', '531219', '718108', '400160', '499932', '721656', '522241', '693158', '430155', '590223', '635302', '660982', '577922', '654028', '458576', '492008', '340102', '738642', '628866', '526007', '522627', '741074', '642121', '581392', '662167', '667520', '495764', '545609', '594328', '615665', '425001', '514593', '497582', '641662', '508439', '723072', '522444', '464052', '539537', '702936', '614696', '524047', '573730', '614911', '580175', '649523', '684684', '581032', '442065', '727209', '533514', '443791', '481848', '539885', '448119', '508442', '500840', '514847', '556984', '623491', '446893', '615677', '38700', '716263', '749407', '516632', '531876', '514207', '338762', '546121', '618344', '662708', '560050', '385103', '516486', '664767', '846920', '337401', '675327', '603119', '547016', '750209', '549294', '509635']\n",
      "['863851', '399566', '436969', '734519', '630586', '875104', '866038', '524434', '550205', '580489', '568620', '425909', '460458', '831028', '522478', '714567', '849236', '634649', '632357', '503736', '630240', '602734', '616651', '920081', '581726', '810271', '512195', '520763', '854529', '775244', '630004', '592695', '385128', '423108', '646380', '798141', '438631', '588228', '337404', '801335', '854188', '878508', '438695', '810693', '796499', '602223', '877013', '920258', '482373', '615457', '587807', '568124', '675445', '776503', '379686', '508943', '731110', '753453', '460465', '567189', '412656', '960481', '550988', '527774', '893694', '744275', '619778', '664236', '797271', '370172', '791373', '835961', '779047', '504148', '650743', '566525', '476669', '870404', '768744', '624860', '857879', '845861', '283566', '849877', '617502', '583406', '522931', '860867', '497698', '918692', '459151', '786573', '851925', '924763', '795514', '451048', '832074', '811634', '814829', '637649']\n",
      "['536554', '619803', '539681', '829560', '949697', '601796', '760741', '610150', '930596', '1001835', '453395', '663712', '661374', '851644', '833326', '1028703', '545611', '810171', '779782', '508947', '49046', '414906', '1006540', '438148', '836225', '610411', '766507', '965571', '76600', '997317', '724495', '790519', '615173', '585083', '965150', '885303', '942012', '900667', '614934', '315162', '951546', '682075', '983507', '698508', '593643', '718930', '801526', '436270', '335787', '995906', '983526', '624091', '799379', '361743', '916224', '818647', '949567', '876792', '882598', '829557', '879957', '872542', '758009', '505642', '725201', '818893', '942881', '629542', '843380', '966220', '744276', '760104', '854006', '785084', '783675', '616037', '338953', '406759', '985939', '717728', '507086', '619979', '899112', '642885', '756999', '799155', '820446', '752623', '556694', '526896', '675353', '615777', '934194', '705996', '585511', '646385', '774825', '560057', '1015908', '760161']\n"
     ]
    }
   ],
   "source": [
    "for year in YEARS:\n",
    "    # Grab list of ids for all films made in {YEAR}\n",
    "    movie_list = list(set(get_id_list(TMBD_API_KEY, year)))\n",
    "    print(movie_list)\n",
    "\n",
    "    FILE_NAME = f'./data/{year}_movie_collection_data.csv'\n",
    "\n",
    "    # Creating file\n",
    "    with open(FILE_NAME, 'w') as f:\n",
    "        writer = csv.writer(f)\n",
    "        writer.writerow(CSV_HEADER)\n",
    "\n",
    "    # Iterate through list of ids to get data\n",
    "    for id in movie_list:\n",
    "        dict = get_data(TMBD_API_KEY, id)\n",
    "        write_file(FILE_NAME, dict)"
   ]
  },
  {
   "cell_type": "markdown",
   "metadata": {},
   "source": [
    "# Random Testing"
   ]
  },
  {
   "cell_type": "code",
   "execution_count": 4,
   "metadata": {},
   "outputs": [
    {
     "ename": "NameError",
     "evalue": "name 'is_english' is not defined",
     "output_type": "error",
     "traceback": [
      "\u001b[0;31m---------------------------------------------------------------------------\u001b[0m",
      "\u001b[0;31mNameError\u001b[0m                                 Traceback (most recent call last)",
      "Cell \u001b[0;32mIn[4], line 57\u001b[0m\n\u001b[1;32m     55\u001b[0m keyword_str \u001b[38;5;241m=\u001b[39m \u001b[38;5;124m\"\u001b[39m\u001b[38;5;124m\"\u001b[39m\n\u001b[1;32m     56\u001b[0m \u001b[38;5;28;01mfor\u001b[39;00m keyword \u001b[38;5;129;01min\u001b[39;00m all_keywords:\n\u001b[0;32m---> 57\u001b[0m     \u001b[38;5;28;01mif\u001b[39;00m \u001b[43mis_english\u001b[49m(keyword[\u001b[38;5;124m'\u001b[39m\u001b[38;5;124mname\u001b[39m\u001b[38;5;124m'\u001b[39m]):\n\u001b[1;32m     58\u001b[0m         keyword_str \u001b[38;5;241m+\u001b[39m\u001b[38;5;241m=\u001b[39m keyword[\u001b[38;5;124m'\u001b[39m\u001b[38;5;124mname\u001b[39m\u001b[38;5;124m'\u001b[39m] \u001b[38;5;241m+\u001b[39m \u001b[38;5;124m\"\u001b[39m\u001b[38;5;124m, \u001b[39m\u001b[38;5;124m\"\u001b[39m\n\u001b[1;32m     59\u001b[0m \u001b[38;5;28;01mif\u001b[39;00m keyword_str \u001b[38;5;241m==\u001b[39m \u001b[38;5;124m\"\u001b[39m\u001b[38;5;124m\"\u001b[39m:\n",
      "\u001b[0;31mNameError\u001b[0m: name 'is_english' is not defined"
     ]
    }
   ],
   "source": [
    "import requests\n",
    "import time\n",
    "import json\n",
    "from iso639 import languages\n",
    "\n",
    "max_retries = 5\n",
    "\n",
    "# Test the function\n",
    "Movie_ID = '545611'\n",
    "# Create empty index\n",
    "API_key = os.getenv('TMBD_API_KEY')\n",
    "query = 'https://api.themoviedb.org/3/movie/' + Movie_ID + \\\n",
    "    '?api_key='+API_key +'&append_to_response=keywords,' + \\\n",
    "        'watch/providers,credits&language=en-US'\n",
    "\n",
    "response = requests.get(query)\n",
    "for i in range(max_retries):\n",
    "    if response.status_code == 429:\n",
    "        # If the response was a 429, wait and then try again\n",
    "        print(\n",
    "            f\"Request limit reached. Waiting and retrying ({i+1}/{\n",
    "                max_retries})\")\n",
    "        time.sleep(2 ** i)  # Exponential backoff\n",
    "    else:\n",
    "        dict = response.json()\n",
    "\n",
    "# Pretty print the JSON data\n",
    "pretty_json = json.dumps(dict, indent=4)\n",
    "\n",
    "# print(pretty_json)\n",
    "\n",
    "title = dict['title']\n",
    "runtime = str(dict['runtime']) + \" minutes\"\n",
    "language_code = dict['original_language']\n",
    "release_date = dict['release_date']\n",
    "overview = dict['overview']\n",
    "all_genres = dict['genres']\n",
    "website = 'movie_collection_data.csv' if dict['homepage'] == '' else dict['homepage']\n",
    "prod_companies = dict['production_companies']\n",
    "\n",
    "# Converting language\n",
    "if language_code != 'xx':\n",
    "    language = languages.get(alpha2=language_code).name\n",
    "else:\n",
    "    language = 'Unknown'\n",
    "\n",
    "# Parsing genres\n",
    "genre_str = \"\"\n",
    "for genre in all_genres:\n",
    "    genre_str += genre['name'] + \", \"\n",
    "genre_str = genre_str[:-2]\n",
    "\n",
    "# Parsing keywords\n",
    "all_keywords = dict['keywords']['keywords']\n",
    "keyword_str = \"\"\n",
    "for keyword in all_keywords:\n",
    "    if is_english(keyword['name']):\n",
    "        keyword_str += keyword['name'] + \", \"\n",
    "if keyword_str == \"\":\n",
    "    keyword_str = \"None\" \n",
    "else:\n",
    "    keyword_str = keyword_str[:-2]\n",
    "print(keyword_str)\n",
    "\n",
    "# Parsing watch providers\n",
    "watch_providers = dict['watch/providers']['results']\n",
    "stream_str, buy_str, rent_str = \"\", \"\", \"\"\n",
    "if 'US' in watch_providers:\n",
    "    watch_providers = watch_providers['US']\n",
    "    provider_strings = ['flatrate', 'buy', 'rent']\n",
    "    for string in provider_strings:\n",
    "        if string not in watch_providers:\n",
    "            continue\n",
    "\n",
    "        _str = \"\"\n",
    "\n",
    "        for element in watch_providers[string]:\n",
    "            _str += element['provider_name'] + \", \"\n",
    "        _str = _str[:-2] + \" \"\n",
    "\n",
    "        if string == 'flatrate':\n",
    "            stream_str += _str\n",
    "        elif string == 'buy':\n",
    "            buy_str += _str\n",
    "        else:\n",
    "            rent_str += _str\n",
    "\n",
    "\n",
    "credits = dict['credits']\n",
    "actor_list, director_list = [], []\n",
    "\n",
    "# Parsing cast\n",
    "cast = credits['cast']\n",
    "NUM_ACTORS = 5\n",
    "for member in cast[:NUM_ACTORS]:\n",
    "    actor_list.append(member[\"name\"])\n",
    "\n",
    "# Parsing crew\n",
    "crew = credits['crew']\n",
    "for member in crew:\n",
    "    if member['job'] == 'Director':\n",
    "        director_list.append(member[\"name\"])\n",
    "\n",
    "actor_str = ', '.join(list(set(actor_list)))\n",
    "director_str = ', '.join(list(set(director_list)))\n",
    "\n",
    "print(f\"Actors: {actor_str}\")\n",
    "print(f\"Director: {director_str}\")\n",
    "\n",
    "# Parsing production companies\n",
    "prod_str = \"\"\n",
    "for company in prod_companies:\n",
    "    prod_str += company['name'] + \", \"\n",
    "prod_str = prod_str[:-2]\n",
    "print(prod_str)"
   ]
  },
  {
   "cell_type": "code",
   "execution_count": null,
   "metadata": {},
   "outputs": [],
   "source": []
  },
  {
   "cell_type": "code",
   "execution_count": null,
   "metadata": {},
   "outputs": [],
   "source": []
  }
 ],
 "metadata": {
  "kernelspec": {
   "display_name": "FilmBot",
   "language": "python",
   "name": "python3"
  },
  "language_info": {
   "codemirror_mode": {
    "name": "ipython",
    "version": 3
   },
   "file_extension": ".py",
   "mimetype": "text/x-python",
   "name": "python",
   "nbconvert_exporter": "python",
   "pygments_lexer": "ipython3",
   "version": "3.12.2"
  }
 },
 "nbformat": 4,
 "nbformat_minor": 2
}
