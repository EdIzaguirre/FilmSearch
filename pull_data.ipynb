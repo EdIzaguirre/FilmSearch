{
 "cells": [
  {
   "cell_type": "markdown",
   "metadata": {},
   "source": [
    "# Imports"
   ]
  },
  {
   "cell_type": "code",
   "execution_count": 4,
   "metadata": {},
   "outputs": [
    {
     "data": {
      "text/plain": [
       "True"
      ]
     },
     "execution_count": 4,
     "metadata": {},
     "output_type": "execute_result"
    }
   ],
   "source": [
    "import csv\n",
    "import os\n",
    "from utils import get_id_list, get_data, write_file\n",
    "\n",
    "from dotenv import load_dotenv\n",
    "load_dotenv()"
   ]
  },
  {
   "cell_type": "markdown",
   "metadata": {},
   "source": [
    "# Grabbing All Movie IDs"
   ]
  },
  {
   "cell_type": "code",
   "execution_count": 6,
   "metadata": {},
   "outputs": [],
   "source": [
    "TMBD_API_KEY = os.getenv('TMBD_API_KEY')\n",
    "YEARS = list(range(2019, 2024))\n",
    "CSV_HEADER = ['Title', 'Runtime (minutes)', 'Language', 'Overview',\n",
    "              'Release Date', 'Genre', 'Keywords',\n",
    "              'Actors', 'Directors', 'Stream', 'Buy', 'Rent', \n",
    "              'Production Companies', 'Website']"
   ]
  },
  {
   "cell_type": "markdown",
   "metadata": {},
   "source": [
    "# Writing all IDs to CSV file"
   ]
  },
  {
   "cell_type": "code",
   "execution_count": 7,
   "metadata": {},
   "outputs": [
    {
     "name": "stdout",
     "output_type": "stream",
     "text": [
      "['438650', '599975', '447404', '429617', '416144', '454640', '373571', '517093', '522518', '299537', '522162', '519465', '166428', '320288', '518596', '420809', '532067', '537056', '473033', '530915', '331482', '465086', '499338', '619263', '537915', '481084', '645488', '506517', '458156', '592350', '475557', '521029', '420817', '420818', '527641', '431075', '700348', '474350', '492188', '453405', '575190', '338967', '299534', '530385', '535167', '399361', '301528', '486589', '549053', '330457', '559969', '287947', '329996', '568160', '431693', '458305', '399579', '554596', '610892', '466272', '423204', '517764', '491854', '522938', '574074', '412117', '820232', '509967', '540901', '552178', '461130', '292011', '359724', '568091', '567609', '638507', '581528', '181812', '546554', '480414', '486131', '531309', '508965', '456740', '501170', '484468', '504949', '554600', '496243', '157433', '515001', '484641', '450465', '449562', '506574', '512200', '290859', '500916', '384018', '619264']\n",
      "['531219', '605116', '738642', '38700', '549514', '693158', '454626', '662167', '425001', '560144', '720026', '446893', '570670', '581032', '340102', '516486', '508442', '443791', '590223', '522241', '604822', '546121', '531499', '385103', '649523', '524047', '495764', '448119', '528085', '685014', '666750', '615677', '514847', '755812', '516632', '430155', '852418', '702936', '492008', '677638', '458576', '623491', '522627', '447362', '556678', '474764', '664767', '500840', '600354', '614911', '660521', '533514', '529203', '667520', '514207', '727209', '716263', '613504', '615665', '441130', '750209', '721656', '603119', '549294', '641662', '749407', '755401', '580175', '628866', '684684', '545609', '560044', '539885', '723072', '660982', '744738', '337401', '625568', '707610', '577922', '560050', '464052', '662708', '718108', '573730', '575088', '509635', '635302', '338762', '508439', '524840', '539537', '662546', '652837', '400160', '551804']\n",
      "['283566', '798141', '615457', '637649', '504148', '587807', '924763', '581644', '438631', '423108', '849877', '588228', '580489', '835961', '664236', '875104', '630240', '776503', '866038', '768744', '460458', '851925', '497698', '814829', '718032', '337404', '870404', '630004', '786573', '675445', '877013', '920081', '370172', '860867', '650743', '617502', '460465', '438695', '550988', '797271', '801335', '832074', '512195', '863851', '508943', '425909', '585216', '520763', '796499', '550205', '616651', '602734', '878508', '779047', '731110', '568124', '581726', '811634', '385128', '503736', '632357', '854529', '619778', '775244', '592695', '646380', '645886', '436969', '753453', '960481', '853812', '524434', '451048', '522478', '854188', '893694', '795514', '527774', '758866', '845861', '610253', '634649', '412656', '399566', '714567', '831028', '602223', '459151', '624860', '379686', '791373', '476669', '810693', '810271', '634528', '918692', '744275', '566525', '630586', '544401']\n",
      "['619979', '675353', '995906', '536554', '790519', '661374', '629542', '966220', '942881', '593643', '705861', '338947', '315162', '916224', '899112', '1006540', '508947', '783675', '338953', '758009', '744276', '1028703', '616820', '791155', '610150', '836225', '76600', '876792', '882598', '829560', '615777', '760741', '556694', '799379', '942012', '762504', '698508', '616037', '872542', '406759', '823625', '505642', '934194', '818647', '774825', '885303', '983507', '801526', '949567', '585083', '779782', '799155', '985939', '900667', '335787', '438148', '718789', '614934', '436270', '545611', '453395', '949423', '760161', '879957', '579974', '829557', '585511', '760104', '951546', '507086', '526896', '615173', '965571', '949697', '877269', '762975', '642885', '833326', '624091', '718930', '361743', '601796', '851644', '682075', '763285', '663712', '983526', '705996', '766507', '646385', '762968', '930596', '752623', '785084', '539681', '818893', '1001835', '610411', '843380', '414906']\n",
      "['940721', '762430', '1022796', '940551', '1205781', '1072790', '1008042', '901362', '1010581', '897087', '676727', '466420', '502356', '899445', '1071215', '926393', '615656', '609681', '840430', '1049948', '934433', '944401', '299054', '667538', '982940', '1189798', '792307', '872585', '1029575', '891699', '713704', '447277', '807172', '949429', '677179', '1183905', '385687', '614930', '666277', '1058694', '1046090', '447365', '467244', '729854', '915935', '980489', '848326', '927107', '868759', '850165', '635910', '717930', '496450', '1160164', '976573', '508883', '1115377', '335977', '951491', '976893', '1161663', '980137', '1013240', '984249', '670292', '1053592', '1211483', '640146', '594767', '787699', '678512', '565770', '1079394', '1075794', '964592', '799710', '760774', '906126', '753342', '572802', '507089', '935906', '968051', '744857', '1078012', '1207413', '298618', '1081620', '695721', '1058078', '603692', '893723', '880100', '823482', '569094', '709631', '961323', '575264']\n"
     ]
    }
   ],
   "source": [
    "for year in YEARS:\n",
    "    # Grab list of ids for all films made in {YEAR}\n",
    "    movie_list = list(set(get_id_list(TMBD_API_KEY, year)))\n",
    "    print(movie_list)\n",
    "\n",
    "    FILE_NAME = f'./data/{year}_movie_collection_data.csv'\n",
    "\n",
    "    # Creating file\n",
    "    with open(FILE_NAME, 'w') as f:\n",
    "        writer = csv.writer(f)\n",
    "        writer.writerow(CSV_HEADER)\n",
    "\n",
    "    # Iterate through list of ids to get data\n",
    "    for id in movie_list:\n",
    "        dict = get_data(TMBD_API_KEY, id)\n",
    "        write_file(FILE_NAME, dict)"
   ]
  },
  {
   "cell_type": "markdown",
   "metadata": {},
   "source": [
    "# Random Testing"
   ]
  },
  {
   "cell_type": "code",
   "execution_count": 4,
   "metadata": {},
   "outputs": [
    {
     "ename": "NameError",
     "evalue": "name 'is_english' is not defined",
     "output_type": "error",
     "traceback": [
      "\u001b[0;31m---------------------------------------------------------------------------\u001b[0m",
      "\u001b[0;31mNameError\u001b[0m                                 Traceback (most recent call last)",
      "Cell \u001b[0;32mIn[4], line 57\u001b[0m\n\u001b[1;32m     55\u001b[0m keyword_str \u001b[38;5;241m=\u001b[39m \u001b[38;5;124m\"\u001b[39m\u001b[38;5;124m\"\u001b[39m\n\u001b[1;32m     56\u001b[0m \u001b[38;5;28;01mfor\u001b[39;00m keyword \u001b[38;5;129;01min\u001b[39;00m all_keywords:\n\u001b[0;32m---> 57\u001b[0m     \u001b[38;5;28;01mif\u001b[39;00m \u001b[43mis_english\u001b[49m(keyword[\u001b[38;5;124m'\u001b[39m\u001b[38;5;124mname\u001b[39m\u001b[38;5;124m'\u001b[39m]):\n\u001b[1;32m     58\u001b[0m         keyword_str \u001b[38;5;241m+\u001b[39m\u001b[38;5;241m=\u001b[39m keyword[\u001b[38;5;124m'\u001b[39m\u001b[38;5;124mname\u001b[39m\u001b[38;5;124m'\u001b[39m] \u001b[38;5;241m+\u001b[39m \u001b[38;5;124m\"\u001b[39m\u001b[38;5;124m, \u001b[39m\u001b[38;5;124m\"\u001b[39m\n\u001b[1;32m     59\u001b[0m \u001b[38;5;28;01mif\u001b[39;00m keyword_str \u001b[38;5;241m==\u001b[39m \u001b[38;5;124m\"\u001b[39m\u001b[38;5;124m\"\u001b[39m:\n",
      "\u001b[0;31mNameError\u001b[0m: name 'is_english' is not defined"
     ]
    }
   ],
   "source": [
    "import requests\n",
    "import time\n",
    "import json\n",
    "from iso639 import languages\n",
    "\n",
    "max_retries = 5\n",
    "\n",
    "# Test the function\n",
    "Movie_ID = '545611'\n",
    "# Create empty index\n",
    "API_key = os.getenv('TMBD_API_KEY')\n",
    "query = 'https://api.themoviedb.org/3/movie/' + Movie_ID + \\\n",
    "    '?api_key='+API_key +'&append_to_response=keywords,' + \\\n",
    "        'watch/providers,credits&language=en-US'\n",
    "\n",
    "response = requests.get(query)\n",
    "for i in range(max_retries):\n",
    "    if response.status_code == 429:\n",
    "        # If the response was a 429, wait and then try again\n",
    "        print(\n",
    "            f\"Request limit reached. Waiting and retrying ({i+1}/{\n",
    "                max_retries})\")\n",
    "        time.sleep(2 ** i)  # Exponential backoff\n",
    "    else:\n",
    "        dict = response.json()\n",
    "\n",
    "# Pretty print the JSON data\n",
    "pretty_json = json.dumps(dict, indent=4)\n",
    "\n",
    "# print(pretty_json)\n",
    "\n",
    "title = dict['title']\n",
    "runtime = str(dict['runtime']) + \" minutes\"\n",
    "language_code = dict['original_language']\n",
    "release_date = dict['release_date']\n",
    "overview = dict['overview']\n",
    "all_genres = dict['genres']\n",
    "website = 'movie_collection_data.csv' if dict['homepage'] == '' else dict['homepage']\n",
    "prod_companies = dict['production_companies']\n",
    "\n",
    "# Converting language\n",
    "if language_code != 'xx':\n",
    "    language = languages.get(alpha2=language_code).name\n",
    "else:\n",
    "    language = 'Unknown'\n",
    "\n",
    "# Parsing genres\n",
    "genre_str = \"\"\n",
    "for genre in all_genres:\n",
    "    genre_str += genre['name'] + \", \"\n",
    "genre_str = genre_str[:-2]\n",
    "\n",
    "# Parsing keywords\n",
    "all_keywords = dict['keywords']['keywords']\n",
    "keyword_str = \"\"\n",
    "for keyword in all_keywords:\n",
    "    if is_english(keyword['name']):\n",
    "        keyword_str += keyword['name'] + \", \"\n",
    "if keyword_str == \"\":\n",
    "    keyword_str = \"None\" \n",
    "else:\n",
    "    keyword_str = keyword_str[:-2]\n",
    "print(keyword_str)\n",
    "\n",
    "# Parsing watch providers\n",
    "watch_providers = dict['watch/providers']['results']\n",
    "stream_str, buy_str, rent_str = \"\", \"\", \"\"\n",
    "if 'US' in watch_providers:\n",
    "    watch_providers = watch_providers['US']\n",
    "    provider_strings = ['flatrate', 'buy', 'rent']\n",
    "    for string in provider_strings:\n",
    "        if string not in watch_providers:\n",
    "            continue\n",
    "\n",
    "        _str = \"\"\n",
    "\n",
    "        for element in watch_providers[string]:\n",
    "            _str += element['provider_name'] + \", \"\n",
    "        _str = _str[:-2] + \" \"\n",
    "\n",
    "        if string == 'flatrate':\n",
    "            stream_str += _str\n",
    "        elif string == 'buy':\n",
    "            buy_str += _str\n",
    "        else:\n",
    "            rent_str += _str\n",
    "\n",
    "\n",
    "credits = dict['credits']\n",
    "actor_list, director_list = [], []\n",
    "\n",
    "# Parsing cast\n",
    "cast = credits['cast']\n",
    "NUM_ACTORS = 5\n",
    "for member in cast[:NUM_ACTORS]:\n",
    "    actor_list.append(member[\"name\"])\n",
    "\n",
    "# Parsing crew\n",
    "crew = credits['crew']\n",
    "for member in crew:\n",
    "    if member['job'] == 'Director':\n",
    "        director_list.append(member[\"name\"])\n",
    "\n",
    "actor_str = ', '.join(list(set(actor_list)))\n",
    "director_str = ', '.join(list(set(director_list)))\n",
    "\n",
    "print(f\"Actors: {actor_str}\")\n",
    "print(f\"Director: {director_str}\")\n",
    "\n",
    "# Parsing production companies\n",
    "prod_str = \"\"\n",
    "for company in prod_companies:\n",
    "    prod_str += company['name'] + \", \"\n",
    "prod_str = prod_str[:-2]\n",
    "print(prod_str)"
   ]
  },
  {
   "cell_type": "code",
   "execution_count": null,
   "metadata": {},
   "outputs": [],
   "source": []
  },
  {
   "cell_type": "code",
   "execution_count": null,
   "metadata": {},
   "outputs": [],
   "source": []
  }
 ],
 "metadata": {
  "kernelspec": {
   "display_name": "FilmBot",
   "language": "python",
   "name": "python3"
  },
  "language_info": {
   "codemirror_mode": {
    "name": "ipython",
    "version": 3
   },
   "file_extension": ".py",
   "mimetype": "text/x-python",
   "name": "python",
   "nbconvert_exporter": "python",
   "pygments_lexer": "ipython3",
   "version": "3.12.2"
  }
 },
 "nbformat": 4,
 "nbformat_minor": 2
}
