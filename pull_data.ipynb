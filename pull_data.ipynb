{
 "cells": [
  {
   "cell_type": "markdown",
   "metadata": {},
   "source": [
    "# Imports"
   ]
  },
  {
   "cell_type": "code",
   "execution_count": 9,
   "metadata": {},
   "outputs": [
    {
     "data": {
      "text/plain": [
       "True"
      ]
     },
     "execution_count": 9,
     "metadata": {},
     "output_type": "execute_result"
    }
   ],
   "source": [
    "import csv\n",
    "import os\n",
    "from utils import get_id_list, get_data, write_file\n",
    "\n",
    "from dotenv import load_dotenv\n",
    "load_dotenv()"
   ]
  },
  {
   "cell_type": "markdown",
   "metadata": {},
   "source": [
    "# Grabbing All Movie IDs"
   ]
  },
  {
   "cell_type": "code",
   "execution_count": 10,
   "metadata": {},
   "outputs": [
    {
     "name": "stdout",
     "output_type": "stream",
     "text": [
      "['940551', '792307', '1072790', '787699', '984249', '609681', '872585', '949429', '1022796', '1211483', '572802', '838240', '1079394', '799710', '980137', '1029575', '753342', '1078012', '502356', '346698', '915935', '944401', '508883', '385687', '1046090', '976893', '880100', '467244', '466420', '667538', '940721', '901362', '982940', '569094', '976573', '1183905', '1101582', '695721', '1075794', '676727', '901362', '676727', '299054', '848326', '1010581', '1101582', '670292', '615656', '1189798', '603692', '1042279', '507089', '575264', '1105832', '1207413', '666277', '840430', '447365', '926393', '899445', '298618', '967585', '964592', '1058694', '980489', '893723', '1056360', '678512', '968051', '565770', '891699', '447277', '758323', '927107', '1071215', '459003', '762430', '1008042', '1053592', '335977', '758323', '1008042', '520758', '762430', '1053592', '1076364', '951491', '842675', '614930', '1168733', '760774', '955659', '1040148', '1151534', '1058634', '999087', '994108', '677179', '640146', '807172']\n"
     ]
    }
   ],
   "source": [
    "TMBD_API_KEY = os.getenv('TMBD_API_KEY')\n",
    "YEAR = 2023\n",
    "\n",
    "# Grab list of ids for all films made in {YEAR}\n",
    "movie_list = get_id_list(TMBD_API_KEY, YEAR)\n",
    "print(movie_list)"
   ]
  },
  {
   "cell_type": "markdown",
   "metadata": {},
   "source": [
    "# Writing all IDs to CSV file"
   ]
  },
  {
   "cell_type": "code",
   "execution_count": 11,
   "metadata": {},
   "outputs": [],
   "source": [
    "FILE_NAME = f'./data/{YEAR}_movie_collection_data.csv'\n",
    "list_of_attributes = [\n",
    "    'Movie_Name', \n",
    "    'Runtime',\n",
    "    'Original_Language', \n",
    "    'Overview',\n",
    "    'Release Date',\n",
    "    'Genre',\n",
    "    'Keywords',\n",
    "    ]\n",
    "\n",
    "# Creating file\n",
    "csvFile = open(FILE_NAME, 'w')\n",
    "csvwriter = csv.writer(csvFile)\n",
    "csvFile.close()\n",
    "\n",
    "# Iterate through list of ids to get data\n",
    "for id in movie_list:\n",
    "    text = get_data(TMBD_API_KEY, id)\n",
    "    write_file(FILE_NAME, text)"
   ]
  },
  {
   "cell_type": "markdown",
   "metadata": {},
   "source": [
    "# Random Testing"
   ]
  },
  {
   "cell_type": "code",
   "execution_count": 12,
   "metadata": {},
   "outputs": [],
   "source": [
    "# import requests\n",
    "# import json \n",
    "\n",
    "# API_key = TMBD_API_KEY\n",
    "# # Movie_ID = '807172' # Exorcist\n",
    "# Movie_ID =  '1072790' # Anyone but you\n",
    "\n",
    "# url = 'https://api.themoviedb.org/3/movie/' + \\\n",
    "#     Movie_ID+'?api_key='+API_key+'&language=en-US&append_to_response=keywords'\n",
    "\n",
    "# response = requests.get(url)\n",
    "# dict = response.json()\n",
    "# pretty_json = json.dumps(dict, indent=4)\n",
    "\n",
    "# release_date = dict['release_date']\n",
    "\n",
    "# print(release_date)"
   ]
  },
  {
   "cell_type": "code",
   "execution_count": null,
   "metadata": {},
   "outputs": [],
   "source": []
  }
 ],
 "metadata": {
  "kernelspec": {
   "display_name": "FilmBot",
   "language": "python",
   "name": "python3"
  },
  "language_info": {
   "codemirror_mode": {
    "name": "ipython",
    "version": 3
   },
   "file_extension": ".py",
   "mimetype": "text/x-python",
   "name": "python",
   "nbconvert_exporter": "python",
   "pygments_lexer": "ipython3",
   "version": "3.12.2"
  }
 },
 "nbformat": 4,
 "nbformat_minor": 2
}
