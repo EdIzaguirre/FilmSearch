{
 "cells": [
  {
   "cell_type": "markdown",
   "metadata": {},
   "source": [
    "# Imports"
   ]
  },
  {
   "cell_type": "code",
   "execution_count": 9,
   "metadata": {},
   "outputs": [
    {
     "data": {
      "text/plain": [
       "True"
      ]
     },
     "execution_count": 9,
     "metadata": {},
     "output_type": "execute_result"
    }
   ],
   "source": [
    "import csv\n",
    "import os\n",
    "from utils import get_id_list, get_data, write_file\n",
    "\n",
    "from dotenv import load_dotenv\n",
    "load_dotenv()"
   ]
  },
  {
   "cell_type": "markdown",
   "metadata": {},
   "source": [
    "# Grabbing All Movie IDs"
   ]
  },
  {
   "cell_type": "code",
   "execution_count": 10,
   "metadata": {},
   "outputs": [],
   "source": [
    "TMBD_API_KEY = os.getenv('TMBD_API_KEY')\n",
    "YEARS = [2022, 2023]\n",
    "CSV_HEADER = ['Title', 'Runtime (minutes)', 'Language', 'Overview',\n",
    "              'Release Date', 'Genre', 'Keywords',\n",
    "              'Recommendation', 'Actors', 'Director', \n",
    "              'Stream', 'Buy', 'Rent', 'Production Companies', 'Website']"
   ]
  },
  {
   "cell_type": "markdown",
   "metadata": {},
   "source": [
    "# Writing all IDs to CSV file"
   ]
  },
  {
   "cell_type": "code",
   "execution_count": 11,
   "metadata": {},
   "outputs": [
    {
     "name": "stdout",
     "output_type": "stream",
     "text": [
      "['951546', '785084', '851644', '1028703', '829560', '610150', '818647', '942012', '744276', '619979', '949697', '718930', '810171', '804095', '628900', '760741', '833326', '508947', '965571', '616820', '836225', '763285', '930596', '916224', '934194', '615777', '762504', '545611', '606870', '1015908', '453395', '414906', '985939', '436270', '829557', '338947', '539681', '783675', '818893', '823625', '646385', '799379', '338953', '885303', '616037', '779782', '843380', '507086', '899112', '760161', '931954', '766507', '585511', '752623', '338958', '361743', '879957', '774825', '965150', '882598', '438148', '675353', '629542', '76600', '526896', '315162', '799155', '949423', '872542', '966220', '756999', '536554', '335787', '601796', '717728', '610411', '505642', '949567', '49046', '983507', '900667', '760104', '593643', '663712', '893712', '705996', '718789', '624091', '995906', '615173', '1140233', '942881', '585083']\n",
      "['753342', '899445', '893723', '1029575', '1010581', '982940', '848326', '614930', '880100', '940721', '934433', '609681', '1205781', '787699', '467244', '1042279', '459003', '984249', '603692', '575264', '1040148', '700391', '897087', '967585', '466420', '1078012', '1020006', '891699', '1079394', '298618', '927107', '926393', '1046090', '976573', '872585', '964592', '507089', '670292', '838240', '493529', '1189798', '1022796', '1058078', '640146', '884605', '1053592', '949429', '299054', '496450', '335977', '676727', '951491', '1211483', '1058694', '940551', '447365', '729854', '1081620', '569094', '1183905', '901362', '1006024', '944401', '980489', '615656', '980137', '799710', '1056360', '447277', '572802', '666277', '365620', '1207413', '346698', '1105832', '1101582', '1072790', '508883', '840430', '385687', '677179', '678512', '695721', '915935', '760774', '1049948', '968051', '1071215', '1008042', '502356', '906126', '976893', '667538', '565770', '762430', '1075794', '792307', '1050035', '1115377', '758323']\n"
     ]
    }
   ],
   "source": [
    "for year in YEARS:\n",
    "    # Grab list of ids for all films made in {YEAR}\n",
    "    movie_list = list(set(get_id_list(TMBD_API_KEY, year)))\n",
    "    print(movie_list)\n",
    "\n",
    "    FILE_NAME = f'./data/{year}_movie_collection_data.csv'\n",
    "\n",
    "    # Creating file\n",
    "    with open(FILE_NAME, 'w') as f:\n",
    "        writer = csv.writer(f)\n",
    "        writer.writerow(CSV_HEADER)\n",
    "\n",
    "    # Iterate through list of ids to get data\n",
    "    for id in movie_list:\n",
    "        dict = get_data(TMBD_API_KEY, id)\n",
    "        write_file(FILE_NAME, dict)"
   ]
  },
  {
   "cell_type": "markdown",
   "metadata": {},
   "source": [
    "# Random Testing"
   ]
  },
  {
   "cell_type": "code",
   "execution_count": 12,
   "metadata": {},
   "outputs": [
    {
     "name": "stdout",
     "output_type": "stream",
     "text": [
      "mother, martial arts, kung fu, philosophy, generations conflict, chinese woman, laundromat, chinese, east asian lead, divorce, family, hot dog, asian woman, chinese immigrant, mother daughter relationship, asian american, intergenerational trauma, internal revenue service\n",
      "Actors: Michelle Yeoh, Stephanie Hsu, Ke Huy Quan, James Hong, Jamie Lee Curtis\n",
      "Director: Daniel Scheinert, Daniel Kwan\n",
      "A24, IAC Films, AGBO, Ley Line Entertainment, TPC, Year of the Rat\n"
     ]
    }
   ],
   "source": [
    "import unicodedata\n",
    "import requests\n",
    "import time\n",
    "import json\n",
    "\n",
    "max_retries = 5\n",
    "\n",
    "def is_english(s):\n",
    "    try:\n",
    "        s.encode(encoding='utf-8').decode('ascii')\n",
    "    except UnicodeDecodeError:\n",
    "        return False\n",
    "    else:\n",
    "        return True\n",
    "\n",
    "\n",
    "# Test the function\n",
    "Movie_ID = '545611'\n",
    "# Create empty index\n",
    "API_key = os.getenv('TMBD_API_KEY')\n",
    "query = 'https://api.themoviedb.org/3/movie/' + Movie_ID + \\\n",
    "    '?api_key='+API_key +'&append_to_response=keywords,recommendations,' + \\\n",
    "        'watch/providers,credits&language=en-US'\n",
    "\n",
    "response = requests.get(query)\n",
    "for i in range(max_retries):\n",
    "    if response.status_code == 429:\n",
    "        # If the response was a 429, wait and then try again\n",
    "        print(\n",
    "            f\"Request limit reached. Waiting and retrying ({i+1}/{\n",
    "                max_retries})\")\n",
    "        time.sleep(2 ** i)  # Exponential backoff\n",
    "    else:\n",
    "        dict = response.json()\n",
    "\n",
    "# Pretty print the JSON data\n",
    "pretty_json = json.dumps(dict, indent=4)\n",
    "\n",
    "# print(pretty_json)\n",
    "\n",
    "title = dict['title']\n",
    "runtime = str(dict['runtime']) + \" minutes\"\n",
    "language = dict['original_language']\n",
    "release_date = dict['release_date']\n",
    "overview = dict['overview']\n",
    "all_genres = dict['genres']\n",
    "website = 'movie_collection_data.csv' if dict['homepage'] == '' else dict['homepage']\n",
    "prod_companies = dict['production_companies']\n",
    "\n",
    "# Parsing genres\n",
    "genre_str = \"\"\n",
    "for genre in all_genres:\n",
    "    genre_str += genre['name'] + \", \"\n",
    "genre_str = genre_str[:-2]\n",
    "\n",
    "# Parsing keywords\n",
    "all_keywords = dict['keywords']['keywords']\n",
    "keyword_str = \"\"\n",
    "for keyword in all_keywords:\n",
    "    if is_english(keyword['name']):\n",
    "        keyword_str += keyword['name'] + \", \"\n",
    "if keyword_str == \"\":\n",
    "    keyword_str = \"None\" \n",
    "else:\n",
    "    keyword_str = keyword_str[:-2]\n",
    "print(keyword_str)\n",
    "\n",
    "# Parsing recommendations\n",
    "recommendations = dict['recommendations']['results']\n",
    "recommendation_str = \"\"\n",
    "for recommendation in recommendations:\n",
    "    recommendation_str += recommendation['title'] + \", \"\n",
    "recommendation_str = recommendation_str[:-2]\n",
    "\n",
    "# Parsing watch providers\n",
    "watch_providers = dict['watch/providers']['results']\n",
    "stream_str, buy_str, rent_str = \"\", \"\", \"\"\n",
    "if 'US' in watch_providers:\n",
    "    watch_providers = watch_providers['US']\n",
    "    provider_strings = ['flatrate', 'buy', 'rent']\n",
    "    for string in provider_strings:\n",
    "        if string not in watch_providers:\n",
    "            continue\n",
    "\n",
    "        _str = \"\"\n",
    "\n",
    "        for element in watch_providers[string]:\n",
    "            _str += element['provider_name'] + \", \"\n",
    "        _str = _str[:-2] + \" \"\n",
    "\n",
    "        if string == 'flatrate':\n",
    "            stream_str += _str\n",
    "        elif string == 'buy':\n",
    "            buy_str += _str\n",
    "        else:\n",
    "            rent_str += _str\n",
    "\n",
    "\n",
    "credits = dict['credits']\n",
    "actor_list, director_list = [], []\n",
    "\n",
    "# Parsing cast\n",
    "cast = credits['cast']\n",
    "NUM_ACTORS = 5\n",
    "for member in cast[:NUM_ACTORS]:\n",
    "    actor_list.append(member[\"name\"])\n",
    "\n",
    "# Parsing crew\n",
    "crew = credits['crew']\n",
    "for member in crew:\n",
    "    if member['job'] == 'Director':\n",
    "        director_list.append(member[\"name\"])\n",
    "\n",
    "actor_str = ', '.join(list(set(actor_list)))\n",
    "director_str = ', '.join(list(set(director_list)))\n",
    "\n",
    "print(f\"Actors: {actor_str}\")\n",
    "print(f\"Director: {director_str}\")\n",
    "\n",
    "# Parsing production companies\n",
    "prod_str = \"\"\n",
    "for company in prod_companies:\n",
    "    prod_str += company['name'] + \", \"\n",
    "prod_str = prod_str[:-2]\n",
    "print(prod_str)"
   ]
  },
  {
   "cell_type": "code",
   "execution_count": null,
   "metadata": {},
   "outputs": [],
   "source": []
  },
  {
   "cell_type": "code",
   "execution_count": null,
   "metadata": {},
   "outputs": [],
   "source": []
  }
 ],
 "metadata": {
  "kernelspec": {
   "display_name": "FilmBot",
   "language": "python",
   "name": "python3"
  },
  "language_info": {
   "codemirror_mode": {
    "name": "ipython",
    "version": 3
   },
   "file_extension": ".py",
   "mimetype": "text/x-python",
   "name": "python",
   "nbconvert_exporter": "python",
   "pygments_lexer": "ipython3",
   "version": "3.12.2"
  }
 },
 "nbformat": 4,
 "nbformat_minor": 2
}
