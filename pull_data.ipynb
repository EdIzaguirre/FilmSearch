{
 "cells": [
  {
   "cell_type": "markdown",
   "metadata": {},
   "source": [
    "# Imports"
   ]
  },
  {
   "cell_type": "code",
   "execution_count": 1,
   "metadata": {},
   "outputs": [
    {
     "data": {
      "text/plain": [
       "True"
      ]
     },
     "execution_count": 1,
     "metadata": {},
     "output_type": "execute_result"
    }
   ],
   "source": [
    "import csv\n",
    "import os\n",
    "from utils import get_id_list, get_data, write_file\n",
    "\n",
    "from dotenv import load_dotenv\n",
    "load_dotenv()"
   ]
  },
  {
   "cell_type": "markdown",
   "metadata": {},
   "source": [
    "# Grabbing All Movie IDs"
   ]
  },
  {
   "cell_type": "code",
   "execution_count": 2,
   "metadata": {},
   "outputs": [
    {
     "name": "stdout",
     "output_type": "stream",
     "text": [
      "['885303', '1028703', '872542', '799155', '76600', '965571', '843380', '315162', '949567', '949697', '951546', '361743', '624091', '610150', '934194', '508947', '414906', '507086', '942012', '505642', '675353', '436270', '438148', '610411', '585083', '818647', '995906', '616037', '851644', '829557', '983507', '985939', '1187998', '829560', '766507', '453395', '585511', '406759', '338953', '916224', '718930', '879957', '779782', '783675', '661374', '1001835', '545611', '1015908', '774825', '966220', '615777', '888001', '836225', '942881', '818893', '856433', '663712', '760104', '988591', '900667', '744276', '833326', '335787', '799379', '619979', '615173', '937895', '864101', '606870', '1020969', '49046', '601796', '854006', '717728', '646385', '536554', '830784', '629542', '876792', '539681', '1017794', '526896', '518896', '1008148', '668482', '736526', '785084', '752623', '457232', '882598', '642885', '338958', '760161', '864231', '698508', '893712', '614934', '705996', '804095', '945675']\n"
     ]
    }
   ],
   "source": [
    "TMBD_API_KEY = os.getenv('TMBD_API_KEY')\n",
    "YEAR = 2023\n",
    "\n",
    "# Grab list of ids for all films made in {YEAR}\n",
    "movie_list = get_id_list(TMBD_API_KEY, YEAR)\n",
    "print(movie_list)"
   ]
  },
  {
   "cell_type": "markdown",
   "metadata": {},
   "source": [
    "# Writing all IDs to CSV file"
   ]
  },
  {
   "cell_type": "code",
   "execution_count": 3,
   "metadata": {},
   "outputs": [],
   "source": [
    "FILE_NAME = f'{YEAR}_movie_collection_data.csv'\n",
    "list_of_attributes = [\n",
    "    'Movie_Name', \n",
    "    'Runtime',\n",
    "    'Original_Language', \n",
    "    'Overview',\n",
    "    'Release Date',\n",
    "    'Genre',\n",
    "    'Keywords',\n",
    "    ]\n",
    "\n",
    "# Creating file\n",
    "csvFile = open(FILE_NAME, 'w')\n",
    "csvwriter = csv.writer(csvFile)\n",
    "csvwriter.writerow(list_of_attributes)\n",
    "csvFile.close()\n",
    "\n",
    "# Iterate through list of ids to get data\n",
    "for id in movie_list:\n",
    "    text = get_data(TMBD_API_KEY, id)\n",
    "    write_file(FILE_NAME, text)"
   ]
  },
  {
   "cell_type": "markdown",
   "metadata": {},
   "source": [
    "# Random Testing"
   ]
  },
  {
   "cell_type": "code",
   "execution_count": 4,
   "metadata": {},
   "outputs": [
    {
     "name": "stdout",
     "output_type": "stream",
     "text": [
      "2023-12-21\n"
     ]
    }
   ],
   "source": [
    "# import requests\n",
    "# import json \n",
    "\n",
    "# API_key = TMBD_API_KEY\n",
    "# # Movie_ID = '807172' # Exorcist\n",
    "# Movie_ID =  '1072790' # Anyone but you\n",
    "\n",
    "# url = 'https://api.themoviedb.org/3/movie/' + \\\n",
    "#     Movie_ID+'?api_key='+API_key+'&language=en-US&append_to_response=keywords'\n",
    "\n",
    "# response = requests.get(url)\n",
    "# dict = response.json()\n",
    "# pretty_json = json.dumps(dict, indent=4)\n",
    "\n",
    "# release_date = dict['release_date']\n",
    "\n",
    "# print(release_date)"
   ]
  },
  {
   "cell_type": "code",
   "execution_count": null,
   "metadata": {},
   "outputs": [],
   "source": []
  }
 ],
 "metadata": {
  "kernelspec": {
   "display_name": "FilmBot",
   "language": "python",
   "name": "python3"
  },
  "language_info": {
   "codemirror_mode": {
    "name": "ipython",
    "version": 3
   },
   "file_extension": ".py",
   "mimetype": "text/x-python",
   "name": "python",
   "nbconvert_exporter": "python",
   "pygments_lexer": "ipython3",
   "version": "3.12.2"
  }
 },
 "nbformat": 4,
 "nbformat_minor": 2
}
