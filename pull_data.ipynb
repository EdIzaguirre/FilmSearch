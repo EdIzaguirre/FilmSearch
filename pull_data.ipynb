{
 "cells": [
  {
   "cell_type": "markdown",
   "metadata": {},
   "source": [
    "# Imports"
   ]
  },
  {
   "cell_type": "code",
   "execution_count": 1,
   "metadata": {},
   "outputs": [
    {
     "data": {
      "text/plain": [
       "True"
      ]
     },
     "execution_count": 1,
     "metadata": {},
     "output_type": "execute_result"
    }
   ],
   "source": [
    "import csv\n",
    "import os\n",
    "from utils import get_id_list, get_data, write_file\n",
    "\n",
    "from dotenv import load_dotenv\n",
    "load_dotenv()"
   ]
  },
  {
   "cell_type": "markdown",
   "metadata": {},
   "source": [
    "# Grabbing All Movie IDs"
   ]
  },
  {
   "cell_type": "code",
   "execution_count": 2,
   "metadata": {},
   "outputs": [
    {
     "name": "stdout",
     "output_type": "stream",
     "text": [
      "['792307', '1072790', '940551', '984249', '787699', '799710', '609681', '1211483', '949429', '1029575', '1022796', '1079394', '980137', '572802', '872585', '753342', '346698', '385687', '1078012', '880100', '667538', '1183905', '502356', '508883', '1010581', '299054', '1189798', '695721', '1042279', '466420', '940721', '603692', '1101582', '897087', '676727', '982940', '976573', '1076011', '569094', '848326', '901362', '575264', '1115377', '838240', '467244', '298618', '507089', '1075794', '615656', '893723', '967585', '944401', '926393', '670292', '1105832', '906126', '915935', '447365', '1046090', '678512', '979097', '899445', '1058634', '891699', '988078', '1058694', '980489', '927107', '335977', '964592', '565770', '762430', '760774', '496450', '447277', '666277', '1001500', '1071215', '840430', '1053592', '520758', '994108', '842675', '640146', '459003', '968051', '999087', '493529', '976893', '614930', '951491', '1040148', '594767', '820525', '955659', '1168733', '1008042', '1025491', '717930', '758323']\n"
     ]
    }
   ],
   "source": [
    "TMBD_API_KEY = os.getenv('TMBD_API_KEY')\n",
    "YEAR = 2023\n",
    "\n",
    "# Grab list of ids for all films made in {YEAR}\n",
    "movie_list = get_id_list(TMBD_API_KEY, YEAR)\n",
    "print(movie_list)"
   ]
  },
  {
   "cell_type": "markdown",
   "metadata": {},
   "source": [
    "# Writing all IDs to CSV file"
   ]
  },
  {
   "cell_type": "code",
   "execution_count": 3,
   "metadata": {},
   "outputs": [],
   "source": [
    "FILE_NAME = '2023_movie_collection_data.csv'\n",
    "list_of_attributes = [\n",
    "    'Movie_Name', \n",
    "    'Runtime',\n",
    "    'Original_Language', \n",
    "    'Overview',\n",
    "    'Genre',\n",
    "    'Keywords'\n",
    "    ]\n",
    "\n",
    "# Creating file\n",
    "csvFile = open(FILE_NAME, 'w')\n",
    "csvwriter = csv.writer(csvFile)\n",
    "csvwriter.writerow(list_of_attributes)\n",
    "csvFile.close()\n",
    "\n",
    "# Iterate through list of ids to get data\n",
    "for id in movie_list:\n",
    "    text = get_data(TMBD_API_KEY, id)\n",
    "    write_file(FILE_NAME, text)"
   ]
  },
  {
   "cell_type": "markdown",
   "metadata": {},
   "source": [
    "# Random Testing"
   ]
  },
  {
   "cell_type": "code",
   "execution_count": 13,
   "metadata": {},
   "outputs": [
    {
     "name": "stdout",
     "output_type": "stream",
     "text": [
      "australia, hiking, college, romantic comedy, based on play or musical, shakespeare in modern dress, aftercreditsstinger, duringcreditsstinger, fake dating, sister's wedding, much ado about nothing\n"
     ]
    }
   ],
   "source": [
    "import requests\n",
    "import json \n",
    "\n",
    "API_key = TMBD_API_KEY\n",
    "# Movie_ID = '807172' # Exorcist\n",
    "Movie_ID =  '1072790' # Anyone but you\n",
    "\n",
    "url = 'https://api.themoviedb.org/3/movie/' + \\\n",
    "    Movie_ID+'?api_key='+API_key+'&language=en-US&append_to_response=keywords'\n",
    "\n",
    "response = requests.get(url)\n",
    "dict = response.json()\n",
    "pretty_json = json.dumps(dict, indent=4)\n",
    "\n",
    "# print(pretty_json)\n",
    "all_genres = dict['genres']\n",
    "genre_str = \"\"\n",
    "\n",
    "for genre in all_genres:\n",
    "    genre_str += genre['name'] + \", \"\n",
    "\n",
    "genre_str = genre_str[:-2]\n",
    "\n",
    "all_keywords = dict['keywords']['keywords']\n",
    "keyword_str = \"\"\n",
    "for keyword in all_keywords:\n",
    "    keyword_str += keyword['name'] + \", \"\n",
    "\n",
    "keyword_str = keyword_str[:-2]\n",
    "\n",
    "print(keyword_str)"
   ]
  },
  {
   "cell_type": "code",
   "execution_count": null,
   "metadata": {},
   "outputs": [],
   "source": []
  }
 ],
 "metadata": {
  "kernelspec": {
   "display_name": "FilmBot",
   "language": "python",
   "name": "python3"
  },
  "language_info": {
   "codemirror_mode": {
    "name": "ipython",
    "version": 3
   },
   "file_extension": ".py",
   "mimetype": "text/x-python",
   "name": "python",
   "nbconvert_exporter": "python",
   "pygments_lexer": "ipython3",
   "version": "3.12.2"
  }
 },
 "nbformat": 4,
 "nbformat_minor": 2
}
