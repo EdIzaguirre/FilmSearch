{
 "cells": [
  {
   "cell_type": "markdown",
   "metadata": {},
   "source": [
    "# Imports"
   ]
  },
  {
   "cell_type": "code",
   "execution_count": 1,
   "metadata": {},
   "outputs": [
    {
     "data": {
      "text/plain": [
       "True"
      ]
     },
     "execution_count": 1,
     "metadata": {},
     "output_type": "execute_result"
    }
   ],
   "source": [
    "import csv\n",
    "import os\n",
    "from utils import get_id_list, get_data, write_file\n",
    "\n",
    "from dotenv import load_dotenv\n",
    "load_dotenv()"
   ]
  },
  {
   "cell_type": "markdown",
   "metadata": {},
   "source": [
    "# Grabbing All Movie IDs"
   ]
  },
  {
   "cell_type": "code",
   "execution_count": 2,
   "metadata": {},
   "outputs": [],
   "source": [
    "TMBD_API_KEY = os.getenv('TMBD_API_KEY')\n",
    "YEARS = [2022, 2023]"
   ]
  },
  {
   "cell_type": "markdown",
   "metadata": {},
   "source": [
    "# Writing all IDs to CSV file"
   ]
  },
  {
   "cell_type": "code",
   "execution_count": 3,
   "metadata": {},
   "outputs": [
    {
     "name": "stdout",
     "output_type": "stream",
     "text": [
      "['885303', '1028703', '872542', '799155', '76600', '965571', '843380', '315162', '949567', '949697', '951546', '361743', '624091', '610150', '934194', '508947', '414906', '507086', '942012', '505642', '675353', '436270', '438148', '610411', '585083', '818647', '995906', '616037', '851644', '829557', '983507', '985939', '1187998', '829560', '766507', '453395', '585511', '406759', '338953', '916224', '718930', '879957', '779782', '783675', '661374', '1001835', '545611', '1015908', '774825', '966220', '615777', '888001', '836225', '942881', '818893', '856433', '663712', '760104', '988591', '900667', '744276', '833326', '335787', '799379', '619979', '615173', '937895', '864101', '606870', '1020969', '49046', '601796', '854006', '717728', '646385', '536554', '830784', '629542', '876792', '539681', '1017794', '526896', '518896', '1008148', '668482', '736526', '785084', '752623', '457232', '882598', '642885', '338958', '760161', '864231', '698508', '893712', '614934', '705996', '804095', '945675']\n",
      "['940551', '792307', '1072790', '787699', '984249', '609681', '949429', '1211483', '1022796', '872585', '572802', '799710', '838240', '1079394', '980137', '1029575', '508883', '753342', '1046090', '1078012', '467244', '880100', '466420', '346698', '385687', '944401', '1183905', '502356', '695721', '915935', '940721', '667538', '982940', '1115377', '569094', '897087', '976573', '1075794', '906126', '976893', '901362', '676727', '299054', '848326', '1010581', '1101582', '670292', '615656', '1189798', '603692', '1042279', '507089', '575264', '1105832', '1207413', '666277', '840430', '447365', '926393', '899445', '298618', '967585', '964592', '1058694', '980489', '893723', '1056360', '678512', '968051', '565770', '891699', '447277', '758323', '927107', '1071215', '459003', '762430', '1008042', '1053592', '335977', '520758', '999087', '988078', '951491', '979097', '955659', '1058634', '496450', '365620', '842675', '1076364', '1168733', '614930', '994108', '1151534', '1040148', '640146', '677179', '882569', '1061855']\n"
     ]
    }
   ],
   "source": [
    "for year in YEARS:\n",
    "    # Grab list of ids for all films made in {YEAR}\n",
    "    movie_list = get_id_list(TMBD_API_KEY, year)\n",
    "    print(movie_list)\n",
    "\n",
    "    FILE_NAME = f'./data/{year}_movie_collection_data.csv'\n",
    "\n",
    "    # Creating file\n",
    "    with open(FILE_NAME, 'w') as f:\n",
    "        writer = csv.writer(f)\n",
    "\n",
    "    # Iterate through list of ids to get data\n",
    "    for id in movie_list:\n",
    "        text = get_data(TMBD_API_KEY, id)\n",
    "        write_file(FILE_NAME, text)"
   ]
  },
  {
   "cell_type": "markdown",
   "metadata": {},
   "source": [
    "# Random Testing"
   ]
  },
  {
   "cell_type": "code",
   "execution_count": 8,
   "metadata": {},
   "outputs": [
    {
     "name": "stdout",
     "output_type": "stream",
     "text": [
      "False\n",
      "Ruthless\n",
      "Ruthless refers to a lack of conscience or empathy.\n",
      "Ruthless may also refer to:\n",
      "\n",
      "Music\n",
      "Ruthless!, a 1992 musical\n",
      "Ruthless (Ace Hood album), 2009\n",
      "Ruthless (Bizzy Bone album), 2008\n",
      "Ruthless (Gary Allan album), 2021\n",
      "Ruthless Records, a hip hop record label\n",
      "Ruthless Records (Chicago), a punk record label\n",
      "\n",
      "Other uses\n",
      "Ruthless (1948 film), a 1948 film starring Zachary Scott\n",
      "Ruthless (2023 film), a 2023 film starring Dermot Mulroney\n",
      "Ruthless (horse), a racehorse\n",
      "Ruthless (novel), a Pretty Little Liars novel by Sara Shepard\n",
      "Ruthless: Scientology, My Son David Miscavige, and Me, a 2016 book by Ron Miscavige and Dan Koon\n",
      "Ruthless (TV series), TV series premiered 2020, by Tyler Perry\n",
      "\n",
      "See also\n",
      "Ruthless Stakes, a horse race run at Aqueduct Racetrack\n",
      "Tom Clancy's ruthless.com, a computer game\n"
     ]
    }
   ],
   "source": [
    "import wikipediaapi\n",
    "\n",
    "title = 'Ruthless'\n",
    "\n",
    "wiki_wiki = wikipediaapi.Wikipedia(\n",
    "    user_agent='FilmBot (ed.izaguirre@pm.me)',\n",
    "    language='en',\n",
    "    extract_format=wikipediaapi.ExtractFormat.WIKI\n",
    ")\n",
    "\n",
    "p_wiki = wiki_wiki.page(title)\n",
    "\n",
    "is_disambiguation = p_wiki.title.endswith(\"(disambiguation)\")\n",
    "print(is_disambiguation)\n",
    "\n",
    "print(p_wiki.title)\n",
    "print(p_wiki.text)"
   ]
  },
  {
   "cell_type": "code",
   "execution_count": null,
   "metadata": {},
   "outputs": [],
   "source": []
  },
  {
   "cell_type": "code",
   "execution_count": null,
   "metadata": {},
   "outputs": [],
   "source": []
  }
 ],
 "metadata": {
  "kernelspec": {
   "display_name": "FilmBot",
   "language": "python",
   "name": "python3"
  },
  "language_info": {
   "codemirror_mode": {
    "name": "ipython",
    "version": 3
   },
   "file_extension": ".py",
   "mimetype": "text/x-python",
   "name": "python",
   "nbconvert_exporter": "python",
   "pygments_lexer": "ipython3",
   "version": "3.12.2"
  }
 },
 "nbformat": 4,
 "nbformat_minor": 2
}
